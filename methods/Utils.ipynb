{
  "nbformat": 4,
  "nbformat_minor": 0,
  "metadata": {
    "colab": {
      "name": "Utils.ipynb",
      "provenance": [],
      "authorship_tag": "ABX9TyO8xuHlf98FjRYie88A/Nuy",
      "include_colab_link": true
    },
    "kernelspec": {
      "name": "python3",
      "display_name": "Python 3"
    },
    "language_info": {
      "name": "python"
    }
  },
  "cells": [
    {
      "cell_type": "markdown",
      "metadata": {
        "id": "view-in-github",
        "colab_type": "text"
      },
      "source": [
        "<a href=\"https://colab.research.google.com/github/kryuchkovdm/Distillation/blob/master/methods/Utils.ipynb\" target=\"_parent\"><img src=\"https://colab.research.google.com/assets/colab-badge.svg\" alt=\"Open In Colab\"/></a>"
      ]
    },
    {
      "cell_type": "code",
      "metadata": {
        "id": "Du80XF5fF4vP"
      },
      "source": [
        "import torch.nn.utils.prune as prune\n",
        "from contextlib import contextmanager"
      ],
      "execution_count": null,
      "outputs": []
    },
    {
      "cell_type": "code",
      "metadata": {
        "id": "rAQ7tIUoDkZf"
      },
      "source": [
        "def get_intent_dataset(path):\n",
        "  intents_list = []\n",
        "  dialogs_list = []\n",
        "  dialog = ''\n",
        "  files = os.listdir(path)\n",
        "  for dialogs in tqdm(files):\n",
        "    with open(path+dialogs, \"r\") as read_file:\n",
        "      data = json.load(read_file)\n",
        "    if len(data)%2==1:\n",
        "      data = data[0:len(data)-1]\n",
        "    for i in data:\n",
        "      r = json.dumps(i)\n",
        "      loaded_r = json.loads(r)\n",
        "      try:\n",
        "        for num, intent in enumerate(loaded_r['turns']):\n",
        "          if num%2!=0:\n",
        "            dialog = dialog + ' ' + intent['utterance']\n",
        "            dialogs_list.append(dialog)\n",
        "          else:\n",
        "            dialog = ''\n",
        "            intents_list.append(intent['frames'][0]['state']['active_intent'])\n",
        "            dialog = intent['utterance']\n",
        "      except:\n",
        "        continue\n",
        "  return dialogs_list, intents_list"
      ],
      "execution_count": null,
      "outputs": []
    },
    {
      "cell_type": "code",
      "metadata": {
        "id": "bU050nbhDsV9"
      },
      "source": [
        "@memory.cache(ignore=[\"teacher\"]) \n",
        "def dataframe_to_dataset(df, teacher):\n",
        "    max_len = 128\n",
        "    features = tokenizer.batch_encode_plus(df.title.values.tolist(),\n",
        "                                           max_length=max_len,\n",
        "                                           pad_to_max_length=True,\n",
        "                                           return_attention_mask=True,\n",
        "                                           return_token_type_ids=True,\n",
        "                                           return_tensors=\"pt\")\n",
        "\n",
        "    pre_dataset = TensorDataset(features[\"input_ids\"],\n",
        "                                features[\"attention_mask\"],\n",
        "                                features[\"token_type_ids\"])\n",
        "    teacher.to(device)\n",
        "    teacher.eval()\n",
        "    teacher_predictions = []\n",
        "    for batch in tqdm(DataLoader(pre_dataset, batch_size=32, shuffle=False)):\n",
        "        batch = tuple([b.to(device) for b in batch])\n",
        "        inputs = {\"input_ids\": batch[0], \"attention_mask\": batch[1]}\n",
        "        if teacher.base_model_prefix == \"bert\":\n",
        "            inputs[\"token_type_ids\"] = batch[2]\n",
        "        with torch.no_grad():\n",
        "            outputs = teacher(**inputs)\n",
        "        teacher_predictions.append(outputs[0].to(torch.device(\"cpu\")))  # put back on CPU\n",
        "\n",
        "    dataset = TensorDataset(features[\"input_ids\"],\n",
        "                            features[\"attention_mask\"],\n",
        "                            features[\"token_type_ids\"],\n",
        "                            torch.tensor(df.label.astype(\"int\").to_numpy(), dtype=torch.long),\n",
        "                            torch.cat(teacher_predictions, axis=0))\n",
        "\n",
        "\n",
        "    return dataset"
      ],
      "execution_count": null,
      "outputs": []
    },
    {
      "cell_type": "code",
      "metadata": {
        "id": "sCqrXKm2FgtL"
      },
      "source": [
        "def print_size_of_model(model):\n",
        "    torch.save(model.state_dict(), \"temp.p\")\n",
        "    print('Size (MB):', os.path.getsize(\"temp.p\")/1e6)\n",
        "    os.remove('temp.p')"
      ],
      "execution_count": null,
      "outputs": []
    },
    {
      "cell_type": "code",
      "metadata": {
        "id": "omBVEE4aFhYZ"
      },
      "source": [
        "@contextmanager\n",
        "def single_thread():  \n",
        "    num = torch.get_num_threads()\n",
        "    torch.set_num_threads(1)\n",
        "    yield\n",
        "    torch.set_num_threads(num)"
      ],
      "execution_count": null,
      "outputs": []
    },
    {
      "cell_type": "code",
      "metadata": {
        "id": "PbDuNA1VFjpZ"
      },
      "source": [
        "def predict(model,text):\n",
        "        max_len = 128\n",
        "        l = []\n",
        "        l.append(text)\n",
        "        features = tokenizer.batch_encode_plus(l,\n",
        "                                           max_length=max_len,\n",
        "                                           pad_to_max_length=True,\n",
        "                                           return_attention_mask=True,\n",
        "                                           return_token_type_ids=True,\n",
        "                                           return_tensors=\"pt\")\n",
        "        output = model(features['input_ids'].to(device))\n",
        "        pred = F.softmax( output, dim=1 )\n",
        "        ids = pred.argsort(1)[0].tolist()\n",
        "        ids.reverse()\n",
        "        return [(category_index_reverce[id], pred.tolist()[0][id]) for id in ids[:3]]"
      ],
      "execution_count": null,
      "outputs": []
    },
    {
      "cell_type": "code",
      "metadata": {
        "id": "2exDpesWFsIo"
      },
      "source": [
        "def calc_weights(model):\n",
        "    result = 0\n",
        "    for layer in model.children():\n",
        "        result += len(layer.weight.reshape(-1))\n",
        "    return result"
      ],
      "execution_count": null,
      "outputs": []
    },
    {
      "cell_type": "code",
      "metadata": {
        "id": "oHGFnOBpFswe"
      },
      "source": [
        "def calc_pruned_weights(model):\n",
        "    result = 0\n",
        "    for layer in model.children():\n",
        "        result += torch.sum(layer._mask.weight.reshape(-1))\n",
        "    return int(result.item())"
      ],
      "execution_count": null,
      "outputs": []
    },
    {
      "cell_type": "code",
      "metadata": {
        "id": "jywWGahTFub1"
      },
      "source": [
        "def calc_pytorch_weights(model):\n",
        "    result = 0\n",
        "    for layer in model.children():\n",
        "      try:\n",
        "        if hasattr(layer, 'weight_mask'):\n",
        "            result += int(torch.sum(layer.weight_mask.reshape(-1)).item())\n",
        "        else:\n",
        "            result += len(layer.weight.reshape(-1))\n",
        "      except:\n",
        "        continue\n",
        "    return result"
      ],
      "execution_count": null,
      "outputs": []
    }
  ]
}