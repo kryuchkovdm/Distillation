{
  "nbformat": 4,
  "nbformat_minor": 0,
  "metadata": {
    "accelerator": "GPU",
    "colab": {
      "name": "main",
      "provenance": [],
      "collapsed_sections": [],
      "toc_visible": true,
      "include_colab_link": true
    },
    "kernelspec": {
      "display_name": "Python 3",
      "name": "python3"
    },
    "widgets": {
      "application/vnd.jupyter.widget-state+json": {
        "76926cc9a3174e1cb65bdab553a7ab8d": {
          "model_module": "@jupyter-widgets/controls",
          "model_name": "HBoxModel",
          "state": {
            "_view_name": "HBoxView",
            "_dom_classes": [],
            "_model_name": "HBoxModel",
            "_view_module": "@jupyter-widgets/controls",
            "_model_module_version": "1.5.0",
            "_view_count": null,
            "_view_module_version": "1.5.0",
            "box_style": "",
            "layout": "IPY_MODEL_f1bc1d2b566f4641a13f6d81683fbe64",
            "_model_module": "@jupyter-widgets/controls",
            "children": [
              "IPY_MODEL_789be23c229f449abe4060fef1094c3c",
              "IPY_MODEL_21d2056d7f114428ae113b149fed6c72"
            ]
          }
        },
        "f1bc1d2b566f4641a13f6d81683fbe64": {
          "model_module": "@jupyter-widgets/base",
          "model_name": "LayoutModel",
          "state": {
            "_view_name": "LayoutView",
            "grid_template_rows": null,
            "right": null,
            "justify_content": null,
            "_view_module": "@jupyter-widgets/base",
            "overflow": null,
            "_model_module_version": "1.2.0",
            "_view_count": null,
            "flex_flow": null,
            "width": null,
            "min_width": null,
            "border": null,
            "align_items": null,
            "bottom": null,
            "_model_module": "@jupyter-widgets/base",
            "top": null,
            "grid_column": null,
            "overflow_y": null,
            "overflow_x": null,
            "grid_auto_flow": null,
            "grid_area": null,
            "grid_template_columns": null,
            "flex": null,
            "_model_name": "LayoutModel",
            "justify_items": null,
            "grid_row": null,
            "max_height": null,
            "align_content": null,
            "visibility": null,
            "align_self": null,
            "height": null,
            "min_height": null,
            "padding": null,
            "grid_auto_rows": null,
            "grid_gap": null,
            "max_width": null,
            "order": null,
            "_view_module_version": "1.2.0",
            "grid_template_areas": null,
            "object_position": null,
            "object_fit": null,
            "grid_auto_columns": null,
            "margin": null,
            "display": null,
            "left": null
          }
        },
        "789be23c229f449abe4060fef1094c3c": {
          "model_module": "@jupyter-widgets/controls",
          "model_name": "FloatProgressModel",
          "state": {
            "_view_name": "ProgressView",
            "style": "IPY_MODEL_5f93fdc5390b4aaf8bd6d7d35b6334a4",
            "_dom_classes": [],
            "description": "Downloading: 100%",
            "_model_name": "FloatProgressModel",
            "bar_style": "success",
            "max": 466,
            "_view_module": "@jupyter-widgets/controls",
            "_model_module_version": "1.5.0",
            "value": 466,
            "_view_count": null,
            "_view_module_version": "1.5.0",
            "orientation": "horizontal",
            "min": 0,
            "description_tooltip": null,
            "_model_module": "@jupyter-widgets/controls",
            "layout": "IPY_MODEL_afb6ed0a596e426b829d4f7d56a0d4db"
          }
        },
        "21d2056d7f114428ae113b149fed6c72": {
          "model_module": "@jupyter-widgets/controls",
          "model_name": "HTMLModel",
          "state": {
            "_view_name": "HTMLView",
            "style": "IPY_MODEL_241e9851a72b4150bfaa13f14a50da7d",
            "_dom_classes": [],
            "description": "",
            "_model_name": "HTMLModel",
            "placeholder": "​",
            "_view_module": "@jupyter-widgets/controls",
            "_model_module_version": "1.5.0",
            "value": " 466/466 [17:53&lt;00:00, 2.30s/B]",
            "_view_count": null,
            "_view_module_version": "1.5.0",
            "description_tooltip": null,
            "_model_module": "@jupyter-widgets/controls",
            "layout": "IPY_MODEL_c61cbd88cdd743538b457c8d5991d3e0"
          }
        },
        "5f93fdc5390b4aaf8bd6d7d35b6334a4": {
          "model_module": "@jupyter-widgets/controls",
          "model_name": "ProgressStyleModel",
          "state": {
            "_view_name": "StyleView",
            "_model_name": "ProgressStyleModel",
            "description_width": "initial",
            "_view_module": "@jupyter-widgets/base",
            "_model_module_version": "1.5.0",
            "_view_count": null,
            "_view_module_version": "1.2.0",
            "bar_color": null,
            "_model_module": "@jupyter-widgets/controls"
          }
        },
        "afb6ed0a596e426b829d4f7d56a0d4db": {
          "model_module": "@jupyter-widgets/base",
          "model_name": "LayoutModel",
          "state": {
            "_view_name": "LayoutView",
            "grid_template_rows": null,
            "right": null,
            "justify_content": null,
            "_view_module": "@jupyter-widgets/base",
            "overflow": null,
            "_model_module_version": "1.2.0",
            "_view_count": null,
            "flex_flow": null,
            "width": null,
            "min_width": null,
            "border": null,
            "align_items": null,
            "bottom": null,
            "_model_module": "@jupyter-widgets/base",
            "top": null,
            "grid_column": null,
            "overflow_y": null,
            "overflow_x": null,
            "grid_auto_flow": null,
            "grid_area": null,
            "grid_template_columns": null,
            "flex": null,
            "_model_name": "LayoutModel",
            "justify_items": null,
            "grid_row": null,
            "max_height": null,
            "align_content": null,
            "visibility": null,
            "align_self": null,
            "height": null,
            "min_height": null,
            "padding": null,
            "grid_auto_rows": null,
            "grid_gap": null,
            "max_width": null,
            "order": null,
            "_view_module_version": "1.2.0",
            "grid_template_areas": null,
            "object_position": null,
            "object_fit": null,
            "grid_auto_columns": null,
            "margin": null,
            "display": null,
            "left": null
          }
        },
        "241e9851a72b4150bfaa13f14a50da7d": {
          "model_module": "@jupyter-widgets/controls",
          "model_name": "DescriptionStyleModel",
          "state": {
            "_view_name": "StyleView",
            "_model_name": "DescriptionStyleModel",
            "description_width": "",
            "_view_module": "@jupyter-widgets/base",
            "_model_module_version": "1.5.0",
            "_view_count": null,
            "_view_module_version": "1.2.0",
            "_model_module": "@jupyter-widgets/controls"
          }
        },
        "c61cbd88cdd743538b457c8d5991d3e0": {
          "model_module": "@jupyter-widgets/base",
          "model_name": "LayoutModel",
          "state": {
            "_view_name": "LayoutView",
            "grid_template_rows": null,
            "right": null,
            "justify_content": null,
            "_view_module": "@jupyter-widgets/base",
            "overflow": null,
            "_model_module_version": "1.2.0",
            "_view_count": null,
            "flex_flow": null,
            "width": null,
            "min_width": null,
            "border": null,
            "align_items": null,
            "bottom": null,
            "_model_module": "@jupyter-widgets/base",
            "top": null,
            "grid_column": null,
            "overflow_y": null,
            "overflow_x": null,
            "grid_auto_flow": null,
            "grid_area": null,
            "grid_template_columns": null,
            "flex": null,
            "_model_name": "LayoutModel",
            "justify_items": null,
            "grid_row": null,
            "max_height": null,
            "align_content": null,
            "visibility": null,
            "align_self": null,
            "height": null,
            "min_height": null,
            "padding": null,
            "grid_auto_rows": null,
            "grid_gap": null,
            "max_width": null,
            "order": null,
            "_view_module_version": "1.2.0",
            "grid_template_areas": null,
            "object_position": null,
            "object_fit": null,
            "grid_auto_columns": null,
            "margin": null,
            "display": null,
            "left": null
          }
        },
        "b7893910b078471f966e34d8a7df9ae1": {
          "model_module": "@jupyter-widgets/controls",
          "model_name": "HBoxModel",
          "state": {
            "_view_name": "HBoxView",
            "_dom_classes": [],
            "_model_name": "HBoxModel",
            "_view_module": "@jupyter-widgets/controls",
            "_model_module_version": "1.5.0",
            "_view_count": null,
            "_view_module_version": "1.5.0",
            "box_style": "",
            "layout": "IPY_MODEL_14c30e84b28240b5993792ae8aa8e2cb",
            "_model_module": "@jupyter-widgets/controls",
            "children": [
              "IPY_MODEL_a19d3649167a46fabc080e2298415088",
              "IPY_MODEL_b147a76256ac4e4882469546231650df"
            ]
          }
        },
        "14c30e84b28240b5993792ae8aa8e2cb": {
          "model_module": "@jupyter-widgets/base",
          "model_name": "LayoutModel",
          "state": {
            "_view_name": "LayoutView",
            "grid_template_rows": null,
            "right": null,
            "justify_content": null,
            "_view_module": "@jupyter-widgets/base",
            "overflow": null,
            "_model_module_version": "1.2.0",
            "_view_count": null,
            "flex_flow": null,
            "width": null,
            "min_width": null,
            "border": null,
            "align_items": null,
            "bottom": null,
            "_model_module": "@jupyter-widgets/base",
            "top": null,
            "grid_column": null,
            "overflow_y": null,
            "overflow_x": null,
            "grid_auto_flow": null,
            "grid_area": null,
            "grid_template_columns": null,
            "flex": null,
            "_model_name": "LayoutModel",
            "justify_items": null,
            "grid_row": null,
            "max_height": null,
            "align_content": null,
            "visibility": null,
            "align_self": null,
            "height": null,
            "min_height": null,
            "padding": null,
            "grid_auto_rows": null,
            "grid_gap": null,
            "max_width": null,
            "order": null,
            "_view_module_version": "1.2.0",
            "grid_template_areas": null,
            "object_position": null,
            "object_fit": null,
            "grid_auto_columns": null,
            "margin": null,
            "display": null,
            "left": null
          }
        },
        "a19d3649167a46fabc080e2298415088": {
          "model_module": "@jupyter-widgets/controls",
          "model_name": "FloatProgressModel",
          "state": {
            "_view_name": "ProgressView",
            "style": "IPY_MODEL_05db2e90b361470f8ed0fd2bc5604f37",
            "_dom_classes": [],
            "description": "Downloading: 100%",
            "_model_name": "FloatProgressModel",
            "bar_style": "success",
            "max": 995526,
            "_view_module": "@jupyter-widgets/controls",
            "_model_module_version": "1.5.0",
            "value": 995526,
            "_view_count": null,
            "_view_module_version": "1.5.0",
            "orientation": "horizontal",
            "min": 0,
            "description_tooltip": null,
            "_model_module": "@jupyter-widgets/controls",
            "layout": "IPY_MODEL_eea29654cdfb48c6a313dd9cacb21fd7"
          }
        },
        "b147a76256ac4e4882469546231650df": {
          "model_module": "@jupyter-widgets/controls",
          "model_name": "HTMLModel",
          "state": {
            "_view_name": "HTMLView",
            "style": "IPY_MODEL_368a23323cd440958b5fcd25551d8761",
            "_dom_classes": [],
            "description": "",
            "_model_name": "HTMLModel",
            "placeholder": "​",
            "_view_module": "@jupyter-widgets/controls",
            "_model_module_version": "1.5.0",
            "value": " 996k/996k [00:00&lt;00:00, 6.67MB/s]",
            "_view_count": null,
            "_view_module_version": "1.5.0",
            "description_tooltip": null,
            "_model_module": "@jupyter-widgets/controls",
            "layout": "IPY_MODEL_4514f977a71648b5a061fc79cb375cc5"
          }
        },
        "05db2e90b361470f8ed0fd2bc5604f37": {
          "model_module": "@jupyter-widgets/controls",
          "model_name": "ProgressStyleModel",
          "state": {
            "_view_name": "StyleView",
            "_model_name": "ProgressStyleModel",
            "description_width": "initial",
            "_view_module": "@jupyter-widgets/base",
            "_model_module_version": "1.5.0",
            "_view_count": null,
            "_view_module_version": "1.2.0",
            "bar_color": null,
            "_model_module": "@jupyter-widgets/controls"
          }
        },
        "eea29654cdfb48c6a313dd9cacb21fd7": {
          "model_module": "@jupyter-widgets/base",
          "model_name": "LayoutModel",
          "state": {
            "_view_name": "LayoutView",
            "grid_template_rows": null,
            "right": null,
            "justify_content": null,
            "_view_module": "@jupyter-widgets/base",
            "overflow": null,
            "_model_module_version": "1.2.0",
            "_view_count": null,
            "flex_flow": null,
            "width": null,
            "min_width": null,
            "border": null,
            "align_items": null,
            "bottom": null,
            "_model_module": "@jupyter-widgets/base",
            "top": null,
            "grid_column": null,
            "overflow_y": null,
            "overflow_x": null,
            "grid_auto_flow": null,
            "grid_area": null,
            "grid_template_columns": null,
            "flex": null,
            "_model_name": "LayoutModel",
            "justify_items": null,
            "grid_row": null,
            "max_height": null,
            "align_content": null,
            "visibility": null,
            "align_self": null,
            "height": null,
            "min_height": null,
            "padding": null,
            "grid_auto_rows": null,
            "grid_gap": null,
            "max_width": null,
            "order": null,
            "_view_module_version": "1.2.0",
            "grid_template_areas": null,
            "object_position": null,
            "object_fit": null,
            "grid_auto_columns": null,
            "margin": null,
            "display": null,
            "left": null
          }
        },
        "368a23323cd440958b5fcd25551d8761": {
          "model_module": "@jupyter-widgets/controls",
          "model_name": "DescriptionStyleModel",
          "state": {
            "_view_name": "StyleView",
            "_model_name": "DescriptionStyleModel",
            "description_width": "",
            "_view_module": "@jupyter-widgets/base",
            "_model_module_version": "1.5.0",
            "_view_count": null,
            "_view_module_version": "1.2.0",
            "_model_module": "@jupyter-widgets/controls"
          }
        },
        "4514f977a71648b5a061fc79cb375cc5": {
          "model_module": "@jupyter-widgets/base",
          "model_name": "LayoutModel",
          "state": {
            "_view_name": "LayoutView",
            "grid_template_rows": null,
            "right": null,
            "justify_content": null,
            "_view_module": "@jupyter-widgets/base",
            "overflow": null,
            "_model_module_version": "1.2.0",
            "_view_count": null,
            "flex_flow": null,
            "width": null,
            "min_width": null,
            "border": null,
            "align_items": null,
            "bottom": null,
            "_model_module": "@jupyter-widgets/base",
            "top": null,
            "grid_column": null,
            "overflow_y": null,
            "overflow_x": null,
            "grid_auto_flow": null,
            "grid_area": null,
            "grid_template_columns": null,
            "flex": null,
            "_model_name": "LayoutModel",
            "justify_items": null,
            "grid_row": null,
            "max_height": null,
            "align_content": null,
            "visibility": null,
            "align_self": null,
            "height": null,
            "min_height": null,
            "padding": null,
            "grid_auto_rows": null,
            "grid_gap": null,
            "max_width": null,
            "order": null,
            "_view_module_version": "1.2.0",
            "grid_template_areas": null,
            "object_position": null,
            "object_fit": null,
            "grid_auto_columns": null,
            "margin": null,
            "display": null,
            "left": null
          }
        },
        "0c08ea50c240473dbee48b4a74308adf": {
          "model_module": "@jupyter-widgets/controls",
          "model_name": "HBoxModel",
          "state": {
            "_view_name": "HBoxView",
            "_dom_classes": [],
            "_model_name": "HBoxModel",
            "_view_module": "@jupyter-widgets/controls",
            "_model_module_version": "1.5.0",
            "_view_count": null,
            "_view_module_version": "1.5.0",
            "box_style": "",
            "layout": "IPY_MODEL_cdc1c07ee4dc4fd7a46557454776e2d9",
            "_model_module": "@jupyter-widgets/controls",
            "children": [
              "IPY_MODEL_e95b95914c724f57981223f08cbb0354",
              "IPY_MODEL_eaffb654724a49f9a81788ef7d783468"
            ]
          }
        },
        "cdc1c07ee4dc4fd7a46557454776e2d9": {
          "model_module": "@jupyter-widgets/base",
          "model_name": "LayoutModel",
          "state": {
            "_view_name": "LayoutView",
            "grid_template_rows": null,
            "right": null,
            "justify_content": null,
            "_view_module": "@jupyter-widgets/base",
            "overflow": null,
            "_model_module_version": "1.2.0",
            "_view_count": null,
            "flex_flow": null,
            "width": null,
            "min_width": null,
            "border": null,
            "align_items": null,
            "bottom": null,
            "_model_module": "@jupyter-widgets/base",
            "top": null,
            "grid_column": null,
            "overflow_y": null,
            "overflow_x": null,
            "grid_auto_flow": null,
            "grid_area": null,
            "grid_template_columns": null,
            "flex": null,
            "_model_name": "LayoutModel",
            "justify_items": null,
            "grid_row": null,
            "max_height": null,
            "align_content": null,
            "visibility": null,
            "align_self": null,
            "height": null,
            "min_height": null,
            "padding": null,
            "grid_auto_rows": null,
            "grid_gap": null,
            "max_width": null,
            "order": null,
            "_view_module_version": "1.2.0",
            "grid_template_areas": null,
            "object_position": null,
            "object_fit": null,
            "grid_auto_columns": null,
            "margin": null,
            "display": null,
            "left": null
          }
        },
        "e95b95914c724f57981223f08cbb0354": {
          "model_module": "@jupyter-widgets/controls",
          "model_name": "FloatProgressModel",
          "state": {
            "_view_name": "ProgressView",
            "style": "IPY_MODEL_f9328402bda14da29a0d18a818cbd9fe",
            "_dom_classes": [],
            "description": "Downloading: 100%",
            "_model_name": "FloatProgressModel",
            "bar_style": "success",
            "max": 1961828,
            "_view_module": "@jupyter-widgets/controls",
            "_model_module_version": "1.5.0",
            "value": 1961828,
            "_view_count": null,
            "_view_module_version": "1.5.0",
            "orientation": "horizontal",
            "min": 0,
            "description_tooltip": null,
            "_model_module": "@jupyter-widgets/controls",
            "layout": "IPY_MODEL_e87768a4f8e94b72bf7ab0a480b7b8db"
          }
        },
        "eaffb654724a49f9a81788ef7d783468": {
          "model_module": "@jupyter-widgets/controls",
          "model_name": "HTMLModel",
          "state": {
            "_view_name": "HTMLView",
            "style": "IPY_MODEL_4a5538f061f84d379678d8a2bdcee4f4",
            "_dom_classes": [],
            "description": "",
            "_model_name": "HTMLModel",
            "placeholder": "​",
            "_view_module": "@jupyter-widgets/controls",
            "_model_module_version": "1.5.0",
            "value": " 1.96M/1.96M [17:53&lt;00:00, 1.83kB/s]",
            "_view_count": null,
            "_view_module_version": "1.5.0",
            "description_tooltip": null,
            "_model_module": "@jupyter-widgets/controls",
            "layout": "IPY_MODEL_b12d464d404d46a98051141295103e7b"
          }
        },
        "f9328402bda14da29a0d18a818cbd9fe": {
          "model_module": "@jupyter-widgets/controls",
          "model_name": "ProgressStyleModel",
          "state": {
            "_view_name": "StyleView",
            "_model_name": "ProgressStyleModel",
            "description_width": "initial",
            "_view_module": "@jupyter-widgets/base",
            "_model_module_version": "1.5.0",
            "_view_count": null,
            "_view_module_version": "1.2.0",
            "bar_color": null,
            "_model_module": "@jupyter-widgets/controls"
          }
        },
        "e87768a4f8e94b72bf7ab0a480b7b8db": {
          "model_module": "@jupyter-widgets/base",
          "model_name": "LayoutModel",
          "state": {
            "_view_name": "LayoutView",
            "grid_template_rows": null,
            "right": null,
            "justify_content": null,
            "_view_module": "@jupyter-widgets/base",
            "overflow": null,
            "_model_module_version": "1.2.0",
            "_view_count": null,
            "flex_flow": null,
            "width": null,
            "min_width": null,
            "border": null,
            "align_items": null,
            "bottom": null,
            "_model_module": "@jupyter-widgets/base",
            "top": null,
            "grid_column": null,
            "overflow_y": null,
            "overflow_x": null,
            "grid_auto_flow": null,
            "grid_area": null,
            "grid_template_columns": null,
            "flex": null,
            "_model_name": "LayoutModel",
            "justify_items": null,
            "grid_row": null,
            "max_height": null,
            "align_content": null,
            "visibility": null,
            "align_self": null,
            "height": null,
            "min_height": null,
            "padding": null,
            "grid_auto_rows": null,
            "grid_gap": null,
            "max_width": null,
            "order": null,
            "_view_module_version": "1.2.0",
            "grid_template_areas": null,
            "object_position": null,
            "object_fit": null,
            "grid_auto_columns": null,
            "margin": null,
            "display": null,
            "left": null
          }
        },
        "4a5538f061f84d379678d8a2bdcee4f4": {
          "model_module": "@jupyter-widgets/controls",
          "model_name": "DescriptionStyleModel",
          "state": {
            "_view_name": "StyleView",
            "_model_name": "DescriptionStyleModel",
            "description_width": "",
            "_view_module": "@jupyter-widgets/base",
            "_model_module_version": "1.5.0",
            "_view_count": null,
            "_view_module_version": "1.2.0",
            "_model_module": "@jupyter-widgets/controls"
          }
        },
        "b12d464d404d46a98051141295103e7b": {
          "model_module": "@jupyter-widgets/base",
          "model_name": "LayoutModel",
          "state": {
            "_view_name": "LayoutView",
            "grid_template_rows": null,
            "right": null,
            "justify_content": null,
            "_view_module": "@jupyter-widgets/base",
            "overflow": null,
            "_model_module_version": "1.2.0",
            "_view_count": null,
            "flex_flow": null,
            "width": null,
            "min_width": null,
            "border": null,
            "align_items": null,
            "bottom": null,
            "_model_module": "@jupyter-widgets/base",
            "top": null,
            "grid_column": null,
            "overflow_y": null,
            "overflow_x": null,
            "grid_auto_flow": null,
            "grid_area": null,
            "grid_template_columns": null,
            "flex": null,
            "_model_name": "LayoutModel",
            "justify_items": null,
            "grid_row": null,
            "max_height": null,
            "align_content": null,
            "visibility": null,
            "align_self": null,
            "height": null,
            "min_height": null,
            "padding": null,
            "grid_auto_rows": null,
            "grid_gap": null,
            "max_width": null,
            "order": null,
            "_view_module_version": "1.2.0",
            "grid_template_areas": null,
            "object_position": null,
            "object_fit": null,
            "grid_auto_columns": null,
            "margin": null,
            "display": null,
            "left": null
          }
        },
        "20428f105405469ba1baa91cf32e3755": {
          "model_module": "@jupyter-widgets/controls",
          "model_name": "HBoxModel",
          "state": {
            "_view_name": "HBoxView",
            "_dom_classes": [],
            "_model_name": "HBoxModel",
            "_view_module": "@jupyter-widgets/controls",
            "_model_module_version": "1.5.0",
            "_view_count": null,
            "_view_module_version": "1.5.0",
            "box_style": "",
            "layout": "IPY_MODEL_71914c6daa354c62bb1e7ee93b043d5a",
            "_model_module": "@jupyter-widgets/controls",
            "children": [
              "IPY_MODEL_cb52fded8e7d42c59ab1914248344aa2",
              "IPY_MODEL_f07df90018e44048b49a751736e15efc"
            ]
          }
        },
        "71914c6daa354c62bb1e7ee93b043d5a": {
          "model_module": "@jupyter-widgets/base",
          "model_name": "LayoutModel",
          "state": {
            "_view_name": "LayoutView",
            "grid_template_rows": null,
            "right": null,
            "justify_content": null,
            "_view_module": "@jupyter-widgets/base",
            "overflow": null,
            "_model_module_version": "1.2.0",
            "_view_count": null,
            "flex_flow": null,
            "width": null,
            "min_width": null,
            "border": null,
            "align_items": null,
            "bottom": null,
            "_model_module": "@jupyter-widgets/base",
            "top": null,
            "grid_column": null,
            "overflow_y": null,
            "overflow_x": null,
            "grid_auto_flow": null,
            "grid_area": null,
            "grid_template_columns": null,
            "flex": null,
            "_model_name": "LayoutModel",
            "justify_items": null,
            "grid_row": null,
            "max_height": null,
            "align_content": null,
            "visibility": null,
            "align_self": null,
            "height": null,
            "min_height": null,
            "padding": null,
            "grid_auto_rows": null,
            "grid_gap": null,
            "max_width": null,
            "order": null,
            "_view_module_version": "1.2.0",
            "grid_template_areas": null,
            "object_position": null,
            "object_fit": null,
            "grid_auto_columns": null,
            "margin": null,
            "display": null,
            "left": null
          }
        },
        "cb52fded8e7d42c59ab1914248344aa2": {
          "model_module": "@jupyter-widgets/controls",
          "model_name": "FloatProgressModel",
          "state": {
            "_view_name": "ProgressView",
            "style": "IPY_MODEL_492058b6fcca4dc5a3d60dcd360d356d",
            "_dom_classes": [],
            "description": "Downloading: 100%",
            "_model_name": "FloatProgressModel",
            "bar_style": "success",
            "max": 29,
            "_view_module": "@jupyter-widgets/controls",
            "_model_module_version": "1.5.0",
            "value": 29,
            "_view_count": null,
            "_view_module_version": "1.5.0",
            "orientation": "horizontal",
            "min": 0,
            "description_tooltip": null,
            "_model_module": "@jupyter-widgets/controls",
            "layout": "IPY_MODEL_e49caeeb7c55406fbfc4e6746ec01e7c"
          }
        },
        "f07df90018e44048b49a751736e15efc": {
          "model_module": "@jupyter-widgets/controls",
          "model_name": "HTMLModel",
          "state": {
            "_view_name": "HTMLView",
            "style": "IPY_MODEL_f62788c29ddd448c8cd467a3946fcee8",
            "_dom_classes": [],
            "description": "",
            "_model_name": "HTMLModel",
            "placeholder": "​",
            "_view_module": "@jupyter-widgets/controls",
            "_model_module_version": "1.5.0",
            "value": " 29.0/29.0 [00:17&lt;00:00, 1.70B/s]",
            "_view_count": null,
            "_view_module_version": "1.5.0",
            "description_tooltip": null,
            "_model_module": "@jupyter-widgets/controls",
            "layout": "IPY_MODEL_54935d477c01403087839dae355555ba"
          }
        },
        "492058b6fcca4dc5a3d60dcd360d356d": {
          "model_module": "@jupyter-widgets/controls",
          "model_name": "ProgressStyleModel",
          "state": {
            "_view_name": "StyleView",
            "_model_name": "ProgressStyleModel",
            "description_width": "initial",
            "_view_module": "@jupyter-widgets/base",
            "_model_module_version": "1.5.0",
            "_view_count": null,
            "_view_module_version": "1.2.0",
            "bar_color": null,
            "_model_module": "@jupyter-widgets/controls"
          }
        },
        "e49caeeb7c55406fbfc4e6746ec01e7c": {
          "model_module": "@jupyter-widgets/base",
          "model_name": "LayoutModel",
          "state": {
            "_view_name": "LayoutView",
            "grid_template_rows": null,
            "right": null,
            "justify_content": null,
            "_view_module": "@jupyter-widgets/base",
            "overflow": null,
            "_model_module_version": "1.2.0",
            "_view_count": null,
            "flex_flow": null,
            "width": null,
            "min_width": null,
            "border": null,
            "align_items": null,
            "bottom": null,
            "_model_module": "@jupyter-widgets/base",
            "top": null,
            "grid_column": null,
            "overflow_y": null,
            "overflow_x": null,
            "grid_auto_flow": null,
            "grid_area": null,
            "grid_template_columns": null,
            "flex": null,
            "_model_name": "LayoutModel",
            "justify_items": null,
            "grid_row": null,
            "max_height": null,
            "align_content": null,
            "visibility": null,
            "align_self": null,
            "height": null,
            "min_height": null,
            "padding": null,
            "grid_auto_rows": null,
            "grid_gap": null,
            "max_width": null,
            "order": null,
            "_view_module_version": "1.2.0",
            "grid_template_areas": null,
            "object_position": null,
            "object_fit": null,
            "grid_auto_columns": null,
            "margin": null,
            "display": null,
            "left": null
          }
        },
        "f62788c29ddd448c8cd467a3946fcee8": {
          "model_module": "@jupyter-widgets/controls",
          "model_name": "DescriptionStyleModel",
          "state": {
            "_view_name": "StyleView",
            "_model_name": "DescriptionStyleModel",
            "description_width": "",
            "_view_module": "@jupyter-widgets/base",
            "_model_module_version": "1.5.0",
            "_view_count": null,
            "_view_module_version": "1.2.0",
            "_model_module": "@jupyter-widgets/controls"
          }
        },
        "54935d477c01403087839dae355555ba": {
          "model_module": "@jupyter-widgets/base",
          "model_name": "LayoutModel",
          "state": {
            "_view_name": "LayoutView",
            "grid_template_rows": null,
            "right": null,
            "justify_content": null,
            "_view_module": "@jupyter-widgets/base",
            "overflow": null,
            "_model_module_version": "1.2.0",
            "_view_count": null,
            "flex_flow": null,
            "width": null,
            "min_width": null,
            "border": null,
            "align_items": null,
            "bottom": null,
            "_model_module": "@jupyter-widgets/base",
            "top": null,
            "grid_column": null,
            "overflow_y": null,
            "overflow_x": null,
            "grid_auto_flow": null,
            "grid_area": null,
            "grid_template_columns": null,
            "flex": null,
            "_model_name": "LayoutModel",
            "justify_items": null,
            "grid_row": null,
            "max_height": null,
            "align_content": null,
            "visibility": null,
            "align_self": null,
            "height": null,
            "min_height": null,
            "padding": null,
            "grid_auto_rows": null,
            "grid_gap": null,
            "max_width": null,
            "order": null,
            "_view_module_version": "1.2.0",
            "grid_template_areas": null,
            "object_position": null,
            "object_fit": null,
            "grid_auto_columns": null,
            "margin": null,
            "display": null,
            "left": null
          }
        }
      }
    }
  },
  "cells": [
    {
      "cell_type": "markdown",
      "metadata": {
        "id": "view-in-github",
        "colab_type": "text"
      },
      "source": [
        "<a href=\"https://colab.research.google.com/github/kryuchkovdm/Distillation/blob/master/program/main.ipynb\" target=\"_parent\"><img src=\"https://colab.research.google.com/assets/colab-badge.svg\" alt=\"Open In Colab\"/></a>"
      ]
    },
    {
      "cell_type": "markdown",
      "metadata": {
        "id": "hcuogIG4OTOt"
      },
      "source": [
        "##Библиотеки"
      ]
    },
    {
      "cell_type": "code",
      "metadata": {
        "colab": {
          "base_uri": "https://localhost:8080/"
        },
        "id": "1T8SM4q2SrD8",
        "outputId": "4f1268d3-e531-427a-b332-4a6dcdefb23f"
      },
      "source": [
        "!pip install torch transformers pandas tqdm altair joblib sklearn"
      ],
      "execution_count": null,
      "outputs": [
        {
          "output_type": "stream",
          "text": [
            "Requirement already satisfied: torch in /usr/local/lib/python3.7/dist-packages (1.8.1+cu101)\n",
            "Collecting transformers\n",
            "\u001b[?25l  Downloading https://files.pythonhosted.org/packages/d8/b2/57495b5309f09fa501866e225c84532d1fd89536ea62406b2181933fb418/transformers-4.5.1-py3-none-any.whl (2.1MB)\n",
            "\u001b[K     |████████████████████████████████| 2.1MB 21.0MB/s \n",
            "\u001b[?25hRequirement already satisfied: pandas in /usr/local/lib/python3.7/dist-packages (1.1.5)\n",
            "Requirement already satisfied: tqdm in /usr/local/lib/python3.7/dist-packages (4.41.1)\n",
            "Requirement already satisfied: altair in /usr/local/lib/python3.7/dist-packages (4.1.0)\n",
            "Requirement already satisfied: joblib in /usr/local/lib/python3.7/dist-packages (1.0.1)\n",
            "Requirement already satisfied: sklearn in /usr/local/lib/python3.7/dist-packages (0.0)\n",
            "Requirement already satisfied: typing-extensions in /usr/local/lib/python3.7/dist-packages (from torch) (3.7.4.3)\n",
            "Requirement already satisfied: numpy in /usr/local/lib/python3.7/dist-packages (from torch) (1.19.5)\n",
            "Requirement already satisfied: requests in /usr/local/lib/python3.7/dist-packages (from transformers) (2.23.0)\n",
            "Requirement already satisfied: packaging in /usr/local/lib/python3.7/dist-packages (from transformers) (20.9)\n",
            "Requirement already satisfied: importlib-metadata; python_version < \"3.8\" in /usr/local/lib/python3.7/dist-packages (from transformers) (3.10.1)\n",
            "Collecting sacremoses\n",
            "\u001b[?25l  Downloading https://files.pythonhosted.org/packages/75/ee/67241dc87f266093c533a2d4d3d69438e57d7a90abb216fa076e7d475d4a/sacremoses-0.0.45-py3-none-any.whl (895kB)\n",
            "\u001b[K     |████████████████████████████████| 901kB 50.4MB/s \n",
            "\u001b[?25hCollecting tokenizers<0.11,>=0.10.1\n",
            "\u001b[?25l  Downloading https://files.pythonhosted.org/packages/ae/04/5b870f26a858552025a62f1649c20d29d2672c02ff3c3fb4c688ca46467a/tokenizers-0.10.2-cp37-cp37m-manylinux2010_x86_64.whl (3.3MB)\n",
            "\u001b[K     |████████████████████████████████| 3.3MB 53.9MB/s \n",
            "\u001b[?25hRequirement already satisfied: regex!=2019.12.17 in /usr/local/lib/python3.7/dist-packages (from transformers) (2019.12.20)\n",
            "Requirement already satisfied: filelock in /usr/local/lib/python3.7/dist-packages (from transformers) (3.0.12)\n",
            "Requirement already satisfied: python-dateutil>=2.7.3 in /usr/local/lib/python3.7/dist-packages (from pandas) (2.8.1)\n",
            "Requirement already satisfied: pytz>=2017.2 in /usr/local/lib/python3.7/dist-packages (from pandas) (2018.9)\n",
            "Requirement already satisfied: jinja2 in /usr/local/lib/python3.7/dist-packages (from altair) (2.11.3)\n",
            "Requirement already satisfied: entrypoints in /usr/local/lib/python3.7/dist-packages (from altair) (0.3)\n",
            "Requirement already satisfied: jsonschema in /usr/local/lib/python3.7/dist-packages (from altair) (2.6.0)\n",
            "Requirement already satisfied: toolz in /usr/local/lib/python3.7/dist-packages (from altair) (0.11.1)\n",
            "Requirement already satisfied: scikit-learn in /usr/local/lib/python3.7/dist-packages (from sklearn) (0.22.2.post1)\n",
            "Requirement already satisfied: certifi>=2017.4.17 in /usr/local/lib/python3.7/dist-packages (from requests->transformers) (2020.12.5)\n",
            "Requirement already satisfied: chardet<4,>=3.0.2 in /usr/local/lib/python3.7/dist-packages (from requests->transformers) (3.0.4)\n",
            "Requirement already satisfied: urllib3!=1.25.0,!=1.25.1,<1.26,>=1.21.1 in /usr/local/lib/python3.7/dist-packages (from requests->transformers) (1.24.3)\n",
            "Requirement already satisfied: idna<3,>=2.5 in /usr/local/lib/python3.7/dist-packages (from requests->transformers) (2.10)\n",
            "Requirement already satisfied: pyparsing>=2.0.2 in /usr/local/lib/python3.7/dist-packages (from packaging->transformers) (2.4.7)\n",
            "Requirement already satisfied: zipp>=0.5 in /usr/local/lib/python3.7/dist-packages (from importlib-metadata; python_version < \"3.8\"->transformers) (3.4.1)\n",
            "Requirement already satisfied: six in /usr/local/lib/python3.7/dist-packages (from sacremoses->transformers) (1.15.0)\n",
            "Requirement already satisfied: click in /usr/local/lib/python3.7/dist-packages (from sacremoses->transformers) (7.1.2)\n",
            "Requirement already satisfied: MarkupSafe>=0.23 in /usr/local/lib/python3.7/dist-packages (from jinja2->altair) (1.1.1)\n",
            "Requirement already satisfied: scipy>=0.17.0 in /usr/local/lib/python3.7/dist-packages (from scikit-learn->sklearn) (1.4.1)\n",
            "Installing collected packages: sacremoses, tokenizers, transformers\n",
            "Successfully installed sacremoses-0.0.45 tokenizers-0.10.2 transformers-4.5.1\n"
          ],
          "name": "stdout"
        }
      ]
    },
    {
      "cell_type": "code",
      "metadata": {
        "id": "tKhjpP3sHljm"
      },
      "source": [
        "import numpy as np\n",
        "import pandas as pd\n",
        "import torch\n",
        "import torch.nn as nn\n",
        "import torch.nn.functional as F\n",
        "import altair as alt\n",
        "from pathlib import Path\n",
        "from joblib import Memory\n",
        "from sklearn.metrics import f1_score\n",
        "from tqdm import tqdm\n",
        "from torch.utils.data import DataLoader, TensorDataset\n",
        "from transformers import AutoTokenizer, AutoModelForSequenceClassification, AutoConfig, DistilBertForSequenceClassification, AdamW"
      ],
      "execution_count": null,
      "outputs": []
    },
    {
      "cell_type": "code",
      "metadata": {
        "id": "u1g-T6dIF5kd"
      },
      "source": [
        "from sklearn.model_selection import train_test_split\n",
        "from sklearn.metrics import classification_report\n",
        "from torch.utils.data import (TensorDataset,\n",
        "                              DataLoader,\n",
        "                              RandomSampler)\n",
        "\n",
        "from keras.preprocessing.sequence import pad_sequences\n",
        "import os\n",
        "from torch.quantization import QuantStub, DeQuantStub\n",
        "import random \n",
        "import matplotlib.pyplot as plt\n",
        "\n",
        "SEED = 22\n",
        "os.environ['PYTHONHASHSEED'] = str(SEED)\n",
        "random.seed(SEED)\n",
        "np.random.seed(SEED)\n",
        "torch.manual_seed(SEED)\n",
        "torch.cuda.manual_seed(SEED)\n",
        "torch.backends.cudnn.benchmark = False\n",
        "torch.backends.cudnn.deterministic = True"
      ],
      "execution_count": null,
      "outputs": []
    },
    {
      "cell_type": "code",
      "metadata": {
        "colab": {
          "base_uri": "https://localhost:8080/"
        },
        "id": "KOtQVQ9pVGDV",
        "outputId": "ad92d79f-446a-4538-f749-a7af5fc629b9"
      },
      "source": [
        "device = torch.device(\"cuda\" if torch.cuda.is_available() else \"cpu\")\n",
        "device"
      ],
      "execution_count": null,
      "outputs": [
        {
          "output_type": "execute_result",
          "data": {
            "text/plain": [
              "device(type='cuda')"
            ]
          },
          "metadata": {
            "tags": []
          },
          "execution_count": 4
        }
      ]
    },
    {
      "cell_type": "code",
      "metadata": {
        "id": "-FrGQvQzS7wj",
        "colab": {
          "base_uri": "https://localhost:8080/"
        },
        "outputId": "2c95d15a-d88a-4441-c433-610d5c2c080c"
      },
      "source": [
        "ROOT = Path(\"/content/drive/My Drive/\")\n",
        "\n",
        "if not ROOT.exists():\n",
        "    from google.colab import drive\n",
        "    drive.mount(\"/content/drive\")\n",
        "\n",
        "assert ROOT.exists()\n",
        "DATA = ROOT / \"data\"\n",
        "MODELS = ROOT / \"models\""
      ],
      "execution_count": null,
      "outputs": [
        {
          "output_type": "stream",
          "text": [
            "Mounted at /content/drive\n"
          ],
          "name": "stdout"
        }
      ]
    },
    {
      "cell_type": "code",
      "metadata": {
        "id": "y-PMOCCl1u7X"
      },
      "source": [
        "CACHE = ROOT / \"cache/distillation\"\n",
        "\n",
        "if not CACHE.exists():\n",
        "    CACHE.mkdir(parents=True)\n",
        "\n",
        "memory = Memory(CACHE, verbose=False)"
      ],
      "execution_count": null,
      "outputs": []
    },
    {
      "cell_type": "markdown",
      "metadata": {
        "id": "orrTdc3OC7yN"
      },
      "source": [
        "##DataSetIntents"
      ]
    },
    {
      "cell_type": "code",
      "metadata": {
        "id": "0DOYJncIWCeE"
      },
      "source": [
        "data_new = (pd.read_csv('/content/drive/My Drive/intents.csv').dropna())\n",
        "data_clear = data_new.sort_values('topic').reset_index()"
      ],
      "execution_count": null,
      "outputs": []
    },
    {
      "cell_type": "code",
      "metadata": {
        "colab": {
          "base_uri": "https://localhost:8080/"
        },
        "id": "TRpkmj7xMFGB",
        "outputId": "ba7d61d4-a796-4819-a347-150e417cd5ce"
      },
      "source": [
        "data_new.topic.unique()"
      ],
      "execution_count": null,
      "outputs": [
        {
          "output_type": "execute_result",
          "data": {
            "text/plain": [
              "array(['GetRide', 'FindEvents', 'BuyEventTickets', 'SearchOnewayFlight',\n",
              "       'SearchRoundtripFlights', 'SearchHotel', 'GetCarsAvailable',\n",
              "       'FindRestaurants', 'FindProvider', 'BookAppointment'], dtype=object)"
            ]
          },
          "metadata": {
            "tags": []
          },
          "execution_count": 8
        }
      ]
    },
    {
      "cell_type": "code",
      "metadata": {
        "id": "bN5HPpGYhi4S"
      },
      "source": [
        "data_filter = data_new.sample(frac=1).reset_index()"
      ],
      "execution_count": null,
      "outputs": []
    },
    {
      "cell_type": "code",
      "metadata": {
        "colab": {
          "base_uri": "https://localhost:8080/",
          "height": 399
        },
        "id": "4LkXAXOBh_Va",
        "outputId": "456e5fba-7aa4-4c47-910f-ebb77ef2aed1"
      },
      "source": [
        "data_filter"
      ],
      "execution_count": null,
      "outputs": [
        {
          "output_type": "execute_result",
          "data": {
            "text/html": [
              "<div>\n",
              "<style scoped>\n",
              "    .dataframe tbody tr th:only-of-type {\n",
              "        vertical-align: middle;\n",
              "    }\n",
              "\n",
              "    .dataframe tbody tr th {\n",
              "        vertical-align: top;\n",
              "    }\n",
              "\n",
              "    .dataframe thead th {\n",
              "        text-align: right;\n",
              "    }\n",
              "</style>\n",
              "<table border=\"1\" class=\"dataframe\">\n",
              "  <thead>\n",
              "    <tr style=\"text-align: right;\">\n",
              "      <th></th>\n",
              "      <th>level_0</th>\n",
              "      <th>index</th>\n",
              "      <th>Unnamed: 0</th>\n",
              "      <th>topic</th>\n",
              "      <th>title</th>\n",
              "    </tr>\n",
              "  </thead>\n",
              "  <tbody>\n",
              "    <tr>\n",
              "      <th>0</th>\n",
              "      <td>4434</td>\n",
              "      <td>15115</td>\n",
              "      <td>2705</td>\n",
              "      <td>SearchOnewayFlight</td>\n",
              "      <td>I'm going next Friday, to Mexico City. There's...</td>\n",
              "    </tr>\n",
              "    <tr>\n",
              "      <th>1</th>\n",
              "      <td>28435</td>\n",
              "      <td>5452</td>\n",
              "      <td>6323</td>\n",
              "      <td>FindEvents</td>\n",
              "      <td>Great, Could you also find me a rock music eve...</td>\n",
              "    </tr>\n",
              "    <tr>\n",
              "      <th>2</th>\n",
              "      <td>17667</td>\n",
              "      <td>39973</td>\n",
              "      <td>119604</td>\n",
              "      <td>FindRestaurants</td>\n",
              "      <td>American food would really hit the spot. There...</td>\n",
              "    </tr>\n",
              "    <tr>\n",
              "      <th>3</th>\n",
              "      <td>6345</td>\n",
              "      <td>13177</td>\n",
              "      <td>64644</td>\n",
              "      <td>BuyEventTickets</td>\n",
              "      <td>Yes, that works for me. Where is the venue for...</td>\n",
              "    </tr>\n",
              "    <tr>\n",
              "      <th>4</th>\n",
              "      <td>30892</td>\n",
              "      <td>20388</td>\n",
              "      <td>4529</td>\n",
              "      <td>SearchRoundtripFlights</td>\n",
              "      <td>I'm from Chi-town. When is the date you want t...</td>\n",
              "    </tr>\n",
              "    <tr>\n",
              "      <th>...</th>\n",
              "      <td>...</td>\n",
              "      <td>...</td>\n",
              "      <td>...</td>\n",
              "      <td>...</td>\n",
              "      <td>...</td>\n",
              "    </tr>\n",
              "    <tr>\n",
              "      <th>49995</th>\n",
              "      <td>7977</td>\n",
              "      <td>26946</td>\n",
              "      <td>61109</td>\n",
              "      <td>SearchHotel</td>\n",
              "      <td>I would like to find an Hotel. There are 10 ho...</td>\n",
              "    </tr>\n",
              "    <tr>\n",
              "      <th>49996</th>\n",
              "      <td>41442</td>\n",
              "      <td>4030</td>\n",
              "      <td>101336</td>\n",
              "      <td>GetRide</td>\n",
              "      <td>There are three of us. Please confirm 3 seats ...</td>\n",
              "    </tr>\n",
              "    <tr>\n",
              "      <th>49997</th>\n",
              "      <td>12502</td>\n",
              "      <td>32205</td>\n",
              "      <td>48276</td>\n",
              "      <td>GetCarsAvailable</td>\n",
              "      <td>I need it for the 7th of March. Look in Washin...</td>\n",
              "    </tr>\n",
              "    <tr>\n",
              "      <th>49998</th>\n",
              "      <td>32741</td>\n",
              "      <td>13039</td>\n",
              "      <td>64363</td>\n",
              "      <td>BuyEventTickets</td>\n",
              "      <td>Yes, can you reserve 3 tickets for that game? ...</td>\n",
              "    </tr>\n",
              "    <tr>\n",
              "      <th>49999</th>\n",
              "      <td>8606</td>\n",
              "      <td>6129</td>\n",
              "      <td>17408</td>\n",
              "      <td>FindEvents</td>\n",
              "      <td>Great. Can you also find some kid friendly att...</td>\n",
              "    </tr>\n",
              "  </tbody>\n",
              "</table>\n",
              "<p>50000 rows × 5 columns</p>\n",
              "</div>"
            ],
            "text/plain": [
              "       level_0  ...                                              title\n",
              "0         4434  ...  I'm going next Friday, to Mexico City. There's...\n",
              "1        28435  ...  Great, Could you also find me a rock music eve...\n",
              "2        17667  ...  American food would really hit the spot. There...\n",
              "3         6345  ...  Yes, that works for me. Where is the venue for...\n",
              "4        30892  ...  I'm from Chi-town. When is the date you want t...\n",
              "...        ...  ...                                                ...\n",
              "49995     7977  ...  I would like to find an Hotel. There are 10 ho...\n",
              "49996    41442  ...  There are three of us. Please confirm 3 seats ...\n",
              "49997    12502  ...  I need it for the 7th of March. Look in Washin...\n",
              "49998    32741  ...  Yes, can you reserve 3 tickets for that game? ...\n",
              "49999     8606  ...  Great. Can you also find some kid friendly att...\n",
              "\n",
              "[50000 rows x 5 columns]"
            ]
          },
          "metadata": {
            "tags": []
          },
          "execution_count": 85
        }
      ]
    },
    {
      "cell_type": "markdown",
      "metadata": {
        "id": "6ZQZZTqKWxgR"
      },
      "source": [
        "Dataset\n",
        "-------\n"
      ]
    },
    {
      "cell_type": "code",
      "metadata": {
        "id": "Ct0U3I_O_rig"
      },
      "source": [
        "data = (pd.read_csv('/content/drive/My Drive/test-lenta.csv').dropna())\n",
        "data_filter = data[['topic','title']]\n",
        "data_clear = data_filter.sort_values('topic').reset_index()"
      ],
      "execution_count": null,
      "outputs": []
    },
    {
      "cell_type": "code",
      "metadata": {
        "colab": {
          "base_uri": "https://localhost:8080/",
          "height": 402
        },
        "id": "40ft4O_0_u-H",
        "outputId": "c46ba86a-b55a-4480-ec28-f35ab01ae423"
      },
      "source": [
        "data_filter"
      ],
      "execution_count": null,
      "outputs": [
        {
          "output_type": "execute_result",
          "data": {
            "text/html": [
              "<div>\n",
              "<style scoped>\n",
              "    .dataframe tbody tr th:only-of-type {\n",
              "        vertical-align: middle;\n",
              "    }\n",
              "\n",
              "    .dataframe tbody tr th {\n",
              "        vertical-align: top;\n",
              "    }\n",
              "\n",
              "    .dataframe thead th {\n",
              "        text-align: right;\n",
              "    }\n",
              "</style>\n",
              "<table border=\"1\" class=\"dataframe\">\n",
              "  <thead>\n",
              "    <tr style=\"text-align: right;\">\n",
              "      <th></th>\n",
              "      <th>topic</th>\n",
              "      <th>title</th>\n",
              "      <th>label</th>\n",
              "    </tr>\n",
              "  </thead>\n",
              "  <tbody>\n",
              "    <tr>\n",
              "      <th>0</th>\n",
              "      <td>Из жизни</td>\n",
              "      <td>Изнывающего от жары олененка застали за «намат...</td>\n",
              "      <td>2</td>\n",
              "    </tr>\n",
              "    <tr>\n",
              "      <th>1</th>\n",
              "      <td>Россия</td>\n",
              "      <td>РБК: Абхазия официально просит у России защиты...</td>\n",
              "      <td>7</td>\n",
              "    </tr>\n",
              "    <tr>\n",
              "      <th>2</th>\n",
              "      <td>Наука и техника</td>\n",
              "      <td>Россия построит подводный флот Вьетнама</td>\n",
              "      <td>5</td>\n",
              "    </tr>\n",
              "    <tr>\n",
              "      <th>3</th>\n",
              "      <td>Россия</td>\n",
              "      <td>Большинство россиян считает операцию в Беслане...</td>\n",
              "      <td>7</td>\n",
              "    </tr>\n",
              "    <tr>\n",
              "      <th>4</th>\n",
              "      <td>Культура</td>\n",
              "      <td>\"Одержимость\" возглавила рейтинг самых кассовы...</td>\n",
              "      <td>4</td>\n",
              "    </tr>\n",
              "    <tr>\n",
              "      <th>...</th>\n",
              "      <td>...</td>\n",
              "      <td>...</td>\n",
              "      <td>...</td>\n",
              "    </tr>\n",
              "    <tr>\n",
              "      <th>49995</th>\n",
              "      <td>Из жизни</td>\n",
              "      <td>Хоккеист НХЛ выбрался из ванной с помощью твит...</td>\n",
              "      <td>2</td>\n",
              "    </tr>\n",
              "    <tr>\n",
              "      <th>49996</th>\n",
              "      <td>Экономика</td>\n",
              "      <td>Россия достигла компромисса с ЕС по поставкам ...</td>\n",
              "      <td>9</td>\n",
              "    </tr>\n",
              "    <tr>\n",
              "      <th>49997</th>\n",
              "      <td>Экономика</td>\n",
              "      <td>Минфин выплатит держателям евробондов за 1999 ...</td>\n",
              "      <td>9</td>\n",
              "    </tr>\n",
              "    <tr>\n",
              "      <th>49998</th>\n",
              "      <td>Россия</td>\n",
              "      <td>Офицеры ГРУ не смогли отбить депутата Мусатова...</td>\n",
              "      <td>7</td>\n",
              "    </tr>\n",
              "    <tr>\n",
              "      <th>49999</th>\n",
              "      <td>Экономика</td>\n",
              "      <td>Евро упал до двухмесячного минимума из-за испа...</td>\n",
              "      <td>9</td>\n",
              "    </tr>\n",
              "  </tbody>\n",
              "</table>\n",
              "<p>50000 rows × 3 columns</p>\n",
              "</div>"
            ],
            "text/plain": [
              "                 topic  ... label\n",
              "0             Из жизни  ...     2\n",
              "1               Россия  ...     7\n",
              "2      Наука и техника  ...     5\n",
              "3               Россия  ...     7\n",
              "4             Культура  ...     4\n",
              "...                ...  ...   ...\n",
              "49995         Из жизни  ...     2\n",
              "49996        Экономика  ...     9\n",
              "49997        Экономика  ...     9\n",
              "49998           Россия  ...     7\n",
              "49999        Экономика  ...     9\n",
              "\n",
              "[50000 rows x 3 columns]"
            ]
          },
          "metadata": {
            "tags": []
          },
          "execution_count": 139
        }
      ]
    },
    {
      "cell_type": "markdown",
      "metadata": {
        "id": "YpfP65ABWq7W"
      },
      "source": [
        "##Параметры для обучения учителя"
      ]
    },
    {
      "cell_type": "code",
      "metadata": {
        "id": "os3jL-4jVzii",
        "colab": {
          "base_uri": "https://localhost:8080/",
          "height": 216,
          "referenced_widgets": [
            "76926cc9a3174e1cb65bdab553a7ab8d",
            "f1bc1d2b566f4641a13f6d81683fbe64",
            "789be23c229f449abe4060fef1094c3c",
            "21d2056d7f114428ae113b149fed6c72",
            "5f93fdc5390b4aaf8bd6d7d35b6334a4",
            "afb6ed0a596e426b829d4f7d56a0d4db",
            "241e9851a72b4150bfaa13f14a50da7d",
            "c61cbd88cdd743538b457c8d5991d3e0",
            "b7893910b078471f966e34d8a7df9ae1",
            "14c30e84b28240b5993792ae8aa8e2cb",
            "a19d3649167a46fabc080e2298415088",
            "b147a76256ac4e4882469546231650df",
            "05db2e90b361470f8ed0fd2bc5604f37",
            "eea29654cdfb48c6a313dd9cacb21fd7",
            "368a23323cd440958b5fcd25551d8761",
            "4514f977a71648b5a061fc79cb375cc5",
            "0c08ea50c240473dbee48b4a74308adf",
            "cdc1c07ee4dc4fd7a46557454776e2d9",
            "e95b95914c724f57981223f08cbb0354",
            "eaffb654724a49f9a81788ef7d783468",
            "f9328402bda14da29a0d18a818cbd9fe",
            "e87768a4f8e94b72bf7ab0a480b7b8db",
            "4a5538f061f84d379678d8a2bdcee4f4",
            "b12d464d404d46a98051141295103e7b",
            "20428f105405469ba1baa91cf32e3755",
            "71914c6daa354c62bb1e7ee93b043d5a",
            "cb52fded8e7d42c59ab1914248344aa2",
            "f07df90018e44048b49a751736e15efc",
            "492058b6fcca4dc5a3d60dcd360d356d",
            "e49caeeb7c55406fbfc4e6746ec01e7c",
            "f62788c29ddd448c8cd467a3946fcee8",
            "54935d477c01403087839dae355555ba"
          ]
        },
        "outputId": "99b1564f-538c-40d6-ea16-48d9b512dc64"
      },
      "source": [
        "try:\n",
        "    tokenizer = AutoTokenizer.from_pretrained(\"distilbert-base-multilingual-cased\")\n",
        "except NameError:\n",
        "    tokenizer = tokenizer\n",
        "category_index = {i[1]:i[0] for i in enumerate(data_clear.topic.unique())}\n",
        "category_index_reverce = {i[0]:i[1] for i in enumerate(data_clear.topic.unique())}\n",
        "\n",
        "N_EPOCHS = 3\n",
        "EMBEDDING_DIM = 50\n",
        "LR = 0.5\n",
        "BATCH_SIZE = 32\n",
        "N_LABELS = len(category_index)\n",
        "\n",
        "padding_idx = tokenizer.vocab[\"[PAD]\"]\n",
        "n_vocab = len(tokenizer.vocab)\n",
        "\n",
        "sentences = data_filter['title'].values\n",
        "labels = [category_index[i] for i in data_filter['topic'].values]\n",
        "\n",
        "data_filter['label'] = labels\n",
        "\n",
        "sentences = ['[CLS] ' + sentence + ' [SEP]' for sentence in sentences]"
      ],
      "execution_count": null,
      "outputs": [
        {
          "output_type": "display_data",
          "data": {
            "application/vnd.jupyter.widget-view+json": {
              "model_id": "76926cc9a3174e1cb65bdab553a7ab8d",
              "version_minor": 0,
              "version_major": 2
            },
            "text/plain": [
              "HBox(children=(FloatProgress(value=0.0, description='Downloading', max=466.0, style=ProgressStyle(description_…"
            ]
          },
          "metadata": {
            "tags": []
          }
        },
        {
          "output_type": "stream",
          "text": [
            "\n"
          ],
          "name": "stdout"
        },
        {
          "output_type": "display_data",
          "data": {
            "application/vnd.jupyter.widget-view+json": {
              "model_id": "b7893910b078471f966e34d8a7df9ae1",
              "version_minor": 0,
              "version_major": 2
            },
            "text/plain": [
              "HBox(children=(FloatProgress(value=0.0, description='Downloading', max=995526.0, style=ProgressStyle(descripti…"
            ]
          },
          "metadata": {
            "tags": []
          }
        },
        {
          "output_type": "stream",
          "text": [
            "\n"
          ],
          "name": "stdout"
        },
        {
          "output_type": "display_data",
          "data": {
            "application/vnd.jupyter.widget-view+json": {
              "model_id": "0c08ea50c240473dbee48b4a74308adf",
              "version_minor": 0,
              "version_major": 2
            },
            "text/plain": [
              "HBox(children=(FloatProgress(value=0.0, description='Downloading', max=1961828.0, style=ProgressStyle(descript…"
            ]
          },
          "metadata": {
            "tags": []
          }
        },
        {
          "output_type": "stream",
          "text": [
            "\n"
          ],
          "name": "stdout"
        },
        {
          "output_type": "display_data",
          "data": {
            "application/vnd.jupyter.widget-view+json": {
              "model_id": "20428f105405469ba1baa91cf32e3755",
              "version_minor": 0,
              "version_major": 2
            },
            "text/plain": [
              "HBox(children=(FloatProgress(value=0.0, description='Downloading', max=29.0, style=ProgressStyle(description_w…"
            ]
          },
          "metadata": {
            "tags": []
          }
        },
        {
          "output_type": "stream",
          "text": [
            "\n"
          ],
          "name": "stdout"
        }
      ]
    },
    {
      "cell_type": "code",
      "metadata": {
        "id": "sqV0S-UYv2cg",
        "colab": {
          "base_uri": "https://localhost:8080/"
        },
        "outputId": "173aaf01-e062-4ec3-9d8e-adeac6ed928c"
      },
      "source": [
        "category_index"
      ],
      "execution_count": null,
      "outputs": [
        {
          "output_type": "execute_result",
          "data": {
            "text/plain": [
              "{'BookAppointment': 0,\n",
              " 'BuyEventTickets': 1,\n",
              " 'FindEvents': 2,\n",
              " 'FindProvider': 3,\n",
              " 'FindRestaurants': 4,\n",
              " 'GetCarsAvailable': 5,\n",
              " 'GetRide': 6,\n",
              " 'SearchHotel': 7,\n",
              " 'SearchOnewayFlight': 8,\n",
              " 'SearchRoundtripFlights': 9}"
            ]
          },
          "metadata": {
            "tags": []
          },
          "execution_count": 87
        }
      ]
    },
    {
      "cell_type": "markdown",
      "metadata": {
        "id": "fsV_UElkFhpa"
      },
      "source": [
        "##Учитель"
      ]
    },
    {
      "cell_type": "code",
      "metadata": {
        "colab": {
          "base_uri": "https://localhost:8080/"
        },
        "id": "ehNStrjeIomU",
        "outputId": "b3452446-5416-4a4a-9270-dce9f708e0f6"
      },
      "source": [
        "!git lfs install\n",
        "!git clone https://huggingface.co/sberbank-ai/sbert_large_nlu_ru"
      ],
      "execution_count": null,
      "outputs": [
        {
          "output_type": "stream",
          "text": [
            "git: 'lfs' is not a git command. See 'git --help'.\n",
            "\n",
            "The most similar command is\n",
            "\tlog\n",
            "fatal: destination path 'sbert_large_nlu_ru' already exists and is not an empty directory.\n"
          ],
          "name": "stdout"
        }
      ]
    },
    {
      "cell_type": "code",
      "metadata": {
        "id": "qXjztBanIY4_",
        "colab": {
          "base_uri": "https://localhost:8080/"
        },
        "outputId": "fce2ecb4-2780-4d7f-9844-6164ecad3220"
      },
      "source": [
        "config = AutoConfig.from_pretrained(\"sberbank-ai/sbert_large_nlu_ru\",\n",
        "                                    num_labels=len(category_index),\n",
        "                                    id2label=category_index_reverce,\n",
        "                                    label2id=category_index)\n",
        "\n",
        "try:\n",
        "    config = config\n",
        "    teacher = teacher\n",
        "except NameError:\n",
        "    teacher = AutoModelForSequenceClassification.from_pretrained(\"sberbank-ai/sbert_large_nlu_ru\",config = config)\n",
        "    #teacher.load_state_dict(torch.load(MODELS / \"pytorch_model.bin\", map_location=device))\n"
      ],
      "execution_count": null,
      "outputs": [
        {
          "output_type": "stream",
          "text": [
            "Some weights of BertForSequenceClassification were not initialized from the model checkpoint at sberbank-ai/sbert_large_nlu_ru and are newly initialized: ['classifier.bias', 'classifier.weight']\n",
            "You should probably TRAIN this model on a down-stream task to be able to use it for predictions and inference.\n"
          ],
          "name": "stderr"
        }
      ]
    },
    {
      "cell_type": "code",
      "metadata": {
        "colab": {
          "base_uri": "https://localhost:8080/"
        },
        "id": "BA59Mop6bUFi",
        "outputId": "459c5b97-d2be-4a33-b55d-dd5181d13a81"
      },
      "source": [
        "teacher"
      ],
      "execution_count": null,
      "outputs": [
        {
          "output_type": "execute_result",
          "data": {
            "text/plain": [
              "BertForSequenceClassification(\n",
              "  (bert): BertModel(\n",
              "    (embeddings): BertEmbeddings(\n",
              "      (word_embeddings): Embedding(120138, 1024, padding_idx=0)\n",
              "      (position_embeddings): Embedding(512, 1024)\n",
              "      (token_type_embeddings): Embedding(2, 1024)\n",
              "      (LayerNorm): LayerNorm((1024,), eps=1e-12, elementwise_affine=True)\n",
              "      (dropout): Dropout(p=0.1, inplace=False)\n",
              "    )\n",
              "    (encoder): BertEncoder(\n",
              "      (layer): ModuleList(\n",
              "        (0): BertLayer(\n",
              "          (attention): BertAttention(\n",
              "            (self): BertSelfAttention(\n",
              "              (query): Linear(in_features=1024, out_features=1024, bias=True)\n",
              "              (key): Linear(in_features=1024, out_features=1024, bias=True)\n",
              "              (value): Linear(in_features=1024, out_features=1024, bias=True)\n",
              "              (dropout): Dropout(p=0.1, inplace=False)\n",
              "            )\n",
              "            (output): BertSelfOutput(\n",
              "              (dense): Linear(in_features=1024, out_features=1024, bias=True)\n",
              "              (LayerNorm): LayerNorm((1024,), eps=1e-12, elementwise_affine=True)\n",
              "              (dropout): Dropout(p=0.1, inplace=False)\n",
              "            )\n",
              "          )\n",
              "          (intermediate): BertIntermediate(\n",
              "            (dense): Linear(in_features=1024, out_features=4096, bias=True)\n",
              "          )\n",
              "          (output): BertOutput(\n",
              "            (dense): Linear(in_features=4096, out_features=1024, bias=True)\n",
              "            (LayerNorm): LayerNorm((1024,), eps=1e-12, elementwise_affine=True)\n",
              "            (dropout): Dropout(p=0.1, inplace=False)\n",
              "          )\n",
              "        )\n",
              "        (1): BertLayer(\n",
              "          (attention): BertAttention(\n",
              "            (self): BertSelfAttention(\n",
              "              (query): Linear(in_features=1024, out_features=1024, bias=True)\n",
              "              (key): Linear(in_features=1024, out_features=1024, bias=True)\n",
              "              (value): Linear(in_features=1024, out_features=1024, bias=True)\n",
              "              (dropout): Dropout(p=0.1, inplace=False)\n",
              "            )\n",
              "            (output): BertSelfOutput(\n",
              "              (dense): Linear(in_features=1024, out_features=1024, bias=True)\n",
              "              (LayerNorm): LayerNorm((1024,), eps=1e-12, elementwise_affine=True)\n",
              "              (dropout): Dropout(p=0.1, inplace=False)\n",
              "            )\n",
              "          )\n",
              "          (intermediate): BertIntermediate(\n",
              "            (dense): Linear(in_features=1024, out_features=4096, bias=True)\n",
              "          )\n",
              "          (output): BertOutput(\n",
              "            (dense): Linear(in_features=4096, out_features=1024, bias=True)\n",
              "            (LayerNorm): LayerNorm((1024,), eps=1e-12, elementwise_affine=True)\n",
              "            (dropout): Dropout(p=0.1, inplace=False)\n",
              "          )\n",
              "        )\n",
              "        (2): BertLayer(\n",
              "          (attention): BertAttention(\n",
              "            (self): BertSelfAttention(\n",
              "              (query): Linear(in_features=1024, out_features=1024, bias=True)\n",
              "              (key): Linear(in_features=1024, out_features=1024, bias=True)\n",
              "              (value): Linear(in_features=1024, out_features=1024, bias=True)\n",
              "              (dropout): Dropout(p=0.1, inplace=False)\n",
              "            )\n",
              "            (output): BertSelfOutput(\n",
              "              (dense): Linear(in_features=1024, out_features=1024, bias=True)\n",
              "              (LayerNorm): LayerNorm((1024,), eps=1e-12, elementwise_affine=True)\n",
              "              (dropout): Dropout(p=0.1, inplace=False)\n",
              "            )\n",
              "          )\n",
              "          (intermediate): BertIntermediate(\n",
              "            (dense): Linear(in_features=1024, out_features=4096, bias=True)\n",
              "          )\n",
              "          (output): BertOutput(\n",
              "            (dense): Linear(in_features=4096, out_features=1024, bias=True)\n",
              "            (LayerNorm): LayerNorm((1024,), eps=1e-12, elementwise_affine=True)\n",
              "            (dropout): Dropout(p=0.1, inplace=False)\n",
              "          )\n",
              "        )\n",
              "        (3): BertLayer(\n",
              "          (attention): BertAttention(\n",
              "            (self): BertSelfAttention(\n",
              "              (query): Linear(in_features=1024, out_features=1024, bias=True)\n",
              "              (key): Linear(in_features=1024, out_features=1024, bias=True)\n",
              "              (value): Linear(in_features=1024, out_features=1024, bias=True)\n",
              "              (dropout): Dropout(p=0.1, inplace=False)\n",
              "            )\n",
              "            (output): BertSelfOutput(\n",
              "              (dense): Linear(in_features=1024, out_features=1024, bias=True)\n",
              "              (LayerNorm): LayerNorm((1024,), eps=1e-12, elementwise_affine=True)\n",
              "              (dropout): Dropout(p=0.1, inplace=False)\n",
              "            )\n",
              "          )\n",
              "          (intermediate): BertIntermediate(\n",
              "            (dense): Linear(in_features=1024, out_features=4096, bias=True)\n",
              "          )\n",
              "          (output): BertOutput(\n",
              "            (dense): Linear(in_features=4096, out_features=1024, bias=True)\n",
              "            (LayerNorm): LayerNorm((1024,), eps=1e-12, elementwise_affine=True)\n",
              "            (dropout): Dropout(p=0.1, inplace=False)\n",
              "          )\n",
              "        )\n",
              "        (4): BertLayer(\n",
              "          (attention): BertAttention(\n",
              "            (self): BertSelfAttention(\n",
              "              (query): Linear(in_features=1024, out_features=1024, bias=True)\n",
              "              (key): Linear(in_features=1024, out_features=1024, bias=True)\n",
              "              (value): Linear(in_features=1024, out_features=1024, bias=True)\n",
              "              (dropout): Dropout(p=0.1, inplace=False)\n",
              "            )\n",
              "            (output): BertSelfOutput(\n",
              "              (dense): Linear(in_features=1024, out_features=1024, bias=True)\n",
              "              (LayerNorm): LayerNorm((1024,), eps=1e-12, elementwise_affine=True)\n",
              "              (dropout): Dropout(p=0.1, inplace=False)\n",
              "            )\n",
              "          )\n",
              "          (intermediate): BertIntermediate(\n",
              "            (dense): Linear(in_features=1024, out_features=4096, bias=True)\n",
              "          )\n",
              "          (output): BertOutput(\n",
              "            (dense): Linear(in_features=4096, out_features=1024, bias=True)\n",
              "            (LayerNorm): LayerNorm((1024,), eps=1e-12, elementwise_affine=True)\n",
              "            (dropout): Dropout(p=0.1, inplace=False)\n",
              "          )\n",
              "        )\n",
              "        (5): BertLayer(\n",
              "          (attention): BertAttention(\n",
              "            (self): BertSelfAttention(\n",
              "              (query): Linear(in_features=1024, out_features=1024, bias=True)\n",
              "              (key): Linear(in_features=1024, out_features=1024, bias=True)\n",
              "              (value): Linear(in_features=1024, out_features=1024, bias=True)\n",
              "              (dropout): Dropout(p=0.1, inplace=False)\n",
              "            )\n",
              "            (output): BertSelfOutput(\n",
              "              (dense): Linear(in_features=1024, out_features=1024, bias=True)\n",
              "              (LayerNorm): LayerNorm((1024,), eps=1e-12, elementwise_affine=True)\n",
              "              (dropout): Dropout(p=0.1, inplace=False)\n",
              "            )\n",
              "          )\n",
              "          (intermediate): BertIntermediate(\n",
              "            (dense): Linear(in_features=1024, out_features=4096, bias=True)\n",
              "          )\n",
              "          (output): BertOutput(\n",
              "            (dense): Linear(in_features=4096, out_features=1024, bias=True)\n",
              "            (LayerNorm): LayerNorm((1024,), eps=1e-12, elementwise_affine=True)\n",
              "            (dropout): Dropout(p=0.1, inplace=False)\n",
              "          )\n",
              "        )\n",
              "        (6): BertLayer(\n",
              "          (attention): BertAttention(\n",
              "            (self): BertSelfAttention(\n",
              "              (query): Linear(in_features=1024, out_features=1024, bias=True)\n",
              "              (key): Linear(in_features=1024, out_features=1024, bias=True)\n",
              "              (value): Linear(in_features=1024, out_features=1024, bias=True)\n",
              "              (dropout): Dropout(p=0.1, inplace=False)\n",
              "            )\n",
              "            (output): BertSelfOutput(\n",
              "              (dense): Linear(in_features=1024, out_features=1024, bias=True)\n",
              "              (LayerNorm): LayerNorm((1024,), eps=1e-12, elementwise_affine=True)\n",
              "              (dropout): Dropout(p=0.1, inplace=False)\n",
              "            )\n",
              "          )\n",
              "          (intermediate): BertIntermediate(\n",
              "            (dense): Linear(in_features=1024, out_features=4096, bias=True)\n",
              "          )\n",
              "          (output): BertOutput(\n",
              "            (dense): Linear(in_features=4096, out_features=1024, bias=True)\n",
              "            (LayerNorm): LayerNorm((1024,), eps=1e-12, elementwise_affine=True)\n",
              "            (dropout): Dropout(p=0.1, inplace=False)\n",
              "          )\n",
              "        )\n",
              "        (7): BertLayer(\n",
              "          (attention): BertAttention(\n",
              "            (self): BertSelfAttention(\n",
              "              (query): Linear(in_features=1024, out_features=1024, bias=True)\n",
              "              (key): Linear(in_features=1024, out_features=1024, bias=True)\n",
              "              (value): Linear(in_features=1024, out_features=1024, bias=True)\n",
              "              (dropout): Dropout(p=0.1, inplace=False)\n",
              "            )\n",
              "            (output): BertSelfOutput(\n",
              "              (dense): Linear(in_features=1024, out_features=1024, bias=True)\n",
              "              (LayerNorm): LayerNorm((1024,), eps=1e-12, elementwise_affine=True)\n",
              "              (dropout): Dropout(p=0.1, inplace=False)\n",
              "            )\n",
              "          )\n",
              "          (intermediate): BertIntermediate(\n",
              "            (dense): Linear(in_features=1024, out_features=4096, bias=True)\n",
              "          )\n",
              "          (output): BertOutput(\n",
              "            (dense): Linear(in_features=4096, out_features=1024, bias=True)\n",
              "            (LayerNorm): LayerNorm((1024,), eps=1e-12, elementwise_affine=True)\n",
              "            (dropout): Dropout(p=0.1, inplace=False)\n",
              "          )\n",
              "        )\n",
              "        (8): BertLayer(\n",
              "          (attention): BertAttention(\n",
              "            (self): BertSelfAttention(\n",
              "              (query): Linear(in_features=1024, out_features=1024, bias=True)\n",
              "              (key): Linear(in_features=1024, out_features=1024, bias=True)\n",
              "              (value): Linear(in_features=1024, out_features=1024, bias=True)\n",
              "              (dropout): Dropout(p=0.1, inplace=False)\n",
              "            )\n",
              "            (output): BertSelfOutput(\n",
              "              (dense): Linear(in_features=1024, out_features=1024, bias=True)\n",
              "              (LayerNorm): LayerNorm((1024,), eps=1e-12, elementwise_affine=True)\n",
              "              (dropout): Dropout(p=0.1, inplace=False)\n",
              "            )\n",
              "          )\n",
              "          (intermediate): BertIntermediate(\n",
              "            (dense): Linear(in_features=1024, out_features=4096, bias=True)\n",
              "          )\n",
              "          (output): BertOutput(\n",
              "            (dense): Linear(in_features=4096, out_features=1024, bias=True)\n",
              "            (LayerNorm): LayerNorm((1024,), eps=1e-12, elementwise_affine=True)\n",
              "            (dropout): Dropout(p=0.1, inplace=False)\n",
              "          )\n",
              "        )\n",
              "        (9): BertLayer(\n",
              "          (attention): BertAttention(\n",
              "            (self): BertSelfAttention(\n",
              "              (query): Linear(in_features=1024, out_features=1024, bias=True)\n",
              "              (key): Linear(in_features=1024, out_features=1024, bias=True)\n",
              "              (value): Linear(in_features=1024, out_features=1024, bias=True)\n",
              "              (dropout): Dropout(p=0.1, inplace=False)\n",
              "            )\n",
              "            (output): BertSelfOutput(\n",
              "              (dense): Linear(in_features=1024, out_features=1024, bias=True)\n",
              "              (LayerNorm): LayerNorm((1024,), eps=1e-12, elementwise_affine=True)\n",
              "              (dropout): Dropout(p=0.1, inplace=False)\n",
              "            )\n",
              "          )\n",
              "          (intermediate): BertIntermediate(\n",
              "            (dense): Linear(in_features=1024, out_features=4096, bias=True)\n",
              "          )\n",
              "          (output): BertOutput(\n",
              "            (dense): Linear(in_features=4096, out_features=1024, bias=True)\n",
              "            (LayerNorm): LayerNorm((1024,), eps=1e-12, elementwise_affine=True)\n",
              "            (dropout): Dropout(p=0.1, inplace=False)\n",
              "          )\n",
              "        )\n",
              "        (10): BertLayer(\n",
              "          (attention): BertAttention(\n",
              "            (self): BertSelfAttention(\n",
              "              (query): Linear(in_features=1024, out_features=1024, bias=True)\n",
              "              (key): Linear(in_features=1024, out_features=1024, bias=True)\n",
              "              (value): Linear(in_features=1024, out_features=1024, bias=True)\n",
              "              (dropout): Dropout(p=0.1, inplace=False)\n",
              "            )\n",
              "            (output): BertSelfOutput(\n",
              "              (dense): Linear(in_features=1024, out_features=1024, bias=True)\n",
              "              (LayerNorm): LayerNorm((1024,), eps=1e-12, elementwise_affine=True)\n",
              "              (dropout): Dropout(p=0.1, inplace=False)\n",
              "            )\n",
              "          )\n",
              "          (intermediate): BertIntermediate(\n",
              "            (dense): Linear(in_features=1024, out_features=4096, bias=True)\n",
              "          )\n",
              "          (output): BertOutput(\n",
              "            (dense): Linear(in_features=4096, out_features=1024, bias=True)\n",
              "            (LayerNorm): LayerNorm((1024,), eps=1e-12, elementwise_affine=True)\n",
              "            (dropout): Dropout(p=0.1, inplace=False)\n",
              "          )\n",
              "        )\n",
              "        (11): BertLayer(\n",
              "          (attention): BertAttention(\n",
              "            (self): BertSelfAttention(\n",
              "              (query): Linear(in_features=1024, out_features=1024, bias=True)\n",
              "              (key): Linear(in_features=1024, out_features=1024, bias=True)\n",
              "              (value): Linear(in_features=1024, out_features=1024, bias=True)\n",
              "              (dropout): Dropout(p=0.1, inplace=False)\n",
              "            )\n",
              "            (output): BertSelfOutput(\n",
              "              (dense): Linear(in_features=1024, out_features=1024, bias=True)\n",
              "              (LayerNorm): LayerNorm((1024,), eps=1e-12, elementwise_affine=True)\n",
              "              (dropout): Dropout(p=0.1, inplace=False)\n",
              "            )\n",
              "          )\n",
              "          (intermediate): BertIntermediate(\n",
              "            (dense): Linear(in_features=1024, out_features=4096, bias=True)\n",
              "          )\n",
              "          (output): BertOutput(\n",
              "            (dense): Linear(in_features=4096, out_features=1024, bias=True)\n",
              "            (LayerNorm): LayerNorm((1024,), eps=1e-12, elementwise_affine=True)\n",
              "            (dropout): Dropout(p=0.1, inplace=False)\n",
              "          )\n",
              "        )\n",
              "        (12): BertLayer(\n",
              "          (attention): BertAttention(\n",
              "            (self): BertSelfAttention(\n",
              "              (query): Linear(in_features=1024, out_features=1024, bias=True)\n",
              "              (key): Linear(in_features=1024, out_features=1024, bias=True)\n",
              "              (value): Linear(in_features=1024, out_features=1024, bias=True)\n",
              "              (dropout): Dropout(p=0.1, inplace=False)\n",
              "            )\n",
              "            (output): BertSelfOutput(\n",
              "              (dense): Linear(in_features=1024, out_features=1024, bias=True)\n",
              "              (LayerNorm): LayerNorm((1024,), eps=1e-12, elementwise_affine=True)\n",
              "              (dropout): Dropout(p=0.1, inplace=False)\n",
              "            )\n",
              "          )\n",
              "          (intermediate): BertIntermediate(\n",
              "            (dense): Linear(in_features=1024, out_features=4096, bias=True)\n",
              "          )\n",
              "          (output): BertOutput(\n",
              "            (dense): Linear(in_features=4096, out_features=1024, bias=True)\n",
              "            (LayerNorm): LayerNorm((1024,), eps=1e-12, elementwise_affine=True)\n",
              "            (dropout): Dropout(p=0.1, inplace=False)\n",
              "          )\n",
              "        )\n",
              "        (13): BertLayer(\n",
              "          (attention): BertAttention(\n",
              "            (self): BertSelfAttention(\n",
              "              (query): Linear(in_features=1024, out_features=1024, bias=True)\n",
              "              (key): Linear(in_features=1024, out_features=1024, bias=True)\n",
              "              (value): Linear(in_features=1024, out_features=1024, bias=True)\n",
              "              (dropout): Dropout(p=0.1, inplace=False)\n",
              "            )\n",
              "            (output): BertSelfOutput(\n",
              "              (dense): Linear(in_features=1024, out_features=1024, bias=True)\n",
              "              (LayerNorm): LayerNorm((1024,), eps=1e-12, elementwise_affine=True)\n",
              "              (dropout): Dropout(p=0.1, inplace=False)\n",
              "            )\n",
              "          )\n",
              "          (intermediate): BertIntermediate(\n",
              "            (dense): Linear(in_features=1024, out_features=4096, bias=True)\n",
              "          )\n",
              "          (output): BertOutput(\n",
              "            (dense): Linear(in_features=4096, out_features=1024, bias=True)\n",
              "            (LayerNorm): LayerNorm((1024,), eps=1e-12, elementwise_affine=True)\n",
              "            (dropout): Dropout(p=0.1, inplace=False)\n",
              "          )\n",
              "        )\n",
              "        (14): BertLayer(\n",
              "          (attention): BertAttention(\n",
              "            (self): BertSelfAttention(\n",
              "              (query): Linear(in_features=1024, out_features=1024, bias=True)\n",
              "              (key): Linear(in_features=1024, out_features=1024, bias=True)\n",
              "              (value): Linear(in_features=1024, out_features=1024, bias=True)\n",
              "              (dropout): Dropout(p=0.1, inplace=False)\n",
              "            )\n",
              "            (output): BertSelfOutput(\n",
              "              (dense): Linear(in_features=1024, out_features=1024, bias=True)\n",
              "              (LayerNorm): LayerNorm((1024,), eps=1e-12, elementwise_affine=True)\n",
              "              (dropout): Dropout(p=0.1, inplace=False)\n",
              "            )\n",
              "          )\n",
              "          (intermediate): BertIntermediate(\n",
              "            (dense): Linear(in_features=1024, out_features=4096, bias=True)\n",
              "          )\n",
              "          (output): BertOutput(\n",
              "            (dense): Linear(in_features=4096, out_features=1024, bias=True)\n",
              "            (LayerNorm): LayerNorm((1024,), eps=1e-12, elementwise_affine=True)\n",
              "            (dropout): Dropout(p=0.1, inplace=False)\n",
              "          )\n",
              "        )\n",
              "        (15): BertLayer(\n",
              "          (attention): BertAttention(\n",
              "            (self): BertSelfAttention(\n",
              "              (query): Linear(in_features=1024, out_features=1024, bias=True)\n",
              "              (key): Linear(in_features=1024, out_features=1024, bias=True)\n",
              "              (value): Linear(in_features=1024, out_features=1024, bias=True)\n",
              "              (dropout): Dropout(p=0.1, inplace=False)\n",
              "            )\n",
              "            (output): BertSelfOutput(\n",
              "              (dense): Linear(in_features=1024, out_features=1024, bias=True)\n",
              "              (LayerNorm): LayerNorm((1024,), eps=1e-12, elementwise_affine=True)\n",
              "              (dropout): Dropout(p=0.1, inplace=False)\n",
              "            )\n",
              "          )\n",
              "          (intermediate): BertIntermediate(\n",
              "            (dense): Linear(in_features=1024, out_features=4096, bias=True)\n",
              "          )\n",
              "          (output): BertOutput(\n",
              "            (dense): Linear(in_features=4096, out_features=1024, bias=True)\n",
              "            (LayerNorm): LayerNorm((1024,), eps=1e-12, elementwise_affine=True)\n",
              "            (dropout): Dropout(p=0.1, inplace=False)\n",
              "          )\n",
              "        )\n",
              "        (16): BertLayer(\n",
              "          (attention): BertAttention(\n",
              "            (self): BertSelfAttention(\n",
              "              (query): Linear(in_features=1024, out_features=1024, bias=True)\n",
              "              (key): Linear(in_features=1024, out_features=1024, bias=True)\n",
              "              (value): Linear(in_features=1024, out_features=1024, bias=True)\n",
              "              (dropout): Dropout(p=0.1, inplace=False)\n",
              "            )\n",
              "            (output): BertSelfOutput(\n",
              "              (dense): Linear(in_features=1024, out_features=1024, bias=True)\n",
              "              (LayerNorm): LayerNorm((1024,), eps=1e-12, elementwise_affine=True)\n",
              "              (dropout): Dropout(p=0.1, inplace=False)\n",
              "            )\n",
              "          )\n",
              "          (intermediate): BertIntermediate(\n",
              "            (dense): Linear(in_features=1024, out_features=4096, bias=True)\n",
              "          )\n",
              "          (output): BertOutput(\n",
              "            (dense): Linear(in_features=4096, out_features=1024, bias=True)\n",
              "            (LayerNorm): LayerNorm((1024,), eps=1e-12, elementwise_affine=True)\n",
              "            (dropout): Dropout(p=0.1, inplace=False)\n",
              "          )\n",
              "        )\n",
              "        (17): BertLayer(\n",
              "          (attention): BertAttention(\n",
              "            (self): BertSelfAttention(\n",
              "              (query): Linear(in_features=1024, out_features=1024, bias=True)\n",
              "              (key): Linear(in_features=1024, out_features=1024, bias=True)\n",
              "              (value): Linear(in_features=1024, out_features=1024, bias=True)\n",
              "              (dropout): Dropout(p=0.1, inplace=False)\n",
              "            )\n",
              "            (output): BertSelfOutput(\n",
              "              (dense): Linear(in_features=1024, out_features=1024, bias=True)\n",
              "              (LayerNorm): LayerNorm((1024,), eps=1e-12, elementwise_affine=True)\n",
              "              (dropout): Dropout(p=0.1, inplace=False)\n",
              "            )\n",
              "          )\n",
              "          (intermediate): BertIntermediate(\n",
              "            (dense): Linear(in_features=1024, out_features=4096, bias=True)\n",
              "          )\n",
              "          (output): BertOutput(\n",
              "            (dense): Linear(in_features=4096, out_features=1024, bias=True)\n",
              "            (LayerNorm): LayerNorm((1024,), eps=1e-12, elementwise_affine=True)\n",
              "            (dropout): Dropout(p=0.1, inplace=False)\n",
              "          )\n",
              "        )\n",
              "        (18): BertLayer(\n",
              "          (attention): BertAttention(\n",
              "            (self): BertSelfAttention(\n",
              "              (query): Linear(in_features=1024, out_features=1024, bias=True)\n",
              "              (key): Linear(in_features=1024, out_features=1024, bias=True)\n",
              "              (value): Linear(in_features=1024, out_features=1024, bias=True)\n",
              "              (dropout): Dropout(p=0.1, inplace=False)\n",
              "            )\n",
              "            (output): BertSelfOutput(\n",
              "              (dense): Linear(in_features=1024, out_features=1024, bias=True)\n",
              "              (LayerNorm): LayerNorm((1024,), eps=1e-12, elementwise_affine=True)\n",
              "              (dropout): Dropout(p=0.1, inplace=False)\n",
              "            )\n",
              "          )\n",
              "          (intermediate): BertIntermediate(\n",
              "            (dense): Linear(in_features=1024, out_features=4096, bias=True)\n",
              "          )\n",
              "          (output): BertOutput(\n",
              "            (dense): Linear(in_features=4096, out_features=1024, bias=True)\n",
              "            (LayerNorm): LayerNorm((1024,), eps=1e-12, elementwise_affine=True)\n",
              "            (dropout): Dropout(p=0.1, inplace=False)\n",
              "          )\n",
              "        )\n",
              "        (19): BertLayer(\n",
              "          (attention): BertAttention(\n",
              "            (self): BertSelfAttention(\n",
              "              (query): Linear(in_features=1024, out_features=1024, bias=True)\n",
              "              (key): Linear(in_features=1024, out_features=1024, bias=True)\n",
              "              (value): Linear(in_features=1024, out_features=1024, bias=True)\n",
              "              (dropout): Dropout(p=0.1, inplace=False)\n",
              "            )\n",
              "            (output): BertSelfOutput(\n",
              "              (dense): Linear(in_features=1024, out_features=1024, bias=True)\n",
              "              (LayerNorm): LayerNorm((1024,), eps=1e-12, elementwise_affine=True)\n",
              "              (dropout): Dropout(p=0.1, inplace=False)\n",
              "            )\n",
              "          )\n",
              "          (intermediate): BertIntermediate(\n",
              "            (dense): Linear(in_features=1024, out_features=4096, bias=True)\n",
              "          )\n",
              "          (output): BertOutput(\n",
              "            (dense): Linear(in_features=4096, out_features=1024, bias=True)\n",
              "            (LayerNorm): LayerNorm((1024,), eps=1e-12, elementwise_affine=True)\n",
              "            (dropout): Dropout(p=0.1, inplace=False)\n",
              "          )\n",
              "        )\n",
              "        (20): BertLayer(\n",
              "          (attention): BertAttention(\n",
              "            (self): BertSelfAttention(\n",
              "              (query): Linear(in_features=1024, out_features=1024, bias=True)\n",
              "              (key): Linear(in_features=1024, out_features=1024, bias=True)\n",
              "              (value): Linear(in_features=1024, out_features=1024, bias=True)\n",
              "              (dropout): Dropout(p=0.1, inplace=False)\n",
              "            )\n",
              "            (output): BertSelfOutput(\n",
              "              (dense): Linear(in_features=1024, out_features=1024, bias=True)\n",
              "              (LayerNorm): LayerNorm((1024,), eps=1e-12, elementwise_affine=True)\n",
              "              (dropout): Dropout(p=0.1, inplace=False)\n",
              "            )\n",
              "          )\n",
              "          (intermediate): BertIntermediate(\n",
              "            (dense): Linear(in_features=1024, out_features=4096, bias=True)\n",
              "          )\n",
              "          (output): BertOutput(\n",
              "            (dense): Linear(in_features=4096, out_features=1024, bias=True)\n",
              "            (LayerNorm): LayerNorm((1024,), eps=1e-12, elementwise_affine=True)\n",
              "            (dropout): Dropout(p=0.1, inplace=False)\n",
              "          )\n",
              "        )\n",
              "        (21): BertLayer(\n",
              "          (attention): BertAttention(\n",
              "            (self): BertSelfAttention(\n",
              "              (query): Linear(in_features=1024, out_features=1024, bias=True)\n",
              "              (key): Linear(in_features=1024, out_features=1024, bias=True)\n",
              "              (value): Linear(in_features=1024, out_features=1024, bias=True)\n",
              "              (dropout): Dropout(p=0.1, inplace=False)\n",
              "            )\n",
              "            (output): BertSelfOutput(\n",
              "              (dense): Linear(in_features=1024, out_features=1024, bias=True)\n",
              "              (LayerNorm): LayerNorm((1024,), eps=1e-12, elementwise_affine=True)\n",
              "              (dropout): Dropout(p=0.1, inplace=False)\n",
              "            )\n",
              "          )\n",
              "          (intermediate): BertIntermediate(\n",
              "            (dense): Linear(in_features=1024, out_features=4096, bias=True)\n",
              "          )\n",
              "          (output): BertOutput(\n",
              "            (dense): Linear(in_features=4096, out_features=1024, bias=True)\n",
              "            (LayerNorm): LayerNorm((1024,), eps=1e-12, elementwise_affine=True)\n",
              "            (dropout): Dropout(p=0.1, inplace=False)\n",
              "          )\n",
              "        )\n",
              "        (22): BertLayer(\n",
              "          (attention): BertAttention(\n",
              "            (self): BertSelfAttention(\n",
              "              (query): Linear(in_features=1024, out_features=1024, bias=True)\n",
              "              (key): Linear(in_features=1024, out_features=1024, bias=True)\n",
              "              (value): Linear(in_features=1024, out_features=1024, bias=True)\n",
              "              (dropout): Dropout(p=0.1, inplace=False)\n",
              "            )\n",
              "            (output): BertSelfOutput(\n",
              "              (dense): Linear(in_features=1024, out_features=1024, bias=True)\n",
              "              (LayerNorm): LayerNorm((1024,), eps=1e-12, elementwise_affine=True)\n",
              "              (dropout): Dropout(p=0.1, inplace=False)\n",
              "            )\n",
              "          )\n",
              "          (intermediate): BertIntermediate(\n",
              "            (dense): Linear(in_features=1024, out_features=4096, bias=True)\n",
              "          )\n",
              "          (output): BertOutput(\n",
              "            (dense): Linear(in_features=4096, out_features=1024, bias=True)\n",
              "            (LayerNorm): LayerNorm((1024,), eps=1e-12, elementwise_affine=True)\n",
              "            (dropout): Dropout(p=0.1, inplace=False)\n",
              "          )\n",
              "        )\n",
              "        (23): BertLayer(\n",
              "          (attention): BertAttention(\n",
              "            (self): BertSelfAttention(\n",
              "              (query): Linear(in_features=1024, out_features=1024, bias=True)\n",
              "              (key): Linear(in_features=1024, out_features=1024, bias=True)\n",
              "              (value): Linear(in_features=1024, out_features=1024, bias=True)\n",
              "              (dropout): Dropout(p=0.1, inplace=False)\n",
              "            )\n",
              "            (output): BertSelfOutput(\n",
              "              (dense): Linear(in_features=1024, out_features=1024, bias=True)\n",
              "              (LayerNorm): LayerNorm((1024,), eps=1e-12, elementwise_affine=True)\n",
              "              (dropout): Dropout(p=0.1, inplace=False)\n",
              "            )\n",
              "          )\n",
              "          (intermediate): BertIntermediate(\n",
              "            (dense): Linear(in_features=1024, out_features=4096, bias=True)\n",
              "          )\n",
              "          (output): BertOutput(\n",
              "            (dense): Linear(in_features=4096, out_features=1024, bias=True)\n",
              "            (LayerNorm): LayerNorm((1024,), eps=1e-12, elementwise_affine=True)\n",
              "            (dropout): Dropout(p=0.1, inplace=False)\n",
              "          )\n",
              "        )\n",
              "      )\n",
              "    )\n",
              "    (pooler): BertPooler(\n",
              "      (dense): Linear(in_features=1024, out_features=1024, bias=True)\n",
              "      (activation): Tanh()\n",
              "    )\n",
              "  )\n",
              "  (dropout): Dropout(p=0.1, inplace=False)\n",
              "  (classifier): Linear(in_features=1024, out_features=10, bias=True)\n",
              ")"
            ]
          },
          "metadata": {
            "tags": []
          },
          "execution_count": 22
        }
      ]
    },
    {
      "cell_type": "markdown",
      "metadata": {
        "id": "B5rSHmXv3Ja-"
      },
      "source": [
        "##Обучение учителя"
      ]
    },
    {
      "cell_type": "code",
      "metadata": {
        "id": "F6ZI7988Iese"
      },
      "source": [
        "train_sentences, test_sentences, train_category, test_category = train_test_split(sentences, labels, test_size=0.005)\n",
        "\n",
        "tokenized_texts = [tokenizer.tokenize(sent) for sent in train_sentences]\n",
        "\n",
        "input_ids = [tokenizer.convert_tokens_to_ids(x) for x in tokenized_texts]\n",
        "\n",
        "input_ids = pad_sequences(\n",
        "    input_ids,\n",
        "    # максимальная длина предложения\n",
        "    maxlen=24,\n",
        "    dtype='long',\n",
        "    truncating='post',\n",
        "    padding='post'\n",
        ")\n",
        "\n",
        "attention_masks = [[float(i>0) for i in seq] for seq in input_ids]\n",
        "\n",
        "train_inputs, validation_inputs, train_labels, validation_labels = train_test_split(\n",
        "    input_ids, train_category, \n",
        "    random_state=42,\n",
        "    test_size=0.1\n",
        ")\n",
        "\n",
        "train_masks, validation_masks, _, _ = train_test_split(\n",
        "    attention_masks,\n",
        "    input_ids,\n",
        "    random_state=42,\n",
        "    test_size=0.1\n",
        ")\n",
        "\n",
        "train_inputs = torch.tensor(train_inputs)\n",
        "train_labels = torch.tensor(train_labels)\n",
        "train_masks = torch.tensor(train_masks)\n",
        "\n",
        "validation_inputs = torch.tensor(validation_inputs)\n",
        "validation_labels = torch.tensor(validation_labels)\n",
        "validation_masks = torch.tensor(validation_masks)\n",
        "\n",
        "train_data = TensorDataset(train_inputs, train_masks, train_labels)\n",
        "train_dataloader = DataLoader(\n",
        "    train_data,\n",
        "    # Данные по батчам разбиваем произвольно с помощью RandomSampler\n",
        "    sampler=RandomSampler(train_data),\n",
        "    batch_size=64,\n",
        "    shuffle = False\n",
        ")\n",
        "validation_data = TensorDataset(validation_inputs, validation_masks, validation_labels)\n",
        "validation_dataloader = DataLoader(\n",
        "    validation_data,\n",
        "    sampler=RandomSampler(validation_data),\n",
        "    batch_size=64,\n",
        "    shuffle = False\n",
        ")"
      ],
      "execution_count": null,
      "outputs": []
    },
    {
      "cell_type": "code",
      "metadata": {
        "id": "ov6c1j57HJAr"
      },
      "source": [
        "param_optimizer = list(teacher.named_parameters())\n",
        "\n",
        "no_decay = ['bias', 'gamma', 'beta']\n",
        "optimizer_grouped_parameters = [\n",
        "    {'params': [p for n, p in param_optimizer if not any(nd in n for nd in no_decay)],\n",
        "     'weight_decay_rate': 0.01},\n",
        "    {'params': [p for n, p in param_optimizer if any(nd in n for nd in no_decay)],\n",
        "     'weight_decay_rate': 0.0}\n",
        "]\n",
        "\n",
        "optimizer = AdamW(optimizer_grouped_parameters, lr=2e-5)"
      ],
      "execution_count": null,
      "outputs": []
    },
    {
      "cell_type": "code",
      "metadata": {
        "id": "Yx3yUQtuGcoa"
      },
      "source": [
        "from transformers import get_linear_schedule_with_warmup\n",
        "\n",
        "epochs = 5\n",
        "\n",
        "total_steps = len(train_dataloader) * epochs\n",
        "\n",
        "scheduler = get_linear_schedule_with_warmup(optimizer, \n",
        "                                            num_warmup_steps = 0, # Default value in run_glue.py\n",
        "                                            num_training_steps = total_steps)"
      ],
      "execution_count": null,
      "outputs": []
    },
    {
      "cell_type": "code",
      "metadata": {
        "id": "OLl6unTZHLCz"
      },
      "source": [
        "def train_teacher(teacher,train_dataloader,optimizer):\n",
        "  train_loss_set = []\n",
        "  train_loss = 0\n",
        "  teacher.to(device)\n",
        "  # Переводим модель в training mode\n",
        "  teacher.train()\n",
        "\n",
        "  for step, batch in enumerate(tqdm(train_dataloader)):\n",
        "    # Переводим данные на видеокарту\n",
        "      batch = tuple(t.to(device) for t in batch)\n",
        "      b_input_ids, b_input_mask, b_labels = batch\n",
        "    \n",
        "    # Обнуляем градиенты\n",
        "      optimizer.zero_grad()\n",
        "    \n",
        "    # Прогоняем данные по слоям нейросети\n",
        "      loss = teacher(b_input_ids, token_type_ids=None, attention_mask=b_input_mask, labels=b_labels)\n",
        "      train_loss_set.append(loss[0].item())  \n",
        "    \n",
        "    # Обратный прогон\n",
        "      loss[0].backward()\n",
        "      torch.nn.utils.clip_grad_norm_(teacher.parameters(), 1.0)\n",
        "    # Шаг\n",
        "      optimizer.step()\n",
        "\n",
        "    # Обновляем loss\n",
        "      train_loss += loss[0].item()\n",
        "      # Empty cuda\n",
        "      del b_input_ids\n",
        "      del b_labels\n",
        "      del b_input_mask\n",
        "      torch.cuda.empty_cache()\n",
        "  print(f'Лосс на обучении: {train_loss / len(train_dataloader)}')\n",
        "  return train_loss / len(train_dataloader)"
      ],
      "execution_count": null,
      "outputs": []
    },
    {
      "cell_type": "code",
      "metadata": {
        "id": "zf02GIBNcYRO"
      },
      "source": [
        "def validate_teacher(validation_dataloader,teacher):\n",
        "    teacher.eval()\n",
        "\n",
        "    total = 0\n",
        "    correct = 0\n",
        "    total_eval_loss = 0\n",
        "    nb_eval_steps = 0\n",
        "\n",
        "    # Evaluate data for one epoch\n",
        "    for batch in tqdm(validation_dataloader):\n",
        "\n",
        "        b_input_ids = batch[0].to(device)\n",
        "        b_input_mask = batch[1].to(device)\n",
        "        b_labels = batch[2].to(device)\n",
        "\n",
        "        with torch.no_grad():        \n",
        "\n",
        "            loss = teacher(b_input_ids, token_type_ids=None, attention_mask=b_input_mask, labels=b_labels)\n",
        "            \n",
        "        total_eval_loss += loss[0].item()\n",
        "        del b_input_ids\n",
        "        del b_labels\n",
        "        del b_input_mask\n",
        "        torch.cuda.empty_cache()\n",
        "    avg_val_loss = total_eval_loss / len(validation_dataloader)\n",
        "    \n",
        "    \n",
        "    print(\"Лосс на тесте: {0:.2f}\".format(avg_val_loss))\n",
        "    return total_eval_loss / len(validation_dataloader)"
      ],
      "execution_count": null,
      "outputs": []
    },
    {
      "cell_type": "code",
      "metadata": {
        "id": "txE_er1HGMkq"
      },
      "source": [
        "def train_loop_teacher(model, optim, train_loader, test_loader, n_epochs=5, sched=None):\n",
        "    training_results = {\"epoch\": list(range(n_epochs)),\n",
        "                        \"train_loss\": [],                   \n",
        "                        \"test_loss\": []\n",
        "                        }\n",
        "\n",
        "    model.to(device)\n",
        "\n",
        "    try:\n",
        "        for i in range(n_epochs):\n",
        "            \n",
        "            train_loss = train_teacher(model,train_loader, optimizer)\n",
        "            if sched is not None:\n",
        "                sched.step()\n",
        "            test_loss = validate_teacher(test_loader, model)\n",
        "            training_results[\"train_loss\"].append(train_loss)\n",
        "            training_results[\"test_loss\"].append(test_loss)\n",
        "    except KeyboardInterrupt:\n",
        "        pass\n",
        "\n",
        "    return pd.DataFrame(training_results)"
      ],
      "execution_count": null,
      "outputs": []
    },
    {
      "cell_type": "code",
      "metadata": {
        "colab": {
          "base_uri": "https://localhost:8080/",
          "height": 348
        },
        "id": "TIfHa-I-KTk0",
        "outputId": "1c4a3876-3997-4690-f5f9-af0bfe9625e3"
      },
      "source": [
        "SBERT_train_results = train_loop_teacher(teacher, optimizer, train_dataloader, validation_dataloader, N_EPOCHS, scheduler)\n",
        "SBERT_train_results[\"model\"] = \"SBERT\"\n",
        "SBERT_train_results"
      ],
      "execution_count": null,
      "outputs": [
        {
          "output_type": "stream",
          "text": [
            "100%|██████████| 700/700 [13:14<00:00,  1.13s/it]\n",
            "  0%|          | 0/78 [00:00<?, ?it/s]"
          ],
          "name": "stderr"
        },
        {
          "output_type": "stream",
          "text": [
            "Лосс на обучении: 0.7504031018487045\n"
          ],
          "name": "stdout"
        },
        {
          "output_type": "stream",
          "text": [
            "100%|██████████| 78/78 [00:24<00:00,  3.15it/s]\n",
            "  0%|          | 0/700 [00:00<?, ?it/s]"
          ],
          "name": "stderr"
        },
        {
          "output_type": "stream",
          "text": [
            "Лосс на тесте: 0.44\n"
          ],
          "name": "stdout"
        },
        {
          "output_type": "stream",
          "text": [
            "100%|██████████| 700/700 [13:15<00:00,  1.14s/it]\n",
            "  0%|          | 0/78 [00:00<?, ?it/s]"
          ],
          "name": "stderr"
        },
        {
          "output_type": "stream",
          "text": [
            "Лосс на обучении: 0.3673473257890769\n"
          ],
          "name": "stdout"
        },
        {
          "output_type": "stream",
          "text": [
            "100%|██████████| 78/78 [00:24<00:00,  3.14it/s]\n",
            "  0%|          | 0/700 [00:00<?, ?it/s]"
          ],
          "name": "stderr"
        },
        {
          "output_type": "stream",
          "text": [
            "Лосс на тесте: 0.39\n"
          ],
          "name": "stdout"
        },
        {
          "output_type": "stream",
          "text": [
            "100%|██████████| 700/700 [13:15<00:00,  1.14s/it]\n",
            "  0%|          | 0/78 [00:00<?, ?it/s]"
          ],
          "name": "stderr"
        },
        {
          "output_type": "stream",
          "text": [
            "Лосс на обучении: 0.28446019798517225\n"
          ],
          "name": "stdout"
        },
        {
          "output_type": "stream",
          "text": [
            "100%|██████████| 78/78 [00:24<00:00,  3.14it/s]"
          ],
          "name": "stderr"
        },
        {
          "output_type": "stream",
          "text": [
            "Лосс на тесте: 0.39\n"
          ],
          "name": "stdout"
        },
        {
          "output_type": "stream",
          "text": [
            "\n"
          ],
          "name": "stderr"
        },
        {
          "output_type": "execute_result",
          "data": {
            "text/html": [
              "<div>\n",
              "<style scoped>\n",
              "    .dataframe tbody tr th:only-of-type {\n",
              "        vertical-align: middle;\n",
              "    }\n",
              "\n",
              "    .dataframe tbody tr th {\n",
              "        vertical-align: top;\n",
              "    }\n",
              "\n",
              "    .dataframe thead th {\n",
              "        text-align: right;\n",
              "    }\n",
              "</style>\n",
              "<table border=\"1\" class=\"dataframe\">\n",
              "  <thead>\n",
              "    <tr style=\"text-align: right;\">\n",
              "      <th></th>\n",
              "      <th>epoch</th>\n",
              "      <th>train_loss</th>\n",
              "      <th>test_loss</th>\n",
              "      <th>model</th>\n",
              "    </tr>\n",
              "  </thead>\n",
              "  <tbody>\n",
              "    <tr>\n",
              "      <th>0</th>\n",
              "      <td>0</td>\n",
              "      <td>0.750403</td>\n",
              "      <td>0.439609</td>\n",
              "      <td>SBERT</td>\n",
              "    </tr>\n",
              "    <tr>\n",
              "      <th>1</th>\n",
              "      <td>1</td>\n",
              "      <td>0.367347</td>\n",
              "      <td>0.390355</td>\n",
              "      <td>SBERT</td>\n",
              "    </tr>\n",
              "    <tr>\n",
              "      <th>2</th>\n",
              "      <td>2</td>\n",
              "      <td>0.284460</td>\n",
              "      <td>0.393538</td>\n",
              "      <td>SBERT</td>\n",
              "    </tr>\n",
              "  </tbody>\n",
              "</table>\n",
              "</div>"
            ],
            "text/plain": [
              "   epoch  train_loss  test_loss  model\n",
              "0      0    0.750403   0.439609  SBERT\n",
              "1      1    0.367347   0.390355  SBERT\n",
              "2      2    0.284460   0.393538  SBERT"
            ]
          },
          "metadata": {
            "tags": []
          },
          "execution_count": 18
        }
      ]
    },
    {
      "cell_type": "code",
      "metadata": {
        "colab": {
          "base_uri": "https://localhost:8080/",
          "height": 391
        },
        "id": "-4L0wQ1_uIVM",
        "outputId": "e3898176-de51-49c0-feba-329bb18eb48b"
      },
      "source": [
        "plt.figure(figsize=(13, 6))\n",
        "plt.plot([i+1 for i in range(N_EPOCHS)],SBERT_train_results[\"train_loss\"].values.tolist(),label='Train')\n",
        "plt.plot([i+1 for i in range(N_EPOCHS)], SBERT_train_results[\"test_loss\"].values.tolist(),label='Test')\n",
        "plt.legend()\n",
        "plt.xlabel('Iteration number')\n",
        "plt.ylabel('Loss')\n",
        "plt.grid()\n",
        "plt.show()"
      ],
      "execution_count": null,
      "outputs": [
        {
          "output_type": "display_data",
          "data": {
            "image/png": "[encoded data removed]",
            "text/plain": [
              "<Figure size 936x432 with 1 Axes>"
            ]
          },
          "metadata": {
            "tags": [],
            "needs_background": "light"
          }
        }
      ]
    },
    {
      "cell_type": "code",
      "metadata": {
        "colab": {
          "base_uri": "https://localhost:8080/"
        },
        "id": "7FsxmSNhLuIK",
        "outputId": "bbc909fa-d89c-4cd9-c09c-4eb9dfeedad8"
      },
      "source": [
        "%%time\n",
        "teacher.to(device)\n",
        "teacher.eval()\n",
        "\n",
        "tr_tokens, train_logits, predicts, grounds = [], [],[],[]\n",
        "batch = 400\n",
        "\n",
        "for sku in tqdm(range(batch, len(data_filter), batch)):\n",
        "    b_s = sentences[sku-batch:sku]\n",
        "    tokens = [tokenizer.encode(\n",
        "        sent, \n",
        "        add_special_tokens=True, \n",
        "        max_length=24, \n",
        "        pad_to_max_length='right') for sent in b_s]\n",
        "    tr_tokens.extend(tokens)\n",
        "    tokens = torch.tensor(tokens).to(device)\n",
        "    with torch.no_grad():\n",
        "        outputs = teacher(tokens)\n",
        "    logits = outputs[0].detach().cpu().numpy()\n",
        "    train_logits.extend(logits)\n",
        "    preds = np.argmax(logits, axis=1)\n",
        "    predicts.extend(preds)\n",
        "    grounds.extend(labels[sku-batch:sku])"
      ],
      "execution_count": null,
      "outputs": [
        {
          "output_type": "stream",
          "text": [
            "\r  0%|          | 0/124 [00:00<?, ?it/s]Truncation was not explicitly activated but `max_length` is provided a specific value, please use `truncation=True` to explicitly truncate examples to max length. Defaulting to 'longest_first' truncation strategy. If you encode pairs of sequences (GLUE-style) with the tokenizer you can select this strategy more precisely by providing a specific strategy to `truncation`.\n",
            "/usr/local/lib/python3.7/dist-packages/transformers/tokenization_utils_base.py:2079: FutureWarning: The `pad_to_max_length` argument is deprecated and will be removed in a future version, use `padding=True` or `padding='longest'` to pad to the longest sequence in the batch, or use `padding='max_length'` to pad to a max length. In this case, you can give a specific length with `max_length` (e.g. `max_length=45`) or leave max_length to None to pad to the maximal input size of the model (e.g. 512 for Bert).\n",
            "  FutureWarning,\n",
            "100%|██████████| 124/124 [04:09<00:00,  2.01s/it]"
          ],
          "name": "stderr"
        },
        {
          "output_type": "stream",
          "text": [
            "CPU times: user 2min 8s, sys: 2min 1s, total: 4min 10s\n",
            "Wall time: 4min 9s\n"
          ],
          "name": "stdout"
        },
        {
          "output_type": "stream",
          "text": [
            "\n"
          ],
          "name": "stderr"
        }
      ]
    },
    {
      "cell_type": "code",
      "metadata": {
        "colab": {
          "base_uri": "https://localhost:8080/"
        },
        "id": "Yt-wwmXIL0oC",
        "outputId": "2e0065c9-349d-492c-d052-f6a9df0326fb"
      },
      "source": [
        "print(classification_report(grounds, predicts,target_names=category_index_reverce.values()))"
      ],
      "execution_count": null,
      "outputs": [
        {
          "output_type": "stream",
          "text": [
            "                        precision    recall  f1-score   support\n",
            "\n",
            "       BookAppointment       0.93      0.84      0.88      4964\n",
            "       BuyEventTickets       0.84      0.86      0.85      4963\n",
            "            FindEvents       0.88      0.95      0.91      4960\n",
            "          FindProvider       0.96      0.86      0.91      4966\n",
            "       FindRestaurants       0.85      0.96      0.90      4958\n",
            "      GetCarsAvailable       0.98      0.94      0.96      4967\n",
            "               GetRide       0.90      0.86      0.88      4959\n",
            "           SearchHotel       0.78      0.95      0.86      4950\n",
            "    SearchOnewayFlight       0.86      0.69      0.76      4951\n",
            "SearchRoundtripFlights       0.79      0.81      0.80      4962\n",
            "\n",
            "              accuracy                           0.87     49600\n",
            "             macro avg       0.88      0.87      0.87     49600\n",
            "          weighted avg       0.88      0.87      0.87     49600\n",
            "\n"
          ],
          "name": "stdout"
        }
      ]
    },
    {
      "cell_type": "code",
      "metadata": {
        "id": "8wMzSUtltPqk"
      },
      "source": [
        "MODELS = ROOT / \"model1\""
      ],
      "execution_count": null,
      "outputs": []
    },
    {
      "cell_type": "code",
      "metadata": {
        "id": "9yAG85zHicaJ"
      },
      "source": [
        "if not MODELS.exists():\n",
        "    MODELS.mkdir(parents=True)"
      ],
      "execution_count": null,
      "outputs": []
    },
    {
      "cell_type": "code",
      "metadata": {
        "id": "PkhmGZjzdhA2"
      },
      "source": [
        "teacher.save_pretrained(MODELS)"
      ],
      "execution_count": null,
      "outputs": []
    },
    {
      "cell_type": "markdown",
      "metadata": {
        "id": "di07LSp6WvXx"
      },
      "source": [
        "##Модели ученики\n"
      ]
    },
    {
      "cell_type": "code",
      "metadata": {
        "id": "5G3Mb6E2TW-v"
      },
      "source": [
        "class CNN(nn.Module):\n",
        "\n",
        "    def __init__(self,\n",
        "                 n_vocab,\n",
        "                 n_labels,\n",
        "                 embedding_dim=50,\n",
        "                 n_filters=100,\n",
        "                 filter_sizes=[3, 4, 5],\n",
        "                 dropout=0.5,\n",
        "                 special_chars=[],\n",
        "                 pretrained_embeddings=None):  # TODO make number of conv layers configurable\n",
        "        super(CNN, self).__init__()\n",
        "        self.n_vocab = n_vocab\n",
        "        self.n_labels = n_labels\n",
        "        self.embedding_dim = embedding_dim\n",
        "        self.n_filters = n_filters\n",
        "        self.filter_sizes = filter_sizes\n",
        "        self.dropout_p = dropout\n",
        "        self.width = len(filter_sizes) * n_filters\n",
        "\n",
        "        if pretrained_embeddings is not None:\n",
        "            assert n_vocab == pretrained_embeddings.shape[0]\n",
        "            assert embedding_dim == pretrained_embeddings.shape[1]\n",
        "            self.embedding = nn.Embedding.from_pretrained(pretrained_embeddings)\n",
        "        else:\n",
        "            self.embedding = nn.Embedding(n_vocab, embedding_dim)\n",
        "        \n",
        "        self.conv0 = nn.Conv2d(in_channels=1,\n",
        "                               out_channels=n_filters,\n",
        "                               kernel_size=(filter_sizes[0], embedding_dim))\n",
        "        self.conv1 = nn.Conv2d(in_channels=1,\n",
        "                               out_channels=n_filters,\n",
        "                               kernel_size=(filter_sizes[1], embedding_dim))\n",
        "        self.conv2 = nn.Conv2d(in_channels=1,\n",
        "                               out_channels=n_filters,\n",
        "                               kernel_size=(filter_sizes[2], embedding_dim))\n",
        "        self.dropout = nn.Dropout(dropout)\n",
        "\n",
        "        self.fc = nn.Linear(in_features=self.width, out_features=n_labels)\n",
        "\n",
        "        for special in special_chars:\n",
        "            self.embedding.weight.data[special] = torch.zeros(embedding_dim)\n",
        "\n",
        "    def forward(self, input_ids):\n",
        "        \"\"\"Only input ids are required - kwargs are for API compat with BERT.\"\"\"\n",
        "        X = self.embedding(input_ids)\n",
        "        X = X.unsqueeze(1)  # add single channel as dim 1\n",
        "        X0 = F.relu(self.conv0(X).squeeze(3))\n",
        "        X1 = F.relu(self.conv1(X).squeeze(3))\n",
        "        X2 = F.relu(self.conv2(X).squeeze(3))\n",
        "        X0 = F.max_pool1d(X0, X0.shape[2]).squeeze(2)\n",
        "        X1 = F.max_pool1d(X1, X1.shape[2]).squeeze(2)\n",
        "        X2 = F.max_pool1d(X2, X2.shape[2]).squeeze(2)\n",
        "        X = torch.cat([X0, X1, X2], dim=1)\n",
        "        X = self.dropout(X)\n",
        "        X = self.fc(X)\n",
        "        return X"
      ],
      "execution_count": null,
      "outputs": []
    },
    {
      "cell_type": "code",
      "metadata": {
        "id": "cCtKES4bVmeU"
      },
      "source": [
        "class LinearModel(nn.Module):\n",
        "    \n",
        "    def __init__(self, n_vocab, n_labels, embedding_dim, padding_idx):\n",
        "        super(LinearModel, self).__init__()\n",
        "        self.embeddings = nn.Embedding(n_vocab, embedding_dim, padding_idx=padding_idx)\n",
        "        self.output = nn.Linear(embedding_dim, n_labels)\n",
        "        with torch.no_grad():\n",
        "            # FastText initializes embeddings with uniform distribution vs normal in PyTorch\n",
        "            self.embeddings.weight.uniform_(to=1.0 / embedding_dim)\n",
        "            self.embeddings.weight[padding_idx] = 0  # but FT doesn't have a padding token\n",
        "            # FastText initializes output with zeros vs some random dist in PyTorch\n",
        "            self.output.weight.zero_()\n",
        "\n",
        "    def forward(self, input_ids):\n",
        "        \"\"\"Only input ids are required - kwargs are for API compat with BERT.\"\"\"\n",
        "        \n",
        "        X = self.embeddings(input_ids)\n",
        "        X = X.mean(dim=1)\n",
        "        X = self.output(X)\n",
        "        return X"
      ],
      "execution_count": null,
      "outputs": []
    },
    {
      "cell_type": "code",
      "metadata": {
        "id": "HJjyURCRv9Si"
      },
      "source": [
        "class BiLSTM(nn.Module):\n",
        "    def __init__(self, n_vocabs, embed_dims, n_lstm_units, n_lstm_layers, n_output_classes,special_chars=[], use_dropout=True):\n",
        "        super(BiLSTM, self).__init__()\n",
        "        self.v = n_vocabs\n",
        "        self.e = embed_dims\n",
        "        self.u = n_lstm_units\n",
        "        self.l = n_lstm_layers\n",
        "        self.o = n_output_classes\n",
        "\n",
        "        self.embed = nn.Embedding(\n",
        "            self.v,\n",
        "            self.e\n",
        "            )\n",
        "        self.bilstm = nn.LSTM(\n",
        "            input_size = self.e,\n",
        "            hidden_size = self.u,\n",
        "            num_layers = self.l,\n",
        "            batch_first = True,\n",
        "            bidirectional = True,\n",
        "            dropout=0.5 if use_dropout else 0.\n",
        "        )\n",
        "        self.dropout = nn.Dropout(0.5 if use_dropout else 0.)\n",
        "        self.linear = nn.Linear(\n",
        "            self.u * 2,\n",
        "            self.o\n",
        "        )\n",
        "        for special in special_chars:\n",
        "            self.embed.weight.data[special] = torch.zeros(embed_dims)\n",
        "    def forward(self, X):\n",
        "        h0 = torch.zeros(self.l * 2, X.size(0), self.u).to(device)\n",
        "        c0 = torch.zeros(self.l * 2, X.size(0), self.u).to(device)\n",
        "\n",
        "        out = self.embed(X)\n",
        "        \n",
        "        # NxTxh, lxNxh\n",
        "        out, _ = self.bilstm(out, (h0, c0))\n",
        "        # GMP\n",
        "        out, _ = torch.max(out, 1)\n",
        "        out = self.dropout(out)\n",
        "        out = self.linear(out)\n",
        "                \n",
        "        return out"
      ],
      "execution_count": null,
      "outputs": []
    },
    {
      "cell_type": "markdown",
      "metadata": {
        "id": "otPP3--DW_58"
      },
      "source": [
        "##Функции для обучения\n",
        "\n",
        " $L = \\alpha L_{CE} + (1 - \\alpha) L_{KLDiv}$ "
      ]
    },
    {
      "cell_type": "code",
      "metadata": {
        "id": "5nVILNTfOULS"
      },
      "source": [
        "@memory.cache(ignore=[\"teacher\"]) \n",
        "def dataframe_to_dataset(df, teacher):\n",
        "    max_len = 128\n",
        "    features = tokenizer.batch_encode_plus(df.title.values.tolist(),\n",
        "                                           max_length=max_len,\n",
        "                                           pad_to_max_length=True,\n",
        "                                           return_attention_mask=True,\n",
        "                                           return_token_type_ids=True,\n",
        "                                           return_tensors=\"pt\")\n",
        "\n",
        "    pre_dataset = TensorDataset(features[\"input_ids\"],\n",
        "                                features[\"attention_mask\"],\n",
        "                                features[\"token_type_ids\"])\n",
        "    teacher.to(device)\n",
        "    teacher.eval()\n",
        "    teacher_predictions = []\n",
        "    for batch in tqdm(DataLoader(pre_dataset, batch_size=32, shuffle=False)):\n",
        "        batch = tuple([b.to(device) for b in batch])\n",
        "        inputs = {\"input_ids\": batch[0], \"attention_mask\": batch[1]}\n",
        "        if teacher.base_model_prefix == \"bert\":\n",
        "            inputs[\"token_type_ids\"] = batch[2]\n",
        "        with torch.no_grad():\n",
        "            outputs = teacher(**inputs)\n",
        "        teacher_predictions.append(outputs[0].to(torch.device(\"cpu\")))  # put back on CPU\n",
        "\n",
        "    dataset = TensorDataset(features[\"input_ids\"],\n",
        "                            features[\"attention_mask\"],\n",
        "                            features[\"token_type_ids\"],\n",
        "                            torch.tensor(df.label.astype(\"int\").to_numpy(), dtype=torch.long),\n",
        "                            torch.cat(teacher_predictions, axis=0))\n",
        "\n",
        "\n",
        "    return dataset"
      ],
      "execution_count": null,
      "outputs": []
    },
    {
      "cell_type": "code",
      "metadata": {
        "id": "OfWn8A6P50n9"
      },
      "source": [
        "def train_epoch(train_iter, model, optim, epoch_num, distil=False,alpha = 0.5,temperature=10):\n",
        "    train_loss = 0\n",
        "    train_acc = 0\n",
        "    y_true = []\n",
        "    y_pred = []\n",
        "    \n",
        "    model.to(device)\n",
        "    model.train()\n",
        "    \n",
        "    if distil:\n",
        "        kldloss = nn.KLDivLoss()  \n",
        "        cost = nn.CrossEntropyLoss()\n",
        "    else:\n",
        "        cost = nn.CrossEntropyLoss()\n",
        "\n",
        "    for batch in tqdm(train_iter, total=len(train_iter), desc=f\"Batch progress for epoch {epoch_num}\"):\n",
        "        \n",
        "        batch = tuple([t.to(device) for t in batch])\n",
        "        inputs = {\"input_ids\": batch[0],\n",
        "                  \"attention_mask\": batch[1]}\n",
        "        labels = batch[3]\n",
        "\n",
        "        optim.zero_grad()\n",
        "        \n",
        "        student_logits = model(inputs.get('input_ids'))\n",
        "        log_soft = F.log_softmax( student_logits / 1, dim=1 )\n",
        "        log = student_logits\n",
        "        soft_predictions = F.log_softmax( log / temperature, dim=1 )\n",
        "\n",
        "        if distil:\n",
        "            target = batch[4]\n",
        "            tar = target.clone()\n",
        "            teacher_logits = F.softmax( tar / temperature, dim=1 )\n",
        "            distillation_loss = kldloss(soft_predictions, teacher_logits)\n",
        "            target = labels\n",
        "        else:\n",
        "            target = labels\n",
        "\n",
        "        batch_loss = cost(log_soft, target)\n",
        "\n",
        "\n",
        "        if torch.isnan(batch_loss):\n",
        "            print(\"NAN batch loss!\", epoch_num, batch_loss, student_logits, target)\n",
        "        if distil:\n",
        "            train_loss += batch_loss.item()*(1-alpha) + distillation_loss.item()*(alpha)\n",
        "        else:\n",
        "            train_loss += batch_loss.item()\n",
        "\n",
        "        batch_acc = (student_logits.argmax(1) == labels).sum().item()\n",
        "        train_acc += batch_acc\n",
        "        y_true.extend(labels.tolist())\n",
        "        y_pred.extend(student_logits.argmax(1).tolist())\n",
        "\n",
        "        batch_loss.backward()\n",
        "        optim.step()\n",
        "\n",
        "    return train_loss / len(train_iter), train_acc / len(train_iter.dataset), f1_score(y_true, y_pred, average=\"macro\")  #"
      ],
      "execution_count": null,
      "outputs": []
    },
    {
      "cell_type": "code",
      "metadata": {
        "id": "QqoHIBM5XIbE"
      },
      "source": [
        "def train_loop(model, optim, train_loader, test_loader, n_epochs=5, sched=None, distil=False,alpha = 0.5,temperature=10):\n",
        "    training_results = {\"epoch\": list(range(n_epochs)),\n",
        "                        \"train_loss\": [],\n",
        "                        \"train_acc\": [],\n",
        "                        \"train_f1_macro\": [],\n",
        "                        \"test_loss\": [],\n",
        "                        \"test_acc\": [],\n",
        "                        \"test_f1_macro\": []}\n",
        "\n",
        "    model.to(device)\n",
        "\n",
        "    try:\n",
        "        for i in range(n_epochs):\n",
        "            \n",
        "            train_loss, train_acc, train_f1 = train_epoch(train_loader, model, optim, epoch_num=i, distil=distil,alpha = alpha,temperature=temperature)\n",
        "            if sched is not None:\n",
        "                sched.step()\n",
        "            test_loss, test_acc, test_f1 = validate(test_loader, model)\n",
        "            training_results[\"train_loss\"].append(train_loss)\n",
        "            training_results[\"train_acc\"].append(train_acc)\n",
        "            training_results[\"train_f1_macro\"].append(train_f1)\n",
        "            training_results[\"test_loss\"].append(test_loss)\n",
        "            training_results[\"test_acc\"].append(test_acc)\n",
        "            training_results[\"test_f1_macro\"].append(test_f1)\n",
        "    except KeyboardInterrupt:\n",
        "        pass\n",
        "\n",
        "    return pd.DataFrame(training_results)"
      ],
      "execution_count": null,
      "outputs": []
    },
    {
      "cell_type": "code",
      "metadata": {
        "id": "rlMp7EnMW7dt"
      },
      "source": [
        "def validate(test_iter, model):\n",
        "    test_acc = 0 \n",
        "    test_loss = 0\n",
        "    y_true = []\n",
        "    y_pred = []\n",
        "\n",
        "    cost = nn.CrossEntropyLoss()\n",
        "\n",
        "    model.to(device)\n",
        "    model.eval()\n",
        "\n",
        "    for batch in tqdm(test_iter, desc=\"Validating\"):\n",
        "        \n",
        "        batch = tuple([t.to(device) for t in batch])\n",
        "        inputs = {\"input_ids\": batch[0],\n",
        "                  \"attention_mask\": batch[1],\n",
        "                  \"token_type_ids\": batch[2]}\n",
        "        labels = batch[3]\n",
        "\n",
        "        with torch.no_grad():\n",
        "            \n",
        "            output = model(inputs.get('input_ids'))\n",
        "            batch_loss = cost(output, labels)\n",
        "            test_loss += batch_loss.item()\n",
        "                    \n",
        "            batch_acc = (output.argmax(1) == labels).sum().item() \n",
        "            test_acc += batch_acc\n",
        "            y_true.extend(labels.tolist())\n",
        "            y_pred.extend(output.argmax(1).tolist())\n",
        "    print('Loss = {0}, Accuracy = {1}, F1-score = {2}'.format(test_loss / len(test_iter),test_acc / len(test_iter.dataset),f1_score(y_true, y_pred, average=\"macro\")))\n",
        "    return test_loss / len(test_iter), test_acc / len(test_iter.dataset), f1_score(y_true, y_pred, average=\"macro\")  # classes are balanced"
      ],
      "execution_count": null,
      "outputs": []
    },
    {
      "cell_type": "markdown",
      "metadata": {
        "id": "mvyT37Y-6Q6m"
      },
      "source": [
        "##Функции для проверки веса модели и скорости работы"
      ]
    },
    {
      "cell_type": "code",
      "metadata": {
        "id": "9QDf94RF6ag3"
      },
      "source": [
        "def print_size_of_model(model):\n",
        "    torch.save(model.state_dict(), \"temp.p\")\n",
        "    print('Size (MB):', os.path.getsize(\"temp.p\")/1e6)\n",
        "    os.remove('temp.p')"
      ],
      "execution_count": null,
      "outputs": []
    },
    {
      "cell_type": "code",
      "metadata": {
        "id": "9koVPiw-6aS8"
      },
      "source": [
        "from contextlib import contextmanager\n",
        "\n",
        "@contextmanager\n",
        "def single_thread():  \n",
        "    num = torch.get_num_threads()\n",
        "    torch.set_num_threads(1)\n",
        "    yield\n",
        "    torch.set_num_threads(num)"
      ],
      "execution_count": null,
      "outputs": []
    },
    {
      "cell_type": "code",
      "metadata": {
        "id": "BFpsDJsWD8Qc"
      },
      "source": [
        "def predict(model,text):\n",
        "        max_len = 128\n",
        "        l = []\n",
        "        l.append(text)\n",
        "        features = tokenizer.batch_encode_plus(l,\n",
        "                                           max_length=max_len,\n",
        "                                           pad_to_max_length=True,\n",
        "                                           return_attention_mask=True,\n",
        "                                           return_token_type_ids=True,\n",
        "                                           return_tensors=\"pt\")\n",
        "        output = model(features['input_ids'].to(device))\n",
        "        pred = F.softmax( output, dim=1 )\n",
        "        ids = pred.argsort(1)[0].tolist()\n",
        "        ids.reverse()\n",
        "        return [(category_index_reverce[id], pred.tolist()[0][id]) for id in ids[:3]]"
      ],
      "execution_count": null,
      "outputs": []
    },
    {
      "cell_type": "markdown",
      "metadata": {
        "id": "C6dCs0rJ5UuG"
      },
      "source": [
        "##Создаем учеников"
      ]
    },
    {
      "cell_type": "code",
      "metadata": {
        "id": "3a5_1_rNUZ4I"
      },
      "source": [
        "linear_model = LinearModel(n_vocab, N_LABELS, embedding_dim=EMBEDDING_DIM, padding_idx=padding_idx)"
      ],
      "execution_count": null,
      "outputs": []
    },
    {
      "cell_type": "code",
      "metadata": {
        "id": "ksGxZeekUXk0"
      },
      "source": [
        "cnn = CNN(n_vocab, N_LABELS, embedding_dim=EMBEDDING_DIM, special_chars=[padding_idx])"
      ],
      "execution_count": null,
      "outputs": []
    },
    {
      "cell_type": "code",
      "metadata": {
        "id": "k2Wwh9V_v5fV",
        "colab": {
          "base_uri": "https://localhost:8080/",
          "height": 514
        },
        "outputId": "1eb8c160-2d2d-4478-8995-7cab78124894"
      },
      "source": [
        "bil = BiLSTM(n_vocabs=n_vocab,embed_dims=EMBEDDING_DIM,n_lstm_units = EMBEDDING_DIM/2,n_lstm_layers=1, n_output_classes =N_LABELS, special_chars=[padding_idx])"
      ],
      "execution_count": null,
      "outputs": [
        {
          "output_type": "stream",
          "text": [
            "/usr/local/lib/python3.7/dist-packages/torch/nn/modules/rnn.py:63: UserWarning: dropout option adds dropout after all but last recurrent layer, so non-zero dropout expects num_layers greater than 1, but got dropout=0.5 and num_layers=1\n",
            "  \"num_layers={}\".format(dropout, num_layers))\n"
          ],
          "name": "stderr"
        },
        {
          "output_type": "error",
          "ename": "TypeError",
          "evalue": "ignored",
          "traceback": [
            "\u001b[0;31m---------------------------------------------------------------------------\u001b[0m",
            "\u001b[0;31mTypeError\u001b[0m                                 Traceback (most recent call last)",
            "\u001b[0;32m<ipython-input-28-bc735b1f769c>\u001b[0m in \u001b[0;36m<module>\u001b[0;34m()\u001b[0m\n\u001b[0;32m----> 1\u001b[0;31m \u001b[0mbil\u001b[0m \u001b[0;34m=\u001b[0m \u001b[0mBiLSTM\u001b[0m\u001b[0;34m(\u001b[0m\u001b[0mn_vocabs\u001b[0m\u001b[0;34m=\u001b[0m\u001b[0mn_vocab\u001b[0m\u001b[0;34m,\u001b[0m\u001b[0membed_dims\u001b[0m\u001b[0;34m=\u001b[0m\u001b[0mEMBEDDING_DIM\u001b[0m\u001b[0;34m,\u001b[0m\u001b[0mn_lstm_units\u001b[0m \u001b[0;34m=\u001b[0m \u001b[0mEMBEDDING_DIM\u001b[0m\u001b[0;34m/\u001b[0m\u001b[0;36m2\u001b[0m\u001b[0;34m,\u001b[0m\u001b[0mn_lstm_layers\u001b[0m\u001b[0;34m=\u001b[0m\u001b[0;36m1\u001b[0m\u001b[0;34m,\u001b[0m \u001b[0mn_output_classes\u001b[0m \u001b[0;34m=\u001b[0m\u001b[0mN_LABELS\u001b[0m\u001b[0;34m,\u001b[0m \u001b[0mspecial_chars\u001b[0m\u001b[0;34m=\u001b[0m\u001b[0;34m[\u001b[0m\u001b[0mpadding_idx\u001b[0m\u001b[0;34m]\u001b[0m\u001b[0;34m)\u001b[0m\u001b[0;34m\u001b[0m\u001b[0;34m\u001b[0m\u001b[0m\n\u001b[0m",
            "\u001b[0;32m<ipython-input-21-1ceb24e12962>\u001b[0m in \u001b[0;36m__init__\u001b[0;34m(self, n_vocabs, embed_dims, n_lstm_units, n_lstm_layers, n_output_classes, special_chars, use_dropout)\u001b[0m\n\u001b[1;32m     18\u001b[0m             \u001b[0mbatch_first\u001b[0m \u001b[0;34m=\u001b[0m \u001b[0;32mTrue\u001b[0m\u001b[0;34m,\u001b[0m\u001b[0;34m\u001b[0m\u001b[0;34m\u001b[0m\u001b[0m\n\u001b[1;32m     19\u001b[0m             \u001b[0mbidirectional\u001b[0m \u001b[0;34m=\u001b[0m \u001b[0;32mTrue\u001b[0m\u001b[0;34m,\u001b[0m\u001b[0;34m\u001b[0m\u001b[0;34m\u001b[0m\u001b[0m\n\u001b[0;32m---> 20\u001b[0;31m             \u001b[0mdropout\u001b[0m\u001b[0;34m=\u001b[0m\u001b[0;36m0.5\u001b[0m \u001b[0;32mif\u001b[0m \u001b[0muse_dropout\u001b[0m \u001b[0;32melse\u001b[0m \u001b[0;36m0.\u001b[0m\u001b[0;34m\u001b[0m\u001b[0;34m\u001b[0m\u001b[0m\n\u001b[0m\u001b[1;32m     21\u001b[0m         )\n\u001b[1;32m     22\u001b[0m         \u001b[0mself\u001b[0m\u001b[0;34m.\u001b[0m\u001b[0mdropout\u001b[0m \u001b[0;34m=\u001b[0m \u001b[0mnn\u001b[0m\u001b[0;34m.\u001b[0m\u001b[0mDropout\u001b[0m\u001b[0;34m(\u001b[0m\u001b[0;36m0.5\u001b[0m \u001b[0;32mif\u001b[0m \u001b[0muse_dropout\u001b[0m \u001b[0;32melse\u001b[0m \u001b[0;36m0.\u001b[0m\u001b[0;34m)\u001b[0m\u001b[0;34m\u001b[0m\u001b[0;34m\u001b[0m\u001b[0m\n",
            "\u001b[0;32m/usr/local/lib/python3.7/dist-packages/torch/nn/modules/rnn.py\u001b[0m in \u001b[0;36m__init__\u001b[0;34m(self, *args, **kwargs)\u001b[0m\n\u001b[1;32m    588\u001b[0m \u001b[0;34m\u001b[0m\u001b[0m\n\u001b[1;32m    589\u001b[0m     \u001b[0;32mdef\u001b[0m \u001b[0m__init__\u001b[0m\u001b[0;34m(\u001b[0m\u001b[0mself\u001b[0m\u001b[0;34m,\u001b[0m \u001b[0;34m*\u001b[0m\u001b[0margs\u001b[0m\u001b[0;34m,\u001b[0m \u001b[0;34m**\u001b[0m\u001b[0mkwargs\u001b[0m\u001b[0;34m)\u001b[0m\u001b[0;34m:\u001b[0m\u001b[0;34m\u001b[0m\u001b[0;34m\u001b[0m\u001b[0m\n\u001b[0;32m--> 590\u001b[0;31m         \u001b[0msuper\u001b[0m\u001b[0;34m(\u001b[0m\u001b[0mLSTM\u001b[0m\u001b[0;34m,\u001b[0m \u001b[0mself\u001b[0m\u001b[0;34m)\u001b[0m\u001b[0;34m.\u001b[0m\u001b[0m__init__\u001b[0m\u001b[0;34m(\u001b[0m\u001b[0;34m'LSTM'\u001b[0m\u001b[0;34m,\u001b[0m \u001b[0;34m*\u001b[0m\u001b[0margs\u001b[0m\u001b[0;34m,\u001b[0m \u001b[0;34m**\u001b[0m\u001b[0mkwargs\u001b[0m\u001b[0;34m)\u001b[0m\u001b[0;34m\u001b[0m\u001b[0;34m\u001b[0m\u001b[0m\n\u001b[0m\u001b[1;32m    591\u001b[0m \u001b[0;34m\u001b[0m\u001b[0m\n\u001b[1;32m    592\u001b[0m     \u001b[0;32mdef\u001b[0m \u001b[0mget_expected_cell_size\u001b[0m\u001b[0;34m(\u001b[0m\u001b[0mself\u001b[0m\u001b[0;34m,\u001b[0m \u001b[0minput\u001b[0m\u001b[0;34m:\u001b[0m \u001b[0mTensor\u001b[0m\u001b[0;34m,\u001b[0m \u001b[0mbatch_sizes\u001b[0m\u001b[0;34m:\u001b[0m \u001b[0mOptional\u001b[0m\u001b[0;34m[\u001b[0m\u001b[0mTensor\u001b[0m\u001b[0;34m]\u001b[0m\u001b[0;34m)\u001b[0m \u001b[0;34m->\u001b[0m \u001b[0mTuple\u001b[0m\u001b[0;34m[\u001b[0m\u001b[0mint\u001b[0m\u001b[0;34m,\u001b[0m \u001b[0mint\u001b[0m\u001b[0;34m,\u001b[0m \u001b[0mint\u001b[0m\u001b[0;34m]\u001b[0m\u001b[0;34m:\u001b[0m\u001b[0;34m\u001b[0m\u001b[0;34m\u001b[0m\u001b[0m\n",
            "\u001b[0;32m/usr/local/lib/python3.7/dist-packages/torch/nn/modules/rnn.py\u001b[0m in \u001b[0;36m__init__\u001b[0;34m(self, mode, input_size, hidden_size, num_layers, bias, batch_first, dropout, bidirectional, proj_size)\u001b[0m\n\u001b[1;32m     85\u001b[0m                 \u001b[0mlayer_input_size\u001b[0m \u001b[0;34m=\u001b[0m \u001b[0minput_size\u001b[0m \u001b[0;32mif\u001b[0m \u001b[0mlayer\u001b[0m \u001b[0;34m==\u001b[0m \u001b[0;36m0\u001b[0m \u001b[0;32melse\u001b[0m \u001b[0mreal_hidden_size\u001b[0m \u001b[0;34m*\u001b[0m \u001b[0mnum_directions\u001b[0m\u001b[0;34m\u001b[0m\u001b[0;34m\u001b[0m\u001b[0m\n\u001b[1;32m     86\u001b[0m \u001b[0;34m\u001b[0m\u001b[0m\n\u001b[0;32m---> 87\u001b[0;31m                 \u001b[0mw_ih\u001b[0m \u001b[0;34m=\u001b[0m \u001b[0mParameter\u001b[0m\u001b[0;34m(\u001b[0m\u001b[0mtorch\u001b[0m\u001b[0;34m.\u001b[0m\u001b[0mTensor\u001b[0m\u001b[0;34m(\u001b[0m\u001b[0mgate_size\u001b[0m\u001b[0;34m,\u001b[0m \u001b[0mlayer_input_size\u001b[0m\u001b[0;34m)\u001b[0m\u001b[0;34m)\u001b[0m\u001b[0;34m\u001b[0m\u001b[0;34m\u001b[0m\u001b[0m\n\u001b[0m\u001b[1;32m     88\u001b[0m                 \u001b[0mw_hh\u001b[0m \u001b[0;34m=\u001b[0m \u001b[0mParameter\u001b[0m\u001b[0;34m(\u001b[0m\u001b[0mtorch\u001b[0m\u001b[0;34m.\u001b[0m\u001b[0mTensor\u001b[0m\u001b[0;34m(\u001b[0m\u001b[0mgate_size\u001b[0m\u001b[0;34m,\u001b[0m \u001b[0mreal_hidden_size\u001b[0m\u001b[0;34m)\u001b[0m\u001b[0;34m)\u001b[0m\u001b[0;34m\u001b[0m\u001b[0;34m\u001b[0m\u001b[0m\n\u001b[1;32m     89\u001b[0m                 \u001b[0mb_ih\u001b[0m \u001b[0;34m=\u001b[0m \u001b[0mParameter\u001b[0m\u001b[0;34m(\u001b[0m\u001b[0mtorch\u001b[0m\u001b[0;34m.\u001b[0m\u001b[0mTensor\u001b[0m\u001b[0;34m(\u001b[0m\u001b[0mgate_size\u001b[0m\u001b[0;34m)\u001b[0m\u001b[0;34m)\u001b[0m\u001b[0;34m\u001b[0m\u001b[0;34m\u001b[0m\u001b[0m\n",
            "\u001b[0;31mTypeError\u001b[0m: new() received an invalid combination of arguments - got (float, int), but expected one of:\n * (*, torch.device device)\n      didn't match because some of the arguments have invalid types: (!float!, !int!)\n * (torch.Storage storage)\n * (Tensor other)\n * (tuple of ints size, *, torch.device device)\n * (object data, *, torch.device device)\n"
          ]
        }
      ]
    },
    {
      "cell_type": "markdown",
      "metadata": {
        "id": "J9bBSfbP5bYK"
      },
      "source": [
        "##Готовим тестовый и проверочный датасеты"
      ]
    },
    {
      "cell_type": "code",
      "metadata": {
        "colab": {
          "base_uri": "https://localhost:8080/",
          "height": 239
        },
        "id": "P2ZSCmmO3lgU",
        "outputId": "b4fb4605-aeb0-4b9e-f832-7c5439f194f2"
      },
      "source": [
        "train_frac = 0.8\n",
        "split_idx = int(train_frac * len(data_filter))\n",
        "\n",
        "train_df = data_filter[:split_idx]\n",
        "test_df =data_filter[split_idx:]\n",
        "\n",
        "train_dataset = dataframe_to_dataset(train_df, teacher)\n",
        "train_loader = DataLoader(train_dataset, batch_size=1, shuffle=False)\n",
        "\n",
        "test_dataset = dataframe_to_dataset(test_df, teacher)\n",
        "test_loader = DataLoader(test_dataset, batch_size=32, shuffle=False)"
      ],
      "execution_count": null,
      "outputs": [
        {
          "output_type": "error",
          "ename": "NameError",
          "evalue": "ignored",
          "traceback": [
            "\u001b[0;31m---------------------------------------------------------------------------\u001b[0m",
            "\u001b[0;31mNameError\u001b[0m                                 Traceback (most recent call last)",
            "\u001b[0;32m<ipython-input-30-854975bc1037>\u001b[0m in \u001b[0;36m<module>\u001b[0;34m()\u001b[0m\n\u001b[1;32m      5\u001b[0m \u001b[0mtest_df\u001b[0m \u001b[0;34m=\u001b[0m\u001b[0mdata_filter\u001b[0m\u001b[0;34m[\u001b[0m\u001b[0msplit_idx\u001b[0m\u001b[0;34m:\u001b[0m\u001b[0;34m]\u001b[0m\u001b[0;34m\u001b[0m\u001b[0;34m\u001b[0m\u001b[0m\n\u001b[1;32m      6\u001b[0m \u001b[0;34m\u001b[0m\u001b[0m\n\u001b[0;32m----> 7\u001b[0;31m \u001b[0mtrain_dataset\u001b[0m \u001b[0;34m=\u001b[0m \u001b[0mdataframe_to_dataset\u001b[0m\u001b[0;34m(\u001b[0m\u001b[0mtrain_df\u001b[0m\u001b[0;34m,\u001b[0m \u001b[0mteacher\u001b[0m\u001b[0;34m)\u001b[0m\u001b[0;34m\u001b[0m\u001b[0;34m\u001b[0m\u001b[0m\n\u001b[0m\u001b[1;32m      8\u001b[0m \u001b[0mtrain_loader\u001b[0m \u001b[0;34m=\u001b[0m \u001b[0mDataLoader\u001b[0m\u001b[0;34m(\u001b[0m\u001b[0mtrain_dataset\u001b[0m\u001b[0;34m,\u001b[0m \u001b[0mbatch_size\u001b[0m\u001b[0;34m=\u001b[0m\u001b[0;36m1\u001b[0m\u001b[0;34m,\u001b[0m \u001b[0mshuffle\u001b[0m\u001b[0;34m=\u001b[0m\u001b[0;32mFalse\u001b[0m\u001b[0;34m)\u001b[0m\u001b[0;34m\u001b[0m\u001b[0;34m\u001b[0m\u001b[0m\n\u001b[1;32m      9\u001b[0m \u001b[0;34m\u001b[0m\u001b[0m\n",
            "\u001b[0;31mNameError\u001b[0m: name 'teacher' is not defined"
          ]
        }
      ]
    },
    {
      "cell_type": "markdown",
      "metadata": {
        "id": "5i3UgfPB5vmF"
      },
      "source": [
        "##Проверка работы моделей без дистилляции"
      ]
    },
    {
      "cell_type": "code",
      "metadata": {
        "colab": {
          "base_uri": "https://localhost:8080/",
          "height": 168
        },
        "id": "tUtRBjRpn13o",
        "outputId": "c4f16326-6981-4ac0-e514-fe5dfcee37f5"
      },
      "source": [
        "validate(test_loader, linear_model)"
      ],
      "execution_count": null,
      "outputs": [
        {
          "output_type": "error",
          "ename": "NameError",
          "evalue": "ignored",
          "traceback": [
            "\u001b[0;31m---------------------------------------------------------------------------\u001b[0m",
            "\u001b[0;31mNameError\u001b[0m                                 Traceback (most recent call last)",
            "\u001b[0;32m<ipython-input-29-b611296e3794>\u001b[0m in \u001b[0;36m<module>\u001b[0;34m()\u001b[0m\n\u001b[0;32m----> 1\u001b[0;31m \u001b[0mvalidate\u001b[0m\u001b[0;34m(\u001b[0m\u001b[0mtest_loader\u001b[0m\u001b[0;34m,\u001b[0m \u001b[0mlinear_model\u001b[0m\u001b[0;34m)\u001b[0m\u001b[0;34m\u001b[0m\u001b[0;34m\u001b[0m\u001b[0m\n\u001b[0m",
            "\u001b[0;31mNameError\u001b[0m: name 'test_loader' is not defined"
          ]
        }
      ]
    },
    {
      "cell_type": "code",
      "metadata": {
        "colab": {
          "base_uri": "https://localhost:8080/"
        },
        "id": "HySXSmTdn-HN",
        "outputId": "667dcc1a-632a-4d40-95ae-a1c6443a900c"
      },
      "source": [
        "%%timeit -r10\n",
        "\n",
        "with single_thread():\n",
        "    validate(test_loader, linear_model)"
      ],
      "execution_count": null,
      "outputs": [
        {
          "output_type": "stream",
          "text": [
            "Validating: 100%|██████████| 313/313 [00:00<00:00, 1139.48it/s]\n",
            "Validating: 100%|██████████| 313/313 [00:00<00:00, 1195.19it/s]\n",
            "Validating: 100%|██████████| 313/313 [00:00<00:00, 1152.10it/s]\n",
            "Validating: 100%|██████████| 313/313 [00:00<00:00, 1161.16it/s]\n",
            "Validating: 100%|██████████| 313/313 [00:00<00:00, 1149.62it/s]\n",
            "Validating: 100%|██████████| 313/313 [00:00<00:00, 1151.03it/s]\n",
            "Validating: 100%|██████████| 313/313 [00:00<00:00, 1091.15it/s]\n",
            "Validating: 100%|██████████| 313/313 [00:00<00:00, 1153.52it/s]\n",
            "Validating: 100%|██████████| 313/313 [00:00<00:00, 1146.75it/s]\n",
            "Validating: 100%|██████████| 313/313 [00:00<00:00, 1174.45it/s]\n",
            "Validating: 100%|██████████| 313/313 [00:00<00:00, 1177.75it/s]"
          ],
          "name": "stderr"
        },
        {
          "output_type": "stream",
          "text": [
            "1 loop, best of 10: 277 ms per loop\n"
          ],
          "name": "stdout"
        },
        {
          "output_type": "stream",
          "text": [
            "\n"
          ],
          "name": "stderr"
        }
      ]
    },
    {
      "cell_type": "code",
      "metadata": {
        "id": "t84_mQhGdJ-B",
        "colab": {
          "base_uri": "https://localhost:8080/"
        },
        "outputId": "f3aff7a8-7a22-491c-d077-2825e5020549"
      },
      "source": [
        "%%timeit -r10\n",
        "\n",
        "with single_thread():\n",
        "    print(validate(test_loader, cnn))"
      ],
      "execution_count": null,
      "outputs": [
        {
          "output_type": "stream",
          "text": [
            "Validating: 100%|██████████| 313/313 [00:00<00:00, 549.55it/s]\n",
            "Validating:  21%|██▏       | 67/313 [00:00<00:00, 668.80it/s]"
          ],
          "name": "stderr"
        },
        {
          "output_type": "stream",
          "text": [
            "(1.1098637757971646, 0.6435, 0.6429838253619682)\n"
          ],
          "name": "stdout"
        },
        {
          "output_type": "stream",
          "text": [
            "Validating: 100%|██████████| 313/313 [00:00<00:00, 673.06it/s]\n",
            "Validating:  23%|██▎       | 73/313 [00:00<00:00, 729.73it/s]"
          ],
          "name": "stderr"
        },
        {
          "output_type": "stream",
          "text": [
            "(1.1098637757971646, 0.6435, 0.6429838253619682)\n"
          ],
          "name": "stdout"
        },
        {
          "output_type": "stream",
          "text": [
            "Validating: 100%|██████████| 313/313 [00:00<00:00, 689.51it/s]\n",
            "Validating:  23%|██▎       | 72/313 [00:00<00:00, 710.70it/s]"
          ],
          "name": "stderr"
        },
        {
          "output_type": "stream",
          "text": [
            "(1.1098637757971646, 0.6435, 0.6429838253619682)\n"
          ],
          "name": "stdout"
        },
        {
          "output_type": "stream",
          "text": [
            "Validating: 100%|██████████| 313/313 [00:00<00:00, 705.61it/s]\n",
            "Validating:  24%|██▍       | 75/313 [00:00<00:00, 744.26it/s]"
          ],
          "name": "stderr"
        },
        {
          "output_type": "stream",
          "text": [
            "(1.1098637757971646, 0.6435, 0.6429838253619682)\n"
          ],
          "name": "stdout"
        },
        {
          "output_type": "stream",
          "text": [
            "Validating: 100%|██████████| 313/313 [00:00<00:00, 713.99it/s]\n",
            "Validating:  23%|██▎       | 73/313 [00:00<00:00, 728.24it/s]"
          ],
          "name": "stderr"
        },
        {
          "output_type": "stream",
          "text": [
            "(1.1098637757971646, 0.6435, 0.6429838253619682)\n"
          ],
          "name": "stdout"
        },
        {
          "output_type": "stream",
          "text": [
            "Validating: 100%|██████████| 313/313 [00:00<00:00, 716.51it/s]\n",
            "Validating:  24%|██▍       | 75/313 [00:00<00:00, 745.39it/s]"
          ],
          "name": "stderr"
        },
        {
          "output_type": "stream",
          "text": [
            "(1.1098637757971646, 0.6435, 0.6429838253619682)\n"
          ],
          "name": "stdout"
        },
        {
          "output_type": "stream",
          "text": [
            "Validating: 100%|██████████| 313/313 [00:00<00:00, 712.53it/s]\n",
            "Validating:  24%|██▍       | 76/313 [00:00<00:00, 751.99it/s]"
          ],
          "name": "stderr"
        },
        {
          "output_type": "stream",
          "text": [
            "(1.1098637757971646, 0.6435, 0.6429838253619682)\n"
          ],
          "name": "stdout"
        },
        {
          "output_type": "stream",
          "text": [
            "Validating: 100%|██████████| 313/313 [00:00<00:00, 726.44it/s]\n",
            "Validating:  24%|██▍       | 75/313 [00:00<00:00, 745.93it/s]"
          ],
          "name": "stderr"
        },
        {
          "output_type": "stream",
          "text": [
            "(1.1098637757971646, 0.6435, 0.6429838253619682)\n"
          ],
          "name": "stdout"
        },
        {
          "output_type": "stream",
          "text": [
            "Validating: 100%|██████████| 313/313 [00:00<00:00, 715.28it/s]\n",
            "Validating:  24%|██▍       | 75/313 [00:00<00:00, 749.70it/s]"
          ],
          "name": "stderr"
        },
        {
          "output_type": "stream",
          "text": [
            "(1.1098637757971646, 0.6435, 0.6429838253619682)\n"
          ],
          "name": "stdout"
        },
        {
          "output_type": "stream",
          "text": [
            "Validating: 100%|██████████| 313/313 [00:00<00:00, 719.13it/s]\n",
            "Validating:  23%|██▎       | 73/313 [00:00<00:00, 729.29it/s]"
          ],
          "name": "stderr"
        },
        {
          "output_type": "stream",
          "text": [
            "(1.1098637757971646, 0.6435, 0.6429838253619682)\n"
          ],
          "name": "stdout"
        },
        {
          "output_type": "stream",
          "text": [
            "Validating: 100%|██████████| 313/313 [00:00<00:00, 717.26it/s]"
          ],
          "name": "stderr"
        },
        {
          "output_type": "stream",
          "text": [
            "(1.1098637757971646, 0.6435, 0.6429838253619682)\n",
            "1 loop, best of 10: 454 ms per loop\n"
          ],
          "name": "stdout"
        },
        {
          "output_type": "stream",
          "text": [
            "\n"
          ],
          "name": "stderr"
        }
      ]
    },
    {
      "cell_type": "code",
      "metadata": {
        "id": "gAQT2-zUYP40",
        "colab": {
          "base_uri": "https://localhost:8080/"
        },
        "outputId": "ba9fdccc-71f4-4cb1-af3b-70594e8fe12a"
      },
      "source": [
        "%%timeit -r10\n",
        "\n",
        "with single_thread():\n",
        "    validate(test_loader, cnn)"
      ],
      "execution_count": null,
      "outputs": [
        {
          "output_type": "stream",
          "text": [
            "Validating: 100%|██████████| 313/313 [00:00<00:00, 746.51it/s]\n",
            "Validating: 100%|██████████| 313/313 [00:00<00:00, 755.94it/s]\n",
            "Validating: 100%|██████████| 313/313 [00:00<00:00, 732.66it/s]\n",
            "Validating: 100%|██████████| 313/313 [00:00<00:00, 758.13it/s]\n",
            "Validating: 100%|██████████| 313/313 [00:00<00:00, 733.98it/s]\n",
            "Validating: 100%|██████████| 313/313 [00:00<00:00, 714.38it/s]\n",
            "Validating: 100%|██████████| 313/313 [00:00<00:00, 740.00it/s]\n",
            "Validating: 100%|██████████| 313/313 [00:00<00:00, 702.71it/s]\n",
            "Validating: 100%|██████████| 313/313 [00:00<00:00, 748.43it/s]\n",
            "Validating: 100%|██████████| 313/313 [00:00<00:00, 741.62it/s]\n",
            "Validating: 100%|██████████| 313/313 [00:00<00:00, 762.13it/s]"
          ],
          "name": "stderr"
        },
        {
          "output_type": "stream",
          "text": [
            "1 loop, best of 10: 426 ms per loop\n"
          ],
          "name": "stdout"
        },
        {
          "output_type": "stream",
          "text": [
            "\n"
          ],
          "name": "stderr"
        }
      ]
    },
    {
      "cell_type": "markdown",
      "metadata": {
        "id": "TzgzIprndMye"
      },
      "source": [
        "##Linear model\n"
      ]
    },
    {
      "cell_type": "code",
      "metadata": {
        "id": "vIUzM-Ly-0vm"
      },
      "source": [
        "N_EPOCHS = 5\n",
        "alpha = 0.5"
      ],
      "execution_count": null,
      "outputs": []
    },
    {
      "cell_type": "code",
      "metadata": {
        "colab": {
          "base_uri": "https://localhost:8080/",
          "height": 460
        },
        "id": "bf8Jd5TWY78z",
        "outputId": "a0402a99-6368-4b90-d910-199654a144a7"
      },
      "source": [
        "linear_model = LinearModel(n_vocab, N_LABELS, embedding_dim=EMBEDDING_DIM, padding_idx=padding_idx)\n",
        "optim = torch.optim.SGD(linear_model.parameters(), lr=LR)\n",
        "sched = torch.optim.lr_scheduler.StepLR(optim, step_size=1, gamma=0.5)\n",
        "linear_model_train_results = train_loop(linear_model, optim, train_loader, test_loader, N_EPOCHS, sched, distil=False, alpha = 0.5,temperature = 10)\n",
        "linear_model_train_results[\"model\"] = \"Linear\"\n",
        "linear_model_train_results"
      ],
      "execution_count": null,
      "outputs": [
        {
          "output_type": "stream",
          "text": [
            "Batch progress for epoch 0: 100%|██████████| 40000/40000 [01:07<00:00, 589.52it/s]\n",
            "Validating: 100%|██████████| 313/313 [00:00<00:00, 1070.02it/s]\n",
            "Batch progress for epoch 1:   0%|          | 60/40000 [00:00<01:07, 595.52it/s]"
          ],
          "name": "stderr"
        },
        {
          "output_type": "stream",
          "text": [
            "Loss = 0.511004558624551, Accuracy = 0.8332, F1-score = 0.8343448242714816\n"
          ],
          "name": "stdout"
        },
        {
          "output_type": "stream",
          "text": [
            "Batch progress for epoch 1: 100%|██████████| 40000/40000 [01:07<00:00, 588.52it/s]\n",
            "Validating: 100%|██████████| 313/313 [00:00<00:00, 1073.45it/s]\n",
            "Batch progress for epoch 2:   0%|          | 61/40000 [00:00<01:05, 605.52it/s]"
          ],
          "name": "stderr"
        },
        {
          "output_type": "stream",
          "text": [
            "Loss = 0.4338652831249344, Accuracy = 0.8555, F1-score = 0.8564750024339014\n"
          ],
          "name": "stdout"
        },
        {
          "output_type": "stream",
          "text": [
            "Batch progress for epoch 2: 100%|██████████| 40000/40000 [01:08<00:00, 586.56it/s]\n",
            "Validating: 100%|██████████| 313/313 [00:00<00:00, 1079.22it/s]\n",
            "Batch progress for epoch 3:   0%|          | 60/40000 [00:00<01:07, 592.25it/s]"
          ],
          "name": "stderr"
        },
        {
          "output_type": "stream",
          "text": [
            "Loss = 0.40850507060940655, Accuracy = 0.8613, F1-score = 0.8620379523676929\n"
          ],
          "name": "stdout"
        },
        {
          "output_type": "stream",
          "text": [
            "Batch progress for epoch 3: 100%|██████████| 40000/40000 [01:08<00:00, 588.13it/s]\n",
            "Validating: 100%|██████████| 313/313 [00:00<00:00, 1107.18it/s]\n",
            "Batch progress for epoch 4:   0%|          | 59/40000 [00:00<01:08, 585.73it/s]"
          ],
          "name": "stderr"
        },
        {
          "output_type": "stream",
          "text": [
            "Loss = 0.3943814073507778, Accuracy = 0.8658, F1-score = 0.8663839949205906\n"
          ],
          "name": "stdout"
        },
        {
          "output_type": "stream",
          "text": [
            "Batch progress for epoch 4: 100%|██████████| 40000/40000 [01:08<00:00, 586.53it/s]\n",
            "Validating: 100%|██████████| 313/313 [00:00<00:00, 1088.81it/s]\n"
          ],
          "name": "stderr"
        },
        {
          "output_type": "stream",
          "text": [
            "Loss = 0.38669489483578134, Accuracy = 0.8682, F1-score = 0.8687496015362116\n"
          ],
          "name": "stdout"
        },
        {
          "output_type": "execute_result",
          "data": {
            "text/html": [
              "<div>\n",
              "<style scoped>\n",
              "    .dataframe tbody tr th:only-of-type {\n",
              "        vertical-align: middle;\n",
              "    }\n",
              "\n",
              "    .dataframe tbody tr th {\n",
              "        vertical-align: top;\n",
              "    }\n",
              "\n",
              "    .dataframe thead th {\n",
              "        text-align: right;\n",
              "    }\n",
              "</style>\n",
              "<table border=\"1\" class=\"dataframe\">\n",
              "  <thead>\n",
              "    <tr style=\"text-align: right;\">\n",
              "      <th></th>\n",
              "      <th>epoch</th>\n",
              "      <th>train_loss</th>\n",
              "      <th>train_acc</th>\n",
              "      <th>train_f1_macro</th>\n",
              "      <th>test_loss</th>\n",
              "      <th>test_acc</th>\n",
              "      <th>test_f1_macro</th>\n",
              "      <th>model</th>\n",
              "    </tr>\n",
              "  </thead>\n",
              "  <tbody>\n",
              "    <tr>\n",
              "      <th>0</th>\n",
              "      <td>0</td>\n",
              "      <td>1.177482</td>\n",
              "      <td>0.571100</td>\n",
              "      <td>0.570708</td>\n",
              "      <td>0.511005</td>\n",
              "      <td>0.8332</td>\n",
              "      <td>0.834345</td>\n",
              "      <td>Linear</td>\n",
              "    </tr>\n",
              "    <tr>\n",
              "      <th>1</th>\n",
              "      <td>1</td>\n",
              "      <td>0.450894</td>\n",
              "      <td>0.846800</td>\n",
              "      <td>0.846243</td>\n",
              "      <td>0.433865</td>\n",
              "      <td>0.8555</td>\n",
              "      <td>0.856475</td>\n",
              "      <td>Linear</td>\n",
              "    </tr>\n",
              "    <tr>\n",
              "      <th>2</th>\n",
              "      <td>2</td>\n",
              "      <td>0.391905</td>\n",
              "      <td>0.863300</td>\n",
              "      <td>0.862762</td>\n",
              "      <td>0.408505</td>\n",
              "      <td>0.8613</td>\n",
              "      <td>0.862038</td>\n",
              "      <td>Linear</td>\n",
              "    </tr>\n",
              "    <tr>\n",
              "      <th>3</th>\n",
              "      <td>3</td>\n",
              "      <td>0.368277</td>\n",
              "      <td>0.870750</td>\n",
              "      <td>0.870247</td>\n",
              "      <td>0.394381</td>\n",
              "      <td>0.8658</td>\n",
              "      <td>0.866384</td>\n",
              "      <td>Linear</td>\n",
              "    </tr>\n",
              "    <tr>\n",
              "      <th>4</th>\n",
              "      <td>4</td>\n",
              "      <td>0.357230</td>\n",
              "      <td>0.874875</td>\n",
              "      <td>0.874390</td>\n",
              "      <td>0.386695</td>\n",
              "      <td>0.8682</td>\n",
              "      <td>0.868750</td>\n",
              "      <td>Linear</td>\n",
              "    </tr>\n",
              "  </tbody>\n",
              "</table>\n",
              "</div>"
            ],
            "text/plain": [
              "   epoch  train_loss  train_acc  ...  test_acc  test_f1_macro   model\n",
              "0      0    1.177482   0.571100  ...    0.8332       0.834345  Linear\n",
              "1      1    0.450894   0.846800  ...    0.8555       0.856475  Linear\n",
              "2      2    0.391905   0.863300  ...    0.8613       0.862038  Linear\n",
              "3      3    0.368277   0.870750  ...    0.8658       0.866384  Linear\n",
              "4      4    0.357230   0.874875  ...    0.8682       0.868750  Linear\n",
              "\n",
              "[5 rows x 8 columns]"
            ]
          },
          "metadata": {
            "tags": []
          },
          "execution_count": 41
        }
      ]
    },
    {
      "cell_type": "code",
      "metadata": {
        "colab": {
          "base_uri": "https://localhost:8080/",
          "height": 516
        },
        "id": "clbIp15Km536",
        "outputId": "931579ee-ae16-4634-d795-e5cbde941c95"
      },
      "source": [
        "linear_model = LinearModel(n_vocab, N_LABELS, embedding_dim=EMBEDDING_DIM, padding_idx=padding_idx)\n",
        "optim = torch.optim.SGD(linear_model.parameters(), lr=LR)\n",
        "sched = torch.optim.lr_scheduler.StepLR(optim, step_size=1, gamma=0.5)\n",
        "linear_model_train_results = train_loop(linear_model, \n",
        "                                             optim, \n",
        "                                             train_loader, \n",
        "                                             test_loader, \n",
        "                                             N_EPOCHS, \n",
        "                                             sched, \n",
        "                                             distil=True, \n",
        "                                             alpha = 0.5,\n",
        "                                             temperature = 10)\n",
        "linear_model_train_results[\"model\"] = \"Linear\"\n",
        "linear_model_train_results"
      ],
      "execution_count": null,
      "outputs": [
        {
          "output_type": "stream",
          "text": [
            "Batch progress for epoch 0:   0%|          | 0/40000 [00:00<?, ?it/s]/usr/local/lib/python3.7/dist-packages/torch/nn/functional.py:2611: UserWarning: reduction: 'mean' divides the total loss by both the batch size and the support size.'batchmean' divides only by the batch size, and aligns with the KL div math definition.'mean' will be changed to behave the same as 'batchmean' in the next major release.\n",
            "  \"reduction: 'mean' divides the total loss by both the batch size and the support size.\"\n",
            "Batch progress for epoch 0: 100%|██████████| 40000/40000 [01:15<00:00, 527.24it/s]\n",
            "Validating: 100%|██████████| 313/313 [00:00<00:00, 1081.26it/s]\n",
            "Batch progress for epoch 1:   0%|          | 54/40000 [00:00<01:14, 534.78it/s]"
          ],
          "name": "stderr"
        },
        {
          "output_type": "stream",
          "text": [
            "Loss = 0.5117175499566446, Accuracy = 0.8314, F1-score = 0.8325285075154213\n"
          ],
          "name": "stdout"
        },
        {
          "output_type": "stream",
          "text": [
            "Batch progress for epoch 1: 100%|██████████| 40000/40000 [01:15<00:00, 527.61it/s]\n",
            "Validating: 100%|██████████| 313/313 [00:00<00:00, 1048.08it/s]\n",
            "Batch progress for epoch 2:   0%|          | 53/40000 [00:00<01:15, 527.35it/s]"
          ],
          "name": "stderr"
        },
        {
          "output_type": "stream",
          "text": [
            "Loss = 0.43401093783374795, Accuracy = 0.8553, F1-score = 0.8562910467785396\n"
          ],
          "name": "stdout"
        },
        {
          "output_type": "stream",
          "text": [
            "Batch progress for epoch 2: 100%|██████████| 40000/40000 [01:16<00:00, 525.52it/s]\n",
            "Validating: 100%|██████████| 313/313 [00:00<00:00, 1078.72it/s]\n",
            "Batch progress for epoch 3:   0%|          | 52/40000 [00:00<01:17, 512.42it/s]"
          ],
          "name": "stderr"
        },
        {
          "output_type": "stream",
          "text": [
            "Loss = 0.4082625872030045, Accuracy = 0.8605, F1-score = 0.8612085263849645\n"
          ],
          "name": "stdout"
        },
        {
          "output_type": "stream",
          "text": [
            "Batch progress for epoch 3: 100%|██████████| 40000/40000 [01:15<00:00, 527.33it/s]\n",
            "Validating: 100%|██████████| 313/313 [00:00<00:00, 1095.30it/s]\n",
            "Batch progress for epoch 4:   0%|          | 54/40000 [00:00<01:14, 535.22it/s]"
          ],
          "name": "stderr"
        },
        {
          "output_type": "stream",
          "text": [
            "Loss = 0.3940491940076359, Accuracy = 0.8656, F1-score = 0.866170176874023\n"
          ],
          "name": "stdout"
        },
        {
          "output_type": "stream",
          "text": [
            "Batch progress for epoch 4: 100%|██████████| 40000/40000 [01:15<00:00, 530.88it/s]\n",
            "Validating: 100%|██████████| 313/313 [00:00<00:00, 1096.38it/s]\n"
          ],
          "name": "stderr"
        },
        {
          "output_type": "stream",
          "text": [
            "Loss = 0.38633462824760534, Accuracy = 0.8683, F1-score = 0.8687822653698314\n"
          ],
          "name": "stdout"
        },
        {
          "output_type": "execute_result",
          "data": {
            "text/html": [
              "<div>\n",
              "<style scoped>\n",
              "    .dataframe tbody tr th:only-of-type {\n",
              "        vertical-align: middle;\n",
              "    }\n",
              "\n",
              "    .dataframe tbody tr th {\n",
              "        vertical-align: top;\n",
              "    }\n",
              "\n",
              "    .dataframe thead th {\n",
              "        text-align: right;\n",
              "    }\n",
              "</style>\n",
              "<table border=\"1\" class=\"dataframe\">\n",
              "  <thead>\n",
              "    <tr style=\"text-align: right;\">\n",
              "      <th></th>\n",
              "      <th>epoch</th>\n",
              "      <th>train_loss</th>\n",
              "      <th>train_acc</th>\n",
              "      <th>train_f1_macro</th>\n",
              "      <th>test_loss</th>\n",
              "      <th>test_acc</th>\n",
              "      <th>test_f1_macro</th>\n",
              "      <th>model</th>\n",
              "    </tr>\n",
              "  </thead>\n",
              "  <tbody>\n",
              "    <tr>\n",
              "      <th>0</th>\n",
              "      <td>0</td>\n",
              "      <td>0.590384</td>\n",
              "      <td>0.570725</td>\n",
              "      <td>0.570307</td>\n",
              "      <td>0.511718</td>\n",
              "      <td>0.8314</td>\n",
              "      <td>0.832529</td>\n",
              "      <td>Linear</td>\n",
              "    </tr>\n",
              "    <tr>\n",
              "      <th>1</th>\n",
              "      <td>1</td>\n",
              "      <td>0.227974</td>\n",
              "      <td>0.846100</td>\n",
              "      <td>0.845536</td>\n",
              "      <td>0.434011</td>\n",
              "      <td>0.8553</td>\n",
              "      <td>0.856291</td>\n",
              "      <td>Linear</td>\n",
              "    </tr>\n",
              "    <tr>\n",
              "      <th>2</th>\n",
              "      <td>2</td>\n",
              "      <td>0.199185</td>\n",
              "      <td>0.863675</td>\n",
              "      <td>0.863120</td>\n",
              "      <td>0.408263</td>\n",
              "      <td>0.8605</td>\n",
              "      <td>0.861209</td>\n",
              "      <td>Linear</td>\n",
              "    </tr>\n",
              "    <tr>\n",
              "      <th>3</th>\n",
              "      <td>3</td>\n",
              "      <td>0.187666</td>\n",
              "      <td>0.870950</td>\n",
              "      <td>0.870442</td>\n",
              "      <td>0.394049</td>\n",
              "      <td>0.8656</td>\n",
              "      <td>0.866170</td>\n",
              "      <td>Linear</td>\n",
              "    </tr>\n",
              "    <tr>\n",
              "      <th>4</th>\n",
              "      <td>4</td>\n",
              "      <td>0.182281</td>\n",
              "      <td>0.875400</td>\n",
              "      <td>0.874921</td>\n",
              "      <td>0.386335</td>\n",
              "      <td>0.8683</td>\n",
              "      <td>0.868782</td>\n",
              "      <td>Linear</td>\n",
              "    </tr>\n",
              "  </tbody>\n",
              "</table>\n",
              "</div>"
            ],
            "text/plain": [
              "   epoch  train_loss  train_acc  ...  test_acc  test_f1_macro   model\n",
              "0      0    0.590384   0.570725  ...    0.8314       0.832529  Linear\n",
              "1      1    0.227974   0.846100  ...    0.8553       0.856291  Linear\n",
              "2      2    0.199185   0.863675  ...    0.8605       0.861209  Linear\n",
              "3      3    0.187666   0.870950  ...    0.8656       0.866170  Linear\n",
              "4      4    0.182281   0.875400  ...    0.8683       0.868782  Linear\n",
              "\n",
              "[5 rows x 8 columns]"
            ]
          },
          "metadata": {
            "tags": []
          },
          "execution_count": 43
        }
      ]
    },
    {
      "cell_type": "code",
      "metadata": {
        "colab": {
          "base_uri": "https://localhost:8080/",
          "height": 516
        },
        "id": "AN-WskhyCkek",
        "outputId": "ffd64d85-eed3-4f4f-80e1-2b3ac2435245"
      },
      "source": [
        "linear_model = LinearModel(n_vocab, N_LABELS, embedding_dim=EMBEDDING_DIM, padding_idx=padding_idx)\n",
        "optim = torch.optim.SGD(linear_model.parameters(), lr=LR)\n",
        "sched = torch.optim.lr_scheduler.StepLR(optim, step_size=1, gamma=0.5)\n",
        "linear_model_dist_train_results = train_loop(linear_model, \n",
        "                                             optim, \n",
        "                                             train_loader, \n",
        "                                             test_loader, \n",
        "                                             N_EPOCHS, \n",
        "                                             sched, \n",
        "                                             distil=True, \n",
        "                                             alpha = 1,\n",
        "                                             temperature = 10)\n",
        "linear_model_dist_train_results[\"model\"] = \"Linear\"\n",
        "linear_model_dist_train_results"
      ],
      "execution_count": null,
      "outputs": [
        {
          "output_type": "stream",
          "text": [
            "Batch progress for epoch 0:   0%|          | 0/40000 [00:00<?, ?it/s]/usr/local/lib/python3.7/dist-packages/torch/nn/functional.py:2611: UserWarning: reduction: 'mean' divides the total loss by both the batch size and the support size.'batchmean' divides only by the batch size, and aligns with the KL div math definition.'mean' will be changed to behave the same as 'batchmean' in the next major release.\n",
            "  \"reduction: 'mean' divides the total loss by both the batch size and the support size.\"\n",
            "Batch progress for epoch 0: 100%|██████████| 40000/40000 [01:15<00:00, 532.31it/s]\n",
            "Validating: 100%|██████████| 313/313 [00:00<00:00, 1102.61it/s]\n",
            "Batch progress for epoch 1:   0%|          | 55/40000 [00:00<01:13, 542.71it/s]"
          ],
          "name": "stderr"
        },
        {
          "output_type": "stream",
          "text": [
            "Loss = 0.5081122481404021, Accuracy = 0.8321, F1-score = 0.8332665829092993\n"
          ],
          "name": "stdout"
        },
        {
          "output_type": "stream",
          "text": [
            "Batch progress for epoch 1: 100%|██████████| 40000/40000 [01:15<00:00, 532.42it/s]\n",
            "Validating: 100%|██████████| 313/313 [00:00<00:00, 1072.08it/s]\n",
            "Batch progress for epoch 2:   0%|          | 53/40000 [00:00<01:16, 521.06it/s]"
          ],
          "name": "stderr"
        },
        {
          "output_type": "stream",
          "text": [
            "Loss = 0.43148335209860206, Accuracy = 0.8554, F1-score = 0.8564197436398645\n"
          ],
          "name": "stdout"
        },
        {
          "output_type": "stream",
          "text": [
            "Batch progress for epoch 2: 100%|██████████| 40000/40000 [01:14<00:00, 535.48it/s]\n",
            "Validating: 100%|██████████| 313/313 [00:00<00:00, 1147.78it/s]\n",
            "Batch progress for epoch 3:   0%|          | 56/40000 [00:00<01:12, 550.91it/s]"
          ],
          "name": "stderr"
        },
        {
          "output_type": "stream",
          "text": [
            "Loss = 0.40660741549139967, Accuracy = 0.8612, F1-score = 0.8619006664784624\n"
          ],
          "name": "stdout"
        },
        {
          "output_type": "stream",
          "text": [
            "Batch progress for epoch 3: 100%|██████████| 40000/40000 [01:14<00:00, 539.64it/s]\n",
            "Validating: 100%|██████████| 313/313 [00:00<00:00, 1114.77it/s]\n",
            "Batch progress for epoch 4:   0%|          | 55/40000 [00:00<01:12, 548.28it/s]"
          ],
          "name": "stderr"
        },
        {
          "output_type": "stream",
          "text": [
            "Loss = 0.3927749747904345, Accuracy = 0.8649, F1-score = 0.8654663890757618\n"
          ],
          "name": "stdout"
        },
        {
          "output_type": "stream",
          "text": [
            "Batch progress for epoch 4: 100%|██████████| 40000/40000 [01:14<00:00, 539.88it/s]\n",
            "Validating: 100%|██████████| 313/313 [00:00<00:00, 1117.49it/s]\n"
          ],
          "name": "stderr"
        },
        {
          "output_type": "stream",
          "text": [
            "Loss = 0.38522661672518277, Accuracy = 0.8675, F1-score = 0.8680038723503127\n"
          ],
          "name": "stdout"
        },
        {
          "output_type": "execute_result",
          "data": {
            "text/html": [
              "<div>\n",
              "<style scoped>\n",
              "    .dataframe tbody tr th:only-of-type {\n",
              "        vertical-align: middle;\n",
              "    }\n",
              "\n",
              "    .dataframe tbody tr th {\n",
              "        vertical-align: top;\n",
              "    }\n",
              "\n",
              "    .dataframe thead th {\n",
              "        text-align: right;\n",
              "    }\n",
              "</style>\n",
              "<table border=\"1\" class=\"dataframe\">\n",
              "  <thead>\n",
              "    <tr style=\"text-align: right;\">\n",
              "      <th></th>\n",
              "      <th>epoch</th>\n",
              "      <th>train_loss</th>\n",
              "      <th>train_acc</th>\n",
              "      <th>train_f1_macro</th>\n",
              "      <th>test_loss</th>\n",
              "      <th>test_acc</th>\n",
              "      <th>test_f1_macro</th>\n",
              "      <th>model</th>\n",
              "    </tr>\n",
              "  </thead>\n",
              "  <tbody>\n",
              "    <tr>\n",
              "      <th>0</th>\n",
              "      <td>0</td>\n",
              "      <td>0.004374</td>\n",
              "      <td>0.570475</td>\n",
              "      <td>0.570037</td>\n",
              "      <td>0.508112</td>\n",
              "      <td>0.8321</td>\n",
              "      <td>0.833267</td>\n",
              "      <td>Linear</td>\n",
              "    </tr>\n",
              "    <tr>\n",
              "      <th>1</th>\n",
              "      <td>1</td>\n",
              "      <td>0.005841</td>\n",
              "      <td>0.846875</td>\n",
              "      <td>0.846330</td>\n",
              "      <td>0.431483</td>\n",
              "      <td>0.8554</td>\n",
              "      <td>0.856420</td>\n",
              "      <td>Linear</td>\n",
              "    </tr>\n",
              "    <tr>\n",
              "      <th>2</th>\n",
              "      <td>2</td>\n",
              "      <td>0.006902</td>\n",
              "      <td>0.863275</td>\n",
              "      <td>0.862738</td>\n",
              "      <td>0.406607</td>\n",
              "      <td>0.8612</td>\n",
              "      <td>0.861901</td>\n",
              "      <td>Linear</td>\n",
              "    </tr>\n",
              "    <tr>\n",
              "      <th>3</th>\n",
              "      <td>3</td>\n",
              "      <td>0.007383</td>\n",
              "      <td>0.871125</td>\n",
              "      <td>0.870625</td>\n",
              "      <td>0.392775</td>\n",
              "      <td>0.8649</td>\n",
              "      <td>0.865466</td>\n",
              "      <td>Linear</td>\n",
              "    </tr>\n",
              "    <tr>\n",
              "      <th>4</th>\n",
              "      <td>4</td>\n",
              "      <td>0.007615</td>\n",
              "      <td>0.875825</td>\n",
              "      <td>0.875326</td>\n",
              "      <td>0.385227</td>\n",
              "      <td>0.8675</td>\n",
              "      <td>0.868004</td>\n",
              "      <td>Linear</td>\n",
              "    </tr>\n",
              "  </tbody>\n",
              "</table>\n",
              "</div>"
            ],
            "text/plain": [
              "   epoch  train_loss  train_acc  ...  test_acc  test_f1_macro   model\n",
              "0      0    0.004374   0.570475  ...    0.8321       0.833267  Linear\n",
              "1      1    0.005841   0.846875  ...    0.8554       0.856420  Linear\n",
              "2      2    0.006902   0.863275  ...    0.8612       0.861901  Linear\n",
              "3      3    0.007383   0.871125  ...    0.8649       0.865466  Linear\n",
              "4      4    0.007615   0.875825  ...    0.8675       0.868004  Linear\n",
              "\n",
              "[5 rows x 8 columns]"
            ]
          },
          "metadata": {
            "tags": []
          },
          "execution_count": 45
        }
      ]
    },
    {
      "cell_type": "code",
      "metadata": {
        "colab": {
          "base_uri": "https://localhost:8080/",
          "height": 929
        },
        "id": "AdO8LleP6CgQ",
        "outputId": "58e9b33b-2047-46de-fc10-71489aa42854"
      },
      "source": [
        "linear_model = LinearModel(n_vocab, N_LABELS, embedding_dim=EMBEDDING_DIM, padding_idx=padding_idx)\n",
        "optim = torch.optim.SGD(linear_model.parameters(), lr=LR)\n",
        "sched = torch.optim.lr_scheduler.StepLR(optim, step_size=1, gamma=0.5)\n",
        "linear_model_dist_train_results = train_loop(linear_model, \n",
        "                                             optim, \n",
        "                                             train_loader, \n",
        "                                             test_loader, \n",
        "                                             10, \n",
        "                                             sched, \n",
        "                                             distil=True, \n",
        "                                             alpha = 0.5,\n",
        "                                             temperature = 10)\n",
        "linear_model_dist_train_results[\"model\"] = \"Linear\"\n",
        "linear_model_dist_train_results"
      ],
      "execution_count": null,
      "outputs": [
        {
          "output_type": "stream",
          "text": [
            "Batch progress for epoch 0:   0%|          | 0/40000 [00:00<?, ?it/s]/usr/local/lib/python3.7/dist-packages/torch/nn/functional.py:2611: UserWarning: reduction: 'mean' divides the total loss by both the batch size and the support size.'batchmean' divides only by the batch size, and aligns with the KL div math definition.'mean' will be changed to behave the same as 'batchmean' in the next major release.\n",
            "  \"reduction: 'mean' divides the total loss by both the batch size and the support size.\"\n",
            "Batch progress for epoch 0: 100%|██████████| 40000/40000 [01:14<00:00, 536.25it/s]\n",
            "Validating: 100%|██████████| 313/313 [00:00<00:00, 1107.44it/s]\n",
            "Batch progress for epoch 1:   0%|          | 52/40000 [00:00<01:16, 518.86it/s]"
          ],
          "name": "stderr"
        },
        {
          "output_type": "stream",
          "text": [
            "Loss = 0.5101355766050351, Accuracy = 0.8321, F1-score = 0.8331934532446613\n"
          ],
          "name": "stdout"
        },
        {
          "output_type": "stream",
          "text": [
            "Batch progress for epoch 1: 100%|██████████| 40000/40000 [01:14<00:00, 535.34it/s]\n",
            "Validating: 100%|██████████| 313/313 [00:00<00:00, 1089.31it/s]\n",
            "Batch progress for epoch 2:   0%|          | 56/40000 [00:00<01:11, 558.78it/s]"
          ],
          "name": "stderr"
        },
        {
          "output_type": "stream",
          "text": [
            "Loss = 0.43324778228998184, Accuracy = 0.854, F1-score = 0.8549531705235136\n"
          ],
          "name": "stdout"
        },
        {
          "output_type": "stream",
          "text": [
            "Batch progress for epoch 2: 100%|██████████| 40000/40000 [01:15<00:00, 532.72it/s]\n",
            "Validating: 100%|██████████| 313/313 [00:00<00:00, 1130.77it/s]\n",
            "Batch progress for epoch 3:   0%|          | 55/40000 [00:00<01:13, 540.73it/s]"
          ],
          "name": "stderr"
        },
        {
          "output_type": "stream",
          "text": [
            "Loss = 0.40807883062968237, Accuracy = 0.8614, F1-score = 0.8620343057037957\n"
          ],
          "name": "stdout"
        },
        {
          "output_type": "stream",
          "text": [
            "Batch progress for epoch 3: 100%|██████████| 40000/40000 [01:14<00:00, 534.40it/s]\n",
            "Validating: 100%|██████████| 313/313 [00:00<00:00, 1100.46it/s]\n",
            "Batch progress for epoch 4:   0%|          | 55/40000 [00:00<01:13, 541.77it/s]"
          ],
          "name": "stderr"
        },
        {
          "output_type": "stream",
          "text": [
            "Loss = 0.39402387971980884, Accuracy = 0.8644, F1-score = 0.8649370527501541\n"
          ],
          "name": "stdout"
        },
        {
          "output_type": "stream",
          "text": [
            "Batch progress for epoch 4: 100%|██████████| 40000/40000 [01:15<00:00, 533.14it/s]\n",
            "Validating: 100%|██████████| 313/313 [00:00<00:00, 1112.41it/s]\n",
            "Batch progress for epoch 5:   0%|          | 53/40000 [00:00<01:15, 526.02it/s]"
          ],
          "name": "stderr"
        },
        {
          "output_type": "stream",
          "text": [
            "Loss = 0.38631627699151966, Accuracy = 0.8667, F1-score = 0.8671947770537896\n"
          ],
          "name": "stdout"
        },
        {
          "output_type": "stream",
          "text": [
            "Batch progress for epoch 5: 100%|██████████| 40000/40000 [01:14<00:00, 534.34it/s]\n",
            "Validating: 100%|██████████| 313/313 [00:00<00:00, 1122.98it/s]\n",
            "Batch progress for epoch 6:   0%|          | 54/40000 [00:00<01:14, 537.55it/s]"
          ],
          "name": "stderr"
        },
        {
          "output_type": "stream",
          "text": [
            "Loss = 0.3831407031216941, Accuracy = 0.8676, F1-score = 0.8680342968395365\n"
          ],
          "name": "stdout"
        },
        {
          "output_type": "stream",
          "text": [
            "Batch progress for epoch 6: 100%|██████████| 40000/40000 [01:14<00:00, 533.72it/s]\n",
            "Validating: 100%|██████████| 313/313 [00:00<00:00, 1112.25it/s]\n",
            "Batch progress for epoch 7:   0%|          | 56/40000 [00:00<01:11, 555.19it/s]"
          ],
          "name": "stderr"
        },
        {
          "output_type": "stream",
          "text": [
            "Loss = 0.3821043922973517, Accuracy = 0.8676, F1-score = 0.8680646876882896\n"
          ],
          "name": "stdout"
        },
        {
          "output_type": "stream",
          "text": [
            "Batch progress for epoch 7: 100%|██████████| 40000/40000 [01:15<00:00, 532.48it/s]\n",
            "Validating: 100%|██████████| 313/313 [00:00<00:00, 1051.96it/s]\n",
            "Batch progress for epoch 8:   0%|          | 55/40000 [00:00<01:13, 544.38it/s]"
          ],
          "name": "stderr"
        },
        {
          "output_type": "stream",
          "text": [
            "Loss = 0.3817236299712818, Accuracy = 0.8664, F1-score = 0.866831704629093\n"
          ],
          "name": "stdout"
        },
        {
          "output_type": "stream",
          "text": [
            "Batch progress for epoch 8: 100%|██████████| 40000/40000 [01:15<00:00, 533.12it/s]\n",
            "Validating: 100%|██████████| 313/313 [00:00<00:00, 1106.94it/s]\n",
            "Batch progress for epoch 9:   0%|          | 54/40000 [00:00<01:14, 534.12it/s]"
          ],
          "name": "stderr"
        },
        {
          "output_type": "stream",
          "text": [
            "Loss = 0.38153657221946474, Accuracy = 0.8667, F1-score = 0.8670993268464935\n"
          ],
          "name": "stdout"
        },
        {
          "output_type": "stream",
          "text": [
            "Batch progress for epoch 9: 100%|██████████| 40000/40000 [01:15<00:00, 533.31it/s]\n",
            "Validating: 100%|██████████| 313/313 [00:00<00:00, 1094.21it/s]\n"
          ],
          "name": "stderr"
        },
        {
          "output_type": "stream",
          "text": [
            "Loss = 0.3814492084966681, Accuracy = 0.867, F1-score = 0.8673995436169945\n"
          ],
          "name": "stdout"
        },
        {
          "output_type": "execute_result",
          "data": {
            "text/html": [
              "<div>\n",
              "<style scoped>\n",
              "    .dataframe tbody tr th:only-of-type {\n",
              "        vertical-align: middle;\n",
              "    }\n",
              "\n",
              "    .dataframe tbody tr th {\n",
              "        vertical-align: top;\n",
              "    }\n",
              "\n",
              "    .dataframe thead th {\n",
              "        text-align: right;\n",
              "    }\n",
              "</style>\n",
              "<table border=\"1\" class=\"dataframe\">\n",
              "  <thead>\n",
              "    <tr style=\"text-align: right;\">\n",
              "      <th></th>\n",
              "      <th>epoch</th>\n",
              "      <th>train_loss</th>\n",
              "      <th>train_acc</th>\n",
              "      <th>train_f1_macro</th>\n",
              "      <th>test_loss</th>\n",
              "      <th>test_acc</th>\n",
              "      <th>test_f1_macro</th>\n",
              "      <th>model</th>\n",
              "    </tr>\n",
              "  </thead>\n",
              "  <tbody>\n",
              "    <tr>\n",
              "      <th>0</th>\n",
              "      <td>0</td>\n",
              "      <td>0.591741</td>\n",
              "      <td>0.569825</td>\n",
              "      <td>0.569455</td>\n",
              "      <td>0.510136</td>\n",
              "      <td>0.8321</td>\n",
              "      <td>0.833193</td>\n",
              "      <td>Linear</td>\n",
              "    </tr>\n",
              "    <tr>\n",
              "      <th>1</th>\n",
              "      <td>1</td>\n",
              "      <td>0.228103</td>\n",
              "      <td>0.846100</td>\n",
              "      <td>0.845556</td>\n",
              "      <td>0.433248</td>\n",
              "      <td>0.8540</td>\n",
              "      <td>0.854953</td>\n",
              "      <td>Linear</td>\n",
              "    </tr>\n",
              "    <tr>\n",
              "      <th>2</th>\n",
              "      <td>2</td>\n",
              "      <td>0.199244</td>\n",
              "      <td>0.863525</td>\n",
              "      <td>0.862991</td>\n",
              "      <td>0.408079</td>\n",
              "      <td>0.8614</td>\n",
              "      <td>0.862034</td>\n",
              "      <td>Linear</td>\n",
              "    </tr>\n",
              "    <tr>\n",
              "      <th>3</th>\n",
              "      <td>3</td>\n",
              "      <td>0.187703</td>\n",
              "      <td>0.870925</td>\n",
              "      <td>0.870426</td>\n",
              "      <td>0.394024</td>\n",
              "      <td>0.8644</td>\n",
              "      <td>0.864937</td>\n",
              "      <td>Linear</td>\n",
              "    </tr>\n",
              "    <tr>\n",
              "      <th>4</th>\n",
              "      <td>4</td>\n",
              "      <td>0.182303</td>\n",
              "      <td>0.875275</td>\n",
              "      <td>0.874783</td>\n",
              "      <td>0.386316</td>\n",
              "      <td>0.8667</td>\n",
              "      <td>0.867195</td>\n",
              "      <td>Linear</td>\n",
              "    </tr>\n",
              "    <tr>\n",
              "      <th>5</th>\n",
              "      <td>5</td>\n",
              "      <td>0.179655</td>\n",
              "      <td>0.878050</td>\n",
              "      <td>0.877575</td>\n",
              "      <td>0.383141</td>\n",
              "      <td>0.8676</td>\n",
              "      <td>0.868034</td>\n",
              "      <td>Linear</td>\n",
              "    </tr>\n",
              "    <tr>\n",
              "      <th>6</th>\n",
              "      <td>6</td>\n",
              "      <td>0.178352</td>\n",
              "      <td>0.879000</td>\n",
              "      <td>0.878519</td>\n",
              "      <td>0.382104</td>\n",
              "      <td>0.8676</td>\n",
              "      <td>0.868065</td>\n",
              "      <td>Linear</td>\n",
              "    </tr>\n",
              "    <tr>\n",
              "      <th>7</th>\n",
              "      <td>7</td>\n",
              "      <td>0.177709</td>\n",
              "      <td>0.879575</td>\n",
              "      <td>0.879090</td>\n",
              "      <td>0.381724</td>\n",
              "      <td>0.8664</td>\n",
              "      <td>0.866832</td>\n",
              "      <td>Linear</td>\n",
              "    </tr>\n",
              "    <tr>\n",
              "      <th>8</th>\n",
              "      <td>8</td>\n",
              "      <td>0.177379</td>\n",
              "      <td>0.880075</td>\n",
              "      <td>0.879588</td>\n",
              "      <td>0.381537</td>\n",
              "      <td>0.8667</td>\n",
              "      <td>0.867099</td>\n",
              "      <td>Linear</td>\n",
              "    </tr>\n",
              "    <tr>\n",
              "      <th>9</th>\n",
              "      <td>9</td>\n",
              "      <td>0.177200</td>\n",
              "      <td>0.879775</td>\n",
              "      <td>0.879288</td>\n",
              "      <td>0.381449</td>\n",
              "      <td>0.8670</td>\n",
              "      <td>0.867400</td>\n",
              "      <td>Linear</td>\n",
              "    </tr>\n",
              "  </tbody>\n",
              "</table>\n",
              "</div>"
            ],
            "text/plain": [
              "   epoch  train_loss  train_acc  ...  test_acc  test_f1_macro   model\n",
              "0      0    0.591741   0.569825  ...    0.8321       0.833193  Linear\n",
              "1      1    0.228103   0.846100  ...    0.8540       0.854953  Linear\n",
              "2      2    0.199244   0.863525  ...    0.8614       0.862034  Linear\n",
              "3      3    0.187703   0.870925  ...    0.8644       0.864937  Linear\n",
              "4      4    0.182303   0.875275  ...    0.8667       0.867195  Linear\n",
              "5      5    0.179655   0.878050  ...    0.8676       0.868034  Linear\n",
              "6      6    0.178352   0.879000  ...    0.8676       0.868065  Linear\n",
              "7      7    0.177709   0.879575  ...    0.8664       0.866832  Linear\n",
              "8      8    0.177379   0.880075  ...    0.8667       0.867099  Linear\n",
              "9      9    0.177200   0.879775  ...    0.8670       0.867400  Linear\n",
              "\n",
              "[10 rows x 8 columns]"
            ]
          },
          "metadata": {
            "tags": []
          },
          "execution_count": 46
        }
      ]
    },
    {
      "cell_type": "code",
      "metadata": {
        "colab": {
          "base_uri": "https://localhost:8080/",
          "height": 516
        },
        "id": "BUa53JbODnOS",
        "outputId": "808d5f5d-b3a9-4eac-f0d1-4fea45d43eae"
      },
      "source": [
        "linear_model = LinearModel(n_vocab, N_LABELS, embedding_dim=EMBEDDING_DIM, padding_idx=padding_idx)\n",
        "optim = torch.optim.SGD(linear_model.parameters(), lr=LR)\n",
        "sched = torch.optim.lr_scheduler.StepLR(optim, step_size=1, gamma=0.5)\n",
        "linear_model_dist_train_results = train_loop(linear_model, \n",
        "                                             optim, \n",
        "                                             train_loader, \n",
        "                                             test_loader, \n",
        "                                             N_EPOCHS, \n",
        "                                             sched, \n",
        "                                             distil=True, \n",
        "                                             alpha = 0.9,\n",
        "                                             temperature = 10)\n",
        "linear_model_dist_train_results[\"model\"] = \"Linear (distilled)\"\n",
        "linear_model_dist_train_results"
      ],
      "execution_count": null,
      "outputs": [
        {
          "output_type": "stream",
          "text": [
            "Batch progress for epoch 0:   0%|          | 0/40000 [00:00<?, ?it/s]/usr/local/lib/python3.7/dist-packages/torch/nn/functional.py:2611: UserWarning: reduction: 'mean' divides the total loss by both the batch size and the support size.'batchmean' divides only by the batch size, and aligns with the KL div math definition.'mean' will be changed to behave the same as 'batchmean' in the next major release.\n",
            "  \"reduction: 'mean' divides the total loss by both the batch size and the support size.\"\n",
            "Batch progress for epoch 0: 100%|██████████| 40000/40000 [01:14<00:00, 533.69it/s]\n",
            "Validating: 100%|██████████| 313/313 [00:00<00:00, 1105.03it/s]\n",
            "Batch progress for epoch 1:   0%|          | 55/40000 [00:00<01:13, 540.89it/s]"
          ],
          "name": "stderr"
        },
        {
          "output_type": "stream",
          "text": [
            "Loss = 0.5101809652563863, Accuracy = 0.8321, F1-score = 0.8333324294284938\n"
          ],
          "name": "stdout"
        },
        {
          "output_type": "stream",
          "text": [
            "Batch progress for epoch 1: 100%|██████████| 40000/40000 [01:15<00:00, 532.87it/s]\n",
            "Validating: 100%|██████████| 313/313 [00:00<00:00, 1107.78it/s]\n",
            "Batch progress for epoch 2:   0%|          | 54/40000 [00:00<01:14, 538.38it/s]"
          ],
          "name": "stderr"
        },
        {
          "output_type": "stream",
          "text": [
            "Loss = 0.432344204772966, Accuracy = 0.8555, F1-score = 0.8565096669169814\n"
          ],
          "name": "stdout"
        },
        {
          "output_type": "stream",
          "text": [
            "Batch progress for epoch 2: 100%|██████████| 40000/40000 [01:14<00:00, 533.49it/s]\n",
            "Validating: 100%|██████████| 313/313 [00:00<00:00, 1123.08it/s]\n",
            "Batch progress for epoch 3:   0%|          | 54/40000 [00:00<01:14, 536.41it/s]"
          ],
          "name": "stderr"
        },
        {
          "output_type": "stream",
          "text": [
            "Loss = 0.4072496478502362, Accuracy = 0.8611, F1-score = 0.861780598563057\n"
          ],
          "name": "stdout"
        },
        {
          "output_type": "stream",
          "text": [
            "Batch progress for epoch 3: 100%|██████████| 40000/40000 [01:15<00:00, 533.18it/s]\n",
            "Validating: 100%|██████████| 313/313 [00:00<00:00, 1091.90it/s]\n",
            "Batch progress for epoch 4:   0%|          | 57/40000 [00:00<01:11, 561.49it/s]"
          ],
          "name": "stderr"
        },
        {
          "output_type": "stream",
          "text": [
            "Loss = 0.3933134316303098, Accuracy = 0.8646, F1-score = 0.8651570282019749\n"
          ],
          "name": "stdout"
        },
        {
          "output_type": "stream",
          "text": [
            "Batch progress for epoch 4: 100%|██████████| 40000/40000 [01:15<00:00, 531.53it/s]\n",
            "Validating: 100%|██████████| 313/313 [00:00<00:00, 1108.26it/s]\n"
          ],
          "name": "stderr"
        },
        {
          "output_type": "stream",
          "text": [
            "Loss = 0.38572639148361004, Accuracy = 0.8677, F1-score = 0.8681977171050625\n"
          ],
          "name": "stdout"
        },
        {
          "output_type": "execute_result",
          "data": {
            "text/html": [
              "<div>\n",
              "<style scoped>\n",
              "    .dataframe tbody tr th:only-of-type {\n",
              "        vertical-align: middle;\n",
              "    }\n",
              "\n",
              "    .dataframe tbody tr th {\n",
              "        vertical-align: top;\n",
              "    }\n",
              "\n",
              "    .dataframe thead th {\n",
              "        text-align: right;\n",
              "    }\n",
              "</style>\n",
              "<table border=\"1\" class=\"dataframe\">\n",
              "  <thead>\n",
              "    <tr style=\"text-align: right;\">\n",
              "      <th></th>\n",
              "      <th>epoch</th>\n",
              "      <th>train_loss</th>\n",
              "      <th>train_acc</th>\n",
              "      <th>train_f1_macro</th>\n",
              "      <th>test_loss</th>\n",
              "      <th>test_acc</th>\n",
              "      <th>test_f1_macro</th>\n",
              "      <th>model</th>\n",
              "    </tr>\n",
              "  </thead>\n",
              "  <tbody>\n",
              "    <tr>\n",
              "      <th>0</th>\n",
              "      <td>0</td>\n",
              "      <td>0.122021</td>\n",
              "      <td>0.569025</td>\n",
              "      <td>0.568582</td>\n",
              "      <td>0.510181</td>\n",
              "      <td>0.8321</td>\n",
              "      <td>0.833332</td>\n",
              "      <td>Linear (distilled)</td>\n",
              "    </tr>\n",
              "    <tr>\n",
              "      <th>1</th>\n",
              "      <td>1</td>\n",
              "      <td>0.050194</td>\n",
              "      <td>0.846500</td>\n",
              "      <td>0.845942</td>\n",
              "      <td>0.432344</td>\n",
              "      <td>0.8555</td>\n",
              "      <td>0.856510</td>\n",
              "      <td>Linear (distilled)</td>\n",
              "    </tr>\n",
              "    <tr>\n",
              "      <th>2</th>\n",
              "      <td>2</td>\n",
              "      <td>0.045303</td>\n",
              "      <td>0.863350</td>\n",
              "      <td>0.862816</td>\n",
              "      <td>0.407250</td>\n",
              "      <td>0.8611</td>\n",
              "      <td>0.861781</td>\n",
              "      <td>Linear (distilled)</td>\n",
              "    </tr>\n",
              "    <tr>\n",
              "      <th>3</th>\n",
              "      <td>3</td>\n",
              "      <td>0.043398</td>\n",
              "      <td>0.870725</td>\n",
              "      <td>0.870220</td>\n",
              "      <td>0.393313</td>\n",
              "      <td>0.8646</td>\n",
              "      <td>0.865157</td>\n",
              "      <td>Linear (distilled)</td>\n",
              "    </tr>\n",
              "    <tr>\n",
              "      <th>4</th>\n",
              "      <td>4</td>\n",
              "      <td>0.042513</td>\n",
              "      <td>0.875400</td>\n",
              "      <td>0.874906</td>\n",
              "      <td>0.385726</td>\n",
              "      <td>0.8677</td>\n",
              "      <td>0.868198</td>\n",
              "      <td>Linear (distilled)</td>\n",
              "    </tr>\n",
              "  </tbody>\n",
              "</table>\n",
              "</div>"
            ],
            "text/plain": [
              "   epoch  train_loss  train_acc  ...  test_acc  test_f1_macro               model\n",
              "0      0    0.122021   0.569025  ...    0.8321       0.833332  Linear (distilled)\n",
              "1      1    0.050194   0.846500  ...    0.8555       0.856510  Linear (distilled)\n",
              "2      2    0.045303   0.863350  ...    0.8611       0.861781  Linear (distilled)\n",
              "3      3    0.043398   0.870725  ...    0.8646       0.865157  Linear (distilled)\n",
              "4      4    0.042513   0.875400  ...    0.8677       0.868198  Linear (distilled)\n",
              "\n",
              "[5 rows x 8 columns]"
            ]
          },
          "metadata": {
            "tags": []
          },
          "execution_count": 48
        }
      ]
    },
    {
      "cell_type": "code",
      "metadata": {
        "colab": {
          "base_uri": "https://localhost:8080/"
        },
        "id": "iujrQm5BNanz",
        "outputId": "5217ccfc-a224-4669-e9ad-b139a8e4ddcf"
      },
      "source": [
        "validate(test_loader, linear_model)"
      ],
      "execution_count": null,
      "outputs": [
        {
          "output_type": "stream",
          "text": [
            "Validating: 100%|██████████| 313/313 [00:00<00:00, 1094.39it/s]\n"
          ],
          "name": "stderr"
        },
        {
          "output_type": "execute_result",
          "data": {
            "text/plain": [
              "(1.2993624817829925, 0.5754, 0.5683372134932979)"
            ]
          },
          "metadata": {
            "tags": []
          },
          "execution_count": 46
        }
      ]
    },
    {
      "cell_type": "code",
      "metadata": {
        "id": "mb_TJF6t_tLH"
      },
      "source": [
        "%%timeit -r10\n",
        "\n",
        "with single_thread():\n",
        "    validate(test_loader, linear_model_dist)"
      ],
      "execution_count": null,
      "outputs": []
    },
    {
      "cell_type": "code",
      "metadata": {
        "colab": {
          "base_uri": "https://localhost:8080/"
        },
        "id": "Hqk8okzuNa51",
        "outputId": "27cdb90c-134f-4253-8050-d09d5c298f40"
      },
      "source": [
        "validate(test_loader, linear_model_dist)"
      ],
      "execution_count": null,
      "outputs": [
        {
          "output_type": "stream",
          "text": [
            "Validating: 100%|██████████| 313/313 [00:00<00:00, 1110.75it/s]\n"
          ],
          "name": "stderr"
        },
        {
          "output_type": "execute_result",
          "data": {
            "text/plain": [
              "(1.2930294745646345, 0.5789, 0.5719708062868887)"
            ]
          },
          "metadata": {
            "tags": []
          },
          "execution_count": 47
        }
      ]
    },
    {
      "cell_type": "code",
      "metadata": {
        "colab": {
          "base_uri": "https://localhost:8080/"
        },
        "id": "b0KHezZ0nuyG",
        "outputId": "ad10010e-8d53-41f3-977c-619843b6268b"
      },
      "source": [
        "%%timeit -r10\n",
        "\n",
        "with single_thread():\n",
        "    validate(test_loader, linear_model_dist)"
      ],
      "execution_count": null,
      "outputs": [
        {
          "output_type": "stream",
          "text": [
            "Validating: 100%|██████████| 313/313 [00:00<00:00, 1168.49it/s]\n",
            "Validating: 100%|██████████| 313/313 [00:00<00:00, 1178.83it/s]\n",
            "Validating: 100%|██████████| 313/313 [00:00<00:00, 1120.77it/s]\n",
            "Validating: 100%|██████████| 313/313 [00:00<00:00, 1156.12it/s]\n",
            "Validating: 100%|██████████| 313/313 [00:00<00:00, 1185.12it/s]\n",
            "Validating: 100%|██████████| 313/313 [00:00<00:00, 1104.51it/s]\n",
            "Validating: 100%|██████████| 313/313 [00:00<00:00, 1140.46it/s]\n",
            "Validating: 100%|██████████| 313/313 [00:00<00:00, 1146.35it/s]\n",
            "Validating: 100%|██████████| 313/313 [00:00<00:00, 1146.11it/s]\n",
            "Validating: 100%|██████████| 313/313 [00:00<00:00, 1132.89it/s]\n",
            "Validating: 100%|██████████| 313/313 [00:00<00:00, 1177.21it/s]"
          ],
          "name": "stderr"
        },
        {
          "output_type": "stream",
          "text": [
            "1 loop, best of 10: 280 ms per loop\n"
          ],
          "name": "stdout"
        },
        {
          "output_type": "stream",
          "text": [
            "\n"
          ],
          "name": "stderr"
        }
      ]
    },
    {
      "cell_type": "markdown",
      "metadata": {
        "id": "_vftYvX_9AuJ"
      },
      "source": [
        "##CNN"
      ]
    },
    {
      "cell_type": "code",
      "metadata": {
        "id": "hVibEm7bxgbL"
      },
      "source": [
        "train_loader = DataLoader(dataframe_to_dataset(train_df, teacher), batch_size=BATCH_SIZE, shuffle=False)"
      ],
      "execution_count": null,
      "outputs": []
    },
    {
      "cell_type": "code",
      "metadata": {
        "colab": {
          "base_uri": "https://localhost:8080/",
          "height": 460
        },
        "id": "Ct0lecSr0uXz",
        "outputId": "3cccf8d1-1c2b-4b5a-ad50-7511558e6043"
      },
      "source": [
        "cnn = CNN(n_vocab, N_LABELS, embedding_dim=EMBEDDING_DIM, special_chars=[padding_idx])\n",
        "optim = torch.optim.Adam(cnn.parameters())\n",
        "cnn_train_results = train_loop(cnn, optim, train_loader, test_loader, n_epochs=5, sched=None, distil=False,alpha = 0,temperature = 10)\n",
        "cnn_train_results[\"model\"] = \"CNN\"\n",
        "cnn_train_results"
      ],
      "execution_count": null,
      "outputs": [
        {
          "output_type": "stream",
          "text": [
            "Batch progress for epoch 0: 100%|██████████| 1250/1250 [00:09<00:00, 128.30it/s]\n",
            "Validating: 100%|██████████| 313/313 [00:00<00:00, 717.44it/s]\n",
            "Batch progress for epoch 1:   1%|          | 13/1250 [00:00<00:09, 128.59it/s]"
          ],
          "name": "stderr"
        },
        {
          "output_type": "stream",
          "text": [
            "Loss = 0.45329414936490714, Accuracy = 0.8473, F1-score = 0.847633929438957\n"
          ],
          "name": "stdout"
        },
        {
          "output_type": "stream",
          "text": [
            "Batch progress for epoch 1: 100%|██████████| 1250/1250 [00:09<00:00, 128.45it/s]\n",
            "Validating: 100%|██████████| 313/313 [00:00<00:00, 703.18it/s]\n",
            "Batch progress for epoch 2:   1%|          | 13/1250 [00:00<00:09, 126.38it/s]"
          ],
          "name": "stderr"
        },
        {
          "output_type": "stream",
          "text": [
            "Loss = 0.3779542941016892, Accuracy = 0.864, F1-score = 0.8642058317632058\n"
          ],
          "name": "stdout"
        },
        {
          "output_type": "stream",
          "text": [
            "Batch progress for epoch 2: 100%|██████████| 1250/1250 [00:09<00:00, 130.26it/s]\n",
            "Validating: 100%|██████████| 313/313 [00:00<00:00, 719.46it/s]\n",
            "Batch progress for epoch 3:   1%|          | 14/1250 [00:00<00:09, 133.83it/s]"
          ],
          "name": "stderr"
        },
        {
          "output_type": "stream",
          "text": [
            "Loss = 0.3549783536420463, Accuracy = 0.8722, F1-score = 0.8724441182086007\n"
          ],
          "name": "stdout"
        },
        {
          "output_type": "stream",
          "text": [
            "Batch progress for epoch 3: 100%|██████████| 1250/1250 [00:09<00:00, 131.33it/s]\n",
            "Validating: 100%|██████████| 313/313 [00:00<00:00, 713.69it/s]\n",
            "Batch progress for epoch 4:   1%|          | 14/1250 [00:00<00:09, 135.48it/s]"
          ],
          "name": "stderr"
        },
        {
          "output_type": "stream",
          "text": [
            "Loss = 0.3462349116897431, Accuracy = 0.8749, F1-score = 0.8753909340528285\n"
          ],
          "name": "stdout"
        },
        {
          "output_type": "stream",
          "text": [
            "Batch progress for epoch 4: 100%|██████████| 1250/1250 [00:09<00:00, 131.90it/s]\n",
            "Validating: 100%|██████████| 313/313 [00:00<00:00, 718.87it/s]"
          ],
          "name": "stderr"
        },
        {
          "output_type": "stream",
          "text": [
            "Loss = 0.33796525090790025, Accuracy = 0.8757, F1-score = 0.8761634156117613\n"
          ],
          "name": "stdout"
        },
        {
          "output_type": "stream",
          "text": [
            "\n"
          ],
          "name": "stderr"
        },
        {
          "output_type": "execute_result",
          "data": {
            "text/html": [
              "<div>\n",
              "<style scoped>\n",
              "    .dataframe tbody tr th:only-of-type {\n",
              "        vertical-align: middle;\n",
              "    }\n",
              "\n",
              "    .dataframe tbody tr th {\n",
              "        vertical-align: top;\n",
              "    }\n",
              "\n",
              "    .dataframe thead th {\n",
              "        text-align: right;\n",
              "    }\n",
              "</style>\n",
              "<table border=\"1\" class=\"dataframe\">\n",
              "  <thead>\n",
              "    <tr style=\"text-align: right;\">\n",
              "      <th></th>\n",
              "      <th>epoch</th>\n",
              "      <th>train_loss</th>\n",
              "      <th>train_acc</th>\n",
              "      <th>train_f1_macro</th>\n",
              "      <th>test_loss</th>\n",
              "      <th>test_acc</th>\n",
              "      <th>test_f1_macro</th>\n",
              "      <th>model</th>\n",
              "    </tr>\n",
              "  </thead>\n",
              "  <tbody>\n",
              "    <tr>\n",
              "      <th>0</th>\n",
              "      <td>0</td>\n",
              "      <td>0.949113</td>\n",
              "      <td>0.674825</td>\n",
              "      <td>0.674015</td>\n",
              "      <td>0.453294</td>\n",
              "      <td>0.8473</td>\n",
              "      <td>0.847634</td>\n",
              "      <td>CNN</td>\n",
              "    </tr>\n",
              "    <tr>\n",
              "      <th>1</th>\n",
              "      <td>1</td>\n",
              "      <td>0.491196</td>\n",
              "      <td>0.827850</td>\n",
              "      <td>0.827376</td>\n",
              "      <td>0.377954</td>\n",
              "      <td>0.8640</td>\n",
              "      <td>0.864206</td>\n",
              "      <td>CNN</td>\n",
              "    </tr>\n",
              "    <tr>\n",
              "      <th>2</th>\n",
              "      <td>2</td>\n",
              "      <td>0.402858</td>\n",
              "      <td>0.855525</td>\n",
              "      <td>0.855156</td>\n",
              "      <td>0.354978</td>\n",
              "      <td>0.8722</td>\n",
              "      <td>0.872444</td>\n",
              "      <td>CNN</td>\n",
              "    </tr>\n",
              "    <tr>\n",
              "      <th>3</th>\n",
              "      <td>3</td>\n",
              "      <td>0.350855</td>\n",
              "      <td>0.871950</td>\n",
              "      <td>0.871603</td>\n",
              "      <td>0.346235</td>\n",
              "      <td>0.8749</td>\n",
              "      <td>0.875391</td>\n",
              "      <td>CNN</td>\n",
              "    </tr>\n",
              "    <tr>\n",
              "      <th>4</th>\n",
              "      <td>4</td>\n",
              "      <td>0.321102</td>\n",
              "      <td>0.882175</td>\n",
              "      <td>0.881887</td>\n",
              "      <td>0.337965</td>\n",
              "      <td>0.8757</td>\n",
              "      <td>0.876163</td>\n",
              "      <td>CNN</td>\n",
              "    </tr>\n",
              "  </tbody>\n",
              "</table>\n",
              "</div>"
            ],
            "text/plain": [
              "   epoch  train_loss  train_acc  ...  test_acc  test_f1_macro  model\n",
              "0      0    0.949113   0.674825  ...    0.8473       0.847634    CNN\n",
              "1      1    0.491196   0.827850  ...    0.8640       0.864206    CNN\n",
              "2      2    0.402858   0.855525  ...    0.8722       0.872444    CNN\n",
              "3      3    0.350855   0.871950  ...    0.8749       0.875391    CNN\n",
              "4      4    0.321102   0.882175  ...    0.8757       0.876163    CNN\n",
              "\n",
              "[5 rows x 8 columns]"
            ]
          },
          "metadata": {
            "tags": []
          },
          "execution_count": 57
        }
      ]
    },
    {
      "cell_type": "code",
      "metadata": {
        "id": "6qHUwgsSaB4k",
        "colab": {
          "base_uri": "https://localhost:8080/",
          "height": 460
        },
        "outputId": "c170c12a-0799-4e78-b857-142fcfdcc782"
      },
      "source": [
        "optim = torch.optim.Adam(cnn.parameters())\n",
        "\n",
        "cnn_train_results = train_loop(cnn, optim, train_loader, test_loader, n_epochs=N_EPOCHS, sched=None, distil=False,alpha = 0.5,temperature = 10)\n",
        "cnn_train_results[\"model\"] = \"CNN\"\n",
        "cnn_train_results"
      ],
      "execution_count": null,
      "outputs": [
        {
          "output_type": "stream",
          "text": [
            "Batch progress for epoch 0: 100%|██████████| 1250/1250 [00:09<00:00, 131.49it/s]\n",
            "Validating: 100%|██████████| 313/313 [00:00<00:00, 716.71it/s]\n",
            "Batch progress for epoch 1:   1%|          | 14/1250 [00:00<00:09, 133.25it/s]"
          ],
          "name": "stderr"
        },
        {
          "output_type": "stream",
          "text": [
            "Loss = 0.343627557170372, Accuracy = 0.8768, F1-score = 0.8773044415886335\n"
          ],
          "name": "stdout"
        },
        {
          "output_type": "stream",
          "text": [
            "Batch progress for epoch 1: 100%|██████████| 1250/1250 [00:09<00:00, 131.58it/s]\n",
            "Validating: 100%|██████████| 313/313 [00:00<00:00, 713.50it/s]\n",
            "Batch progress for epoch 2:   1%|          | 14/1250 [00:00<00:09, 134.71it/s]"
          ],
          "name": "stderr"
        },
        {
          "output_type": "stream",
          "text": [
            "Loss = 0.3388307679611178, Accuracy = 0.8781, F1-score = 0.8785404105195646\n"
          ],
          "name": "stdout"
        },
        {
          "output_type": "stream",
          "text": [
            "Batch progress for epoch 2: 100%|██████████| 1250/1250 [00:09<00:00, 131.15it/s]\n",
            "Validating: 100%|██████████| 313/313 [00:00<00:00, 706.72it/s]\n",
            "Batch progress for epoch 3:   1%|          | 13/1250 [00:00<00:09, 128.22it/s]"
          ],
          "name": "stderr"
        },
        {
          "output_type": "stream",
          "text": [
            "Loss = 0.35246123371128074, Accuracy = 0.8769, F1-score = 0.8779099273138421\n"
          ],
          "name": "stdout"
        },
        {
          "output_type": "stream",
          "text": [
            "Batch progress for epoch 3: 100%|██████████| 1250/1250 [00:09<00:00, 130.64it/s]\n",
            "Validating: 100%|██████████| 313/313 [00:00<00:00, 724.23it/s]\n",
            "Batch progress for epoch 4:   1%|          | 14/1250 [00:00<00:09, 133.17it/s]"
          ],
          "name": "stderr"
        },
        {
          "output_type": "stream",
          "text": [
            "Loss = 0.35443122984883124, Accuracy = 0.8817, F1-score = 0.8821577227706818\n"
          ],
          "name": "stdout"
        },
        {
          "output_type": "stream",
          "text": [
            "Batch progress for epoch 4: 100%|██████████| 1250/1250 [00:09<00:00, 130.60it/s]\n",
            "Validating: 100%|██████████| 313/313 [00:00<00:00, 734.41it/s]"
          ],
          "name": "stderr"
        },
        {
          "output_type": "stream",
          "text": [
            "Loss = 0.3597903197107557, Accuracy = 0.8786, F1-score = 0.8792438700948162\n"
          ],
          "name": "stdout"
        },
        {
          "output_type": "stream",
          "text": [
            "\n"
          ],
          "name": "stderr"
        },
        {
          "output_type": "execute_result",
          "data": {
            "text/html": [
              "<div>\n",
              "<style scoped>\n",
              "    .dataframe tbody tr th:only-of-type {\n",
              "        vertical-align: middle;\n",
              "    }\n",
              "\n",
              "    .dataframe tbody tr th {\n",
              "        vertical-align: top;\n",
              "    }\n",
              "\n",
              "    .dataframe thead th {\n",
              "        text-align: right;\n",
              "    }\n",
              "</style>\n",
              "<table border=\"1\" class=\"dataframe\">\n",
              "  <thead>\n",
              "    <tr style=\"text-align: right;\">\n",
              "      <th></th>\n",
              "      <th>epoch</th>\n",
              "      <th>train_loss</th>\n",
              "      <th>train_acc</th>\n",
              "      <th>train_f1_macro</th>\n",
              "      <th>test_loss</th>\n",
              "      <th>test_acc</th>\n",
              "      <th>test_f1_macro</th>\n",
              "      <th>model</th>\n",
              "    </tr>\n",
              "  </thead>\n",
              "  <tbody>\n",
              "    <tr>\n",
              "      <th>0</th>\n",
              "      <td>0</td>\n",
              "      <td>0.300892</td>\n",
              "      <td>0.886875</td>\n",
              "      <td>0.886615</td>\n",
              "      <td>0.343628</td>\n",
              "      <td>0.8768</td>\n",
              "      <td>0.877304</td>\n",
              "      <td>CNN</td>\n",
              "    </tr>\n",
              "    <tr>\n",
              "      <th>1</th>\n",
              "      <td>1</td>\n",
              "      <td>0.280141</td>\n",
              "      <td>0.895500</td>\n",
              "      <td>0.895271</td>\n",
              "      <td>0.338831</td>\n",
              "      <td>0.8781</td>\n",
              "      <td>0.878540</td>\n",
              "      <td>CNN</td>\n",
              "    </tr>\n",
              "    <tr>\n",
              "      <th>2</th>\n",
              "      <td>2</td>\n",
              "      <td>0.261339</td>\n",
              "      <td>0.900775</td>\n",
              "      <td>0.900553</td>\n",
              "      <td>0.352461</td>\n",
              "      <td>0.8769</td>\n",
              "      <td>0.877910</td>\n",
              "      <td>CNN</td>\n",
              "    </tr>\n",
              "    <tr>\n",
              "      <th>3</th>\n",
              "      <td>3</td>\n",
              "      <td>0.252202</td>\n",
              "      <td>0.904600</td>\n",
              "      <td>0.904403</td>\n",
              "      <td>0.354431</td>\n",
              "      <td>0.8817</td>\n",
              "      <td>0.882158</td>\n",
              "      <td>CNN</td>\n",
              "    </tr>\n",
              "    <tr>\n",
              "      <th>4</th>\n",
              "      <td>4</td>\n",
              "      <td>0.242569</td>\n",
              "      <td>0.907725</td>\n",
              "      <td>0.907535</td>\n",
              "      <td>0.359790</td>\n",
              "      <td>0.8786</td>\n",
              "      <td>0.879244</td>\n",
              "      <td>CNN</td>\n",
              "    </tr>\n",
              "  </tbody>\n",
              "</table>\n",
              "</div>"
            ],
            "text/plain": [
              "   epoch  train_loss  train_acc  ...  test_acc  test_f1_macro  model\n",
              "0      0    0.300892   0.886875  ...    0.8768       0.877304    CNN\n",
              "1      1    0.280141   0.895500  ...    0.8781       0.878540    CNN\n",
              "2      2    0.261339   0.900775  ...    0.8769       0.877910    CNN\n",
              "3      3    0.252202   0.904600  ...    0.8817       0.882158    CNN\n",
              "4      4    0.242569   0.907725  ...    0.8786       0.879244    CNN\n",
              "\n",
              "[5 rows x 8 columns]"
            ]
          },
          "metadata": {
            "tags": []
          },
          "execution_count": 58
        }
      ]
    },
    {
      "cell_type": "code",
      "metadata": {
        "id": "DKb1QzoLcSMf",
        "colab": {
          "base_uri": "https://localhost:8080/",
          "height": 516
        },
        "outputId": "f0c98f51-2c23-434e-cc1a-2a688664bb0f"
      },
      "source": [
        "optim = torch.optim.Adam(cnn.parameters())\n",
        "\n",
        "cnn_dist_train_results = train_loop(cnn, optim, train_loader, test_loader, n_epochs=N_EPOCHS, sched=None, distil=True,alpha = 0.9,temperature = 10)\n",
        "cnn_dist_train_results[\"model\"] = \"CNN\"\n",
        "cnn_dist_train_results"
      ],
      "execution_count": null,
      "outputs": [
        {
          "output_type": "stream",
          "text": [
            "\rBatch progress for epoch 0:   0%|          | 0/1250 [00:00<?, ?it/s]/usr/local/lib/python3.7/dist-packages/torch/nn/functional.py:2611: UserWarning: reduction: 'mean' divides the total loss by both the batch size and the support size.'batchmean' divides only by the batch size, and aligns with the KL div math definition.'mean' will be changed to behave the same as 'batchmean' in the next major release.\n",
            "  \"reduction: 'mean' divides the total loss by both the batch size and the support size.\"\n",
            "Batch progress for epoch 0: 100%|██████████| 1250/1250 [00:09<00:00, 127.83it/s]\n",
            "Validating: 100%|██████████| 313/313 [00:00<00:00, 708.79it/s]\n",
            "Batch progress for epoch 1:   1%|          | 13/1250 [00:00<00:09, 129.23it/s]"
          ],
          "name": "stderr"
        },
        {
          "output_type": "stream",
          "text": [
            "Loss = 0.3662169666919179, Accuracy = 0.8801, F1-score = 0.8808145673881931\n"
          ],
          "name": "stdout"
        },
        {
          "output_type": "stream",
          "text": [
            "Batch progress for epoch 1: 100%|██████████| 1250/1250 [00:09<00:00, 128.22it/s]\n",
            "Validating: 100%|██████████| 313/313 [00:00<00:00, 704.74it/s]\n",
            "Batch progress for epoch 2:   1%|          | 14/1250 [00:00<00:09, 131.78it/s]"
          ],
          "name": "stderr"
        },
        {
          "output_type": "stream",
          "text": [
            "Loss = 0.3755757256675833, Accuracy = 0.8797, F1-score = 0.8802187226930993\n"
          ],
          "name": "stdout"
        },
        {
          "output_type": "stream",
          "text": [
            "Batch progress for epoch 2: 100%|██████████| 1250/1250 [00:09<00:00, 128.51it/s]\n",
            "Validating: 100%|██████████| 313/313 [00:00<00:00, 716.01it/s]\n",
            "Batch progress for epoch 3:   1%|          | 14/1250 [00:00<00:09, 130.69it/s]"
          ],
          "name": "stderr"
        },
        {
          "output_type": "stream",
          "text": [
            "Loss = 0.37777779651835514, Accuracy = 0.8787, F1-score = 0.8793003903244498\n"
          ],
          "name": "stdout"
        },
        {
          "output_type": "stream",
          "text": [
            "Batch progress for epoch 3: 100%|██████████| 1250/1250 [00:09<00:00, 128.55it/s]\n",
            "Validating: 100%|██████████| 313/313 [00:00<00:00, 717.46it/s]\n",
            "Batch progress for epoch 4:   1%|          | 14/1250 [00:00<00:09, 131.29it/s]"
          ],
          "name": "stderr"
        },
        {
          "output_type": "stream",
          "text": [
            "Loss = 0.3880119791593605, Accuracy = 0.8803, F1-score = 0.8809385636740659\n"
          ],
          "name": "stdout"
        },
        {
          "output_type": "stream",
          "text": [
            "Batch progress for epoch 4: 100%|██████████| 1250/1250 [00:09<00:00, 128.07it/s]\n",
            "Validating: 100%|██████████| 313/313 [00:00<00:00, 721.88it/s]"
          ],
          "name": "stderr"
        },
        {
          "output_type": "stream",
          "text": [
            "Loss = 0.39951303322165727, Accuracy = 0.8795, F1-score = 0.880164382810045\n"
          ],
          "name": "stdout"
        },
        {
          "output_type": "stream",
          "text": [
            "\n"
          ],
          "name": "stderr"
        },
        {
          "output_type": "execute_result",
          "data": {
            "text/html": [
              "<div>\n",
              "<style scoped>\n",
              "    .dataframe tbody tr th:only-of-type {\n",
              "        vertical-align: middle;\n",
              "    }\n",
              "\n",
              "    .dataframe tbody tr th {\n",
              "        vertical-align: top;\n",
              "    }\n",
              "\n",
              "    .dataframe thead th {\n",
              "        text-align: right;\n",
              "    }\n",
              "</style>\n",
              "<table border=\"1\" class=\"dataframe\">\n",
              "  <thead>\n",
              "    <tr style=\"text-align: right;\">\n",
              "      <th></th>\n",
              "      <th>epoch</th>\n",
              "      <th>train_loss</th>\n",
              "      <th>train_acc</th>\n",
              "      <th>train_f1_macro</th>\n",
              "      <th>test_loss</th>\n",
              "      <th>test_acc</th>\n",
              "      <th>test_f1_macro</th>\n",
              "      <th>model</th>\n",
              "    </tr>\n",
              "  </thead>\n",
              "  <tbody>\n",
              "    <tr>\n",
              "      <th>0</th>\n",
              "      <td>0</td>\n",
              "      <td>0.049825</td>\n",
              "      <td>0.910900</td>\n",
              "      <td>0.910764</td>\n",
              "      <td>0.366217</td>\n",
              "      <td>0.8801</td>\n",
              "      <td>0.880815</td>\n",
              "      <td>CNN</td>\n",
              "    </tr>\n",
              "    <tr>\n",
              "      <th>1</th>\n",
              "      <td>1</td>\n",
              "      <td>0.052723</td>\n",
              "      <td>0.916000</td>\n",
              "      <td>0.915865</td>\n",
              "      <td>0.375576</td>\n",
              "      <td>0.8797</td>\n",
              "      <td>0.880219</td>\n",
              "      <td>CNN</td>\n",
              "    </tr>\n",
              "    <tr>\n",
              "      <th>2</th>\n",
              "      <td>2</td>\n",
              "      <td>0.055477</td>\n",
              "      <td>0.917500</td>\n",
              "      <td>0.917367</td>\n",
              "      <td>0.377778</td>\n",
              "      <td>0.8787</td>\n",
              "      <td>0.879300</td>\n",
              "      <td>CNN</td>\n",
              "    </tr>\n",
              "    <tr>\n",
              "      <th>3</th>\n",
              "      <td>3</td>\n",
              "      <td>0.059311</td>\n",
              "      <td>0.919725</td>\n",
              "      <td>0.919622</td>\n",
              "      <td>0.388012</td>\n",
              "      <td>0.8803</td>\n",
              "      <td>0.880939</td>\n",
              "      <td>CNN</td>\n",
              "    </tr>\n",
              "    <tr>\n",
              "      <th>4</th>\n",
              "      <td>4</td>\n",
              "      <td>0.062928</td>\n",
              "      <td>0.920750</td>\n",
              "      <td>0.920685</td>\n",
              "      <td>0.399513</td>\n",
              "      <td>0.8795</td>\n",
              "      <td>0.880164</td>\n",
              "      <td>CNN</td>\n",
              "    </tr>\n",
              "  </tbody>\n",
              "</table>\n",
              "</div>"
            ],
            "text/plain": [
              "   epoch  train_loss  train_acc  ...  test_acc  test_f1_macro  model\n",
              "0      0    0.049825   0.910900  ...    0.8801       0.880815    CNN\n",
              "1      1    0.052723   0.916000  ...    0.8797       0.880219    CNN\n",
              "2      2    0.055477   0.917500  ...    0.8787       0.879300    CNN\n",
              "3      3    0.059311   0.919725  ...    0.8803       0.880939    CNN\n",
              "4      4    0.062928   0.920750  ...    0.8795       0.880164    CNN\n",
              "\n",
              "[5 rows x 8 columns]"
            ]
          },
          "metadata": {
            "tags": []
          },
          "execution_count": 59
        }
      ]
    },
    {
      "cell_type": "code",
      "metadata": {
        "colab": {
          "base_uri": "https://localhost:8080/",
          "height": 516
        },
        "id": "ndiL47he022H",
        "outputId": "b67ff0fb-d5e2-4487-dbea-bb2c62765250"
      },
      "source": [
        "optim = torch.optim.Adam(cnn.parameters())\n",
        "\n",
        "cnn_dist_train_results = train_loop(cnn, optim, train_loader, test_loader, n_epochs=N_EPOCHS, sched=None, distil=True,alpha = 1,temperature = 10)\n",
        "cnn_dist_train_results[\"model\"] = \"CNN\"\n",
        "cnn_dist_train_results"
      ],
      "execution_count": null,
      "outputs": [
        {
          "output_type": "stream",
          "text": [
            "\rBatch progress for epoch 0:   0%|          | 0/1250 [00:00<?, ?it/s]/usr/local/lib/python3.7/dist-packages/torch/nn/functional.py:2611: UserWarning: reduction: 'mean' divides the total loss by both the batch size and the support size.'batchmean' divides only by the batch size, and aligns with the KL div math definition.'mean' will be changed to behave the same as 'batchmean' in the next major release.\n",
            "  \"reduction: 'mean' divides the total loss by both the batch size and the support size.\"\n",
            "Batch progress for epoch 0: 100%|██████████| 1250/1250 [00:09<00:00, 127.99it/s]\n",
            "Validating: 100%|██████████| 313/313 [00:00<00:00, 723.78it/s]\n",
            "Batch progress for epoch 1:   1%|          | 14/1250 [00:00<00:09, 131.84it/s]"
          ],
          "name": "stderr"
        },
        {
          "output_type": "stream",
          "text": [
            "Loss = 0.4123328050818687, Accuracy = 0.8812, F1-score = 0.8817766523796665\n"
          ],
          "name": "stdout"
        },
        {
          "output_type": "stream",
          "text": [
            "Batch progress for epoch 1: 100%|██████████| 1250/1250 [00:09<00:00, 128.38it/s]\n",
            "Validating: 100%|██████████| 313/313 [00:00<00:00, 723.99it/s]\n",
            "Batch progress for epoch 2:   1%|          | 13/1250 [00:00<00:09, 125.69it/s]"
          ],
          "name": "stderr"
        },
        {
          "output_type": "stream",
          "text": [
            "Loss = 0.4278035683158678, Accuracy = 0.88, F1-score = 0.8809261397280546\n"
          ],
          "name": "stdout"
        },
        {
          "output_type": "stream",
          "text": [
            "Batch progress for epoch 2: 100%|██████████| 1250/1250 [00:09<00:00, 127.66it/s]\n",
            "Validating: 100%|██████████| 313/313 [00:00<00:00, 719.40it/s]\n",
            "Batch progress for epoch 3:   1%|          | 13/1250 [00:00<00:09, 129.81it/s]"
          ],
          "name": "stderr"
        },
        {
          "output_type": "stream",
          "text": [
            "Loss = 0.44194484171204673, Accuracy = 0.8752, F1-score = 0.8759909271854506\n"
          ],
          "name": "stdout"
        },
        {
          "output_type": "stream",
          "text": [
            "Batch progress for epoch 3: 100%|██████████| 1250/1250 [00:09<00:00, 128.39it/s]\n",
            "Validating: 100%|██████████| 313/313 [00:00<00:00, 710.53it/s]\n",
            "Batch progress for epoch 4:   1%|          | 14/1250 [00:00<00:09, 131.38it/s]"
          ],
          "name": "stderr"
        },
        {
          "output_type": "stream",
          "text": [
            "Loss = 0.4475077732730978, Accuracy = 0.8774, F1-score = 0.8783214911929784\n"
          ],
          "name": "stdout"
        },
        {
          "output_type": "stream",
          "text": [
            "Batch progress for epoch 4: 100%|██████████| 1250/1250 [00:09<00:00, 128.03it/s]\n",
            "Validating: 100%|██████████| 313/313 [00:00<00:00, 721.02it/s]"
          ],
          "name": "stderr"
        },
        {
          "output_type": "stream",
          "text": [
            "Loss = 0.4636354479974451, Accuracy = 0.8767, F1-score = 0.8775376783067432\n"
          ],
          "name": "stdout"
        },
        {
          "output_type": "stream",
          "text": [
            "\n"
          ],
          "name": "stderr"
        },
        {
          "output_type": "execute_result",
          "data": {
            "text/html": [
              "<div>\n",
              "<style scoped>\n",
              "    .dataframe tbody tr th:only-of-type {\n",
              "        vertical-align: middle;\n",
              "    }\n",
              "\n",
              "    .dataframe tbody tr th {\n",
              "        vertical-align: top;\n",
              "    }\n",
              "\n",
              "    .dataframe thead th {\n",
              "        text-align: right;\n",
              "    }\n",
              "</style>\n",
              "<table border=\"1\" class=\"dataframe\">\n",
              "  <thead>\n",
              "    <tr style=\"text-align: right;\">\n",
              "      <th></th>\n",
              "      <th>epoch</th>\n",
              "      <th>train_loss</th>\n",
              "      <th>train_acc</th>\n",
              "      <th>train_f1_macro</th>\n",
              "      <th>test_loss</th>\n",
              "      <th>test_acc</th>\n",
              "      <th>test_f1_macro</th>\n",
              "      <th>model</th>\n",
              "    </tr>\n",
              "  </thead>\n",
              "  <tbody>\n",
              "    <tr>\n",
              "      <th>0</th>\n",
              "      <td>0</td>\n",
              "      <td>0.056354</td>\n",
              "      <td>0.924525</td>\n",
              "      <td>0.924416</td>\n",
              "      <td>0.412333</td>\n",
              "      <td>0.8812</td>\n",
              "      <td>0.881777</td>\n",
              "      <td>CNN</td>\n",
              "    </tr>\n",
              "    <tr>\n",
              "      <th>1</th>\n",
              "      <td>1</td>\n",
              "      <td>0.061984</td>\n",
              "      <td>0.926600</td>\n",
              "      <td>0.926500</td>\n",
              "      <td>0.427804</td>\n",
              "      <td>0.8800</td>\n",
              "      <td>0.880926</td>\n",
              "      <td>CNN</td>\n",
              "    </tr>\n",
              "    <tr>\n",
              "      <th>2</th>\n",
              "      <td>2</td>\n",
              "      <td>0.065855</td>\n",
              "      <td>0.928975</td>\n",
              "      <td>0.928891</td>\n",
              "      <td>0.441945</td>\n",
              "      <td>0.8752</td>\n",
              "      <td>0.875991</td>\n",
              "      <td>CNN</td>\n",
              "    </tr>\n",
              "    <tr>\n",
              "      <th>3</th>\n",
              "      <td>3</td>\n",
              "      <td>0.072195</td>\n",
              "      <td>0.928775</td>\n",
              "      <td>0.928689</td>\n",
              "      <td>0.447508</td>\n",
              "      <td>0.8774</td>\n",
              "      <td>0.878321</td>\n",
              "      <td>CNN</td>\n",
              "    </tr>\n",
              "    <tr>\n",
              "      <th>4</th>\n",
              "      <td>4</td>\n",
              "      <td>0.075959</td>\n",
              "      <td>0.931250</td>\n",
              "      <td>0.931151</td>\n",
              "      <td>0.463635</td>\n",
              "      <td>0.8767</td>\n",
              "      <td>0.877538</td>\n",
              "      <td>CNN</td>\n",
              "    </tr>\n",
              "  </tbody>\n",
              "</table>\n",
              "</div>"
            ],
            "text/plain": [
              "   epoch  train_loss  train_acc  ...  test_acc  test_f1_macro  model\n",
              "0      0    0.056354   0.924525  ...    0.8812       0.881777    CNN\n",
              "1      1    0.061984   0.926600  ...    0.8800       0.880926    CNN\n",
              "2      2    0.065855   0.928975  ...    0.8752       0.875991    CNN\n",
              "3      3    0.072195   0.928775  ...    0.8774       0.878321    CNN\n",
              "4      4    0.075959   0.931250  ...    0.8767       0.877538    CNN\n",
              "\n",
              "[5 rows x 8 columns]"
            ]
          },
          "metadata": {
            "tags": []
          },
          "execution_count": 60
        }
      ]
    },
    {
      "cell_type": "code",
      "metadata": {
        "colab": {
          "base_uri": "https://localhost:8080/"
        },
        "id": "Fc_uYHO_1ViB",
        "outputId": "45c75980-ad3e-4dc5-ab27-0504f4b008a4"
      },
      "source": [
        "print_size_of_model(cnn)"
      ],
      "execution_count": null,
      "outputs": [
        {
          "output_type": "stream",
          "text": [
            "Size (MB): 24.165696\n"
          ],
          "name": "stdout"
        }
      ]
    },
    {
      "cell_type": "markdown",
      "metadata": {
        "id": "6D6UWnEIVgcU"
      },
      "source": [
        "##LSTM"
      ]
    },
    {
      "cell_type": "code",
      "metadata": {
        "id": "2Ce4cXkhxbBL"
      },
      "source": [
        "class BiLSTM(nn.Module):\n",
        "    def __init__(self, n_vocabs, embed_dims, n_lstm_units, n_lstm_layers, n_output_classes,special_chars=[], use_dropout=True):\n",
        "        super(BiLSTM, self).__init__()\n",
        "        self.v = n_vocabs\n",
        "        self.e = embed_dims\n",
        "        self.u = n_lstm_units\n",
        "        self.l = n_lstm_layers\n",
        "        self.o = n_output_classes\n",
        "\n",
        "        self.embed = nn.Embedding(\n",
        "            self.v,\n",
        "            self.e\n",
        "            )\n",
        "        self.bilstm = nn.LSTM(\n",
        "            input_size = self.e,\n",
        "            hidden_size = self.u,\n",
        "            num_layers = self.l,\n",
        "            batch_first = True,\n",
        "            bidirectional = True,\n",
        "            dropout=0.5 if use_dropout else 0.\n",
        "        )\n",
        "        self.dropout = nn.Dropout(0.5 if use_dropout else 0.)\n",
        "        self.linear = nn.Linear(\n",
        "            self.u * 2,\n",
        "            self.o\n",
        "        )\n",
        "        for special in special_chars:\n",
        "            self.embed.weight.data[special] = torch.zeros(embed_dims)\n",
        "    def forward(self, X):\n",
        "        h0 = torch.zeros(self.l * 2, X.size(0), self.u).to(device)\n",
        "        c0 = torch.zeros(self.l * 2, X.size(0), self.u).to(device)\n",
        "\n",
        "        out = self.embed(X)\n",
        "        \n",
        "        # NxTxh, lxNxh\n",
        "        out, _ = self.bilstm(out, (h0, c0))\n",
        "        # GMP\n",
        "        out, _ = torch.max(out, 1)\n",
        "        out = self.dropout(out)\n",
        "        out = self.linear(out)\n",
        "                \n",
        "        return out"
      ],
      "execution_count": null,
      "outputs": []
    },
    {
      "cell_type": "code",
      "metadata": {
        "colab": {
          "base_uri": "https://localhost:8080/"
        },
        "id": "vJhsHAFpxe-i",
        "outputId": "38e2c9db-6b40-46d2-d24c-c47371af594d"
      },
      "source": [
        "bil = BiLSTM(n_vocabs=n_vocab,embed_dims=50,n_lstm_units = 25,n_lstm_layers=1, n_output_classes =10, special_chars=[padding_idx])\n",
        "bil.to(device)"
      ],
      "execution_count": null,
      "outputs": [
        {
          "output_type": "stream",
          "text": [
            "/usr/local/lib/python3.7/dist-packages/torch/nn/modules/rnn.py:63: UserWarning: dropout option adds dropout after all but last recurrent layer, so non-zero dropout expects num_layers greater than 1, but got dropout=0.5 and num_layers=1\n",
            "  \"num_layers={}\".format(dropout, num_layers))\n"
          ],
          "name": "stderr"
        },
        {
          "output_type": "execute_result",
          "data": {
            "text/plain": [
              "BiLSTM(\n",
              "  (embed): Embedding(119547, 50)\n",
              "  (bilstm): LSTM(50, 25, batch_first=True, dropout=0.5, bidirectional=True)\n",
              "  (dropout): Dropout(p=0.5, inplace=False)\n",
              "  (linear): Linear(in_features=50, out_features=10, bias=True)\n",
              ")"
            ]
          },
          "metadata": {
            "tags": []
          },
          "execution_count": 50
        }
      ]
    },
    {
      "cell_type": "code",
      "metadata": {
        "colab": {
          "base_uri": "https://localhost:8080/"
        },
        "id": "VvB43HVHx8EW",
        "outputId": "ae4bdf66-1c35-487f-c7fe-8e1e4ae3129b"
      },
      "source": [
        "validate(test_loader, bil)"
      ],
      "execution_count": null,
      "outputs": [
        {
          "output_type": "stream",
          "text": [
            "Validating: 100%|██████████| 313/313 [00:01<00:00, 241.69it/s]"
          ],
          "name": "stderr"
        },
        {
          "output_type": "stream",
          "text": [
            "Loss = 2.3156758063136578, Accuracy = 0.0977, F1-score = 0.0228558757405885\n"
          ],
          "name": "stdout"
        },
        {
          "output_type": "stream",
          "text": [
            "\n"
          ],
          "name": "stderr"
        },
        {
          "output_type": "execute_result",
          "data": {
            "text/plain": [
              "(2.3156758063136578, 0.0977, 0.0228558757405885)"
            ]
          },
          "metadata": {
            "tags": []
          },
          "execution_count": 51
        }
      ]
    },
    {
      "cell_type": "code",
      "metadata": {
        "id": "U-blcFZqjYIc"
      },
      "source": [
        "train_loader = DataLoader(dataframe_to_dataset(train_df, teacher), batch_size=BATCH_SIZE, shuffle=False)"
      ],
      "execution_count": null,
      "outputs": []
    },
    {
      "cell_type": "code",
      "metadata": {
        "colab": {
          "base_uri": "https://localhost:8080/",
          "height": 929
        },
        "id": "wbO4pcCxyU1f",
        "outputId": "d65ea184-e220-4aee-8233-81ab38a5821c"
      },
      "source": [
        "bil = BiLSTM(n_vocabs=n_vocab,embed_dims=50,n_lstm_units = 25,n_lstm_layers=1, n_output_classes =10, special_chars=[padding_idx])\n",
        "optim = torch.optim.Adam(bil.parameters(),lr = 0.0001)\n",
        "#sched = torch.optim.lr_scheduler.StepLR(optim, step_size=1, gamma=0.5)\n",
        "lstm_train_results = train_loop(bil, optim, train_loader, test_loader, n_epochs=10, sched=None, distil=True, alpha = 0.9, temperature=10)\n",
        "lstm_train_results[\"model\"] = \"LSTM\"\n",
        "lstm_train_results"
      ],
      "execution_count": null,
      "outputs": [
        {
          "output_type": "stream",
          "text": [
            "Batch progress for epoch 0:   0%|          | 0/1250 [00:00<?, ?it/s]/usr/local/lib/python3.7/dist-packages/torch/nn/functional.py:2611: UserWarning: reduction: 'mean' divides the total loss by both the batch size and the support size.'batchmean' divides only by the batch size, and aligns with the KL div math definition.'mean' will be changed to behave the same as 'batchmean' in the next major release.\n",
            "  \"reduction: 'mean' divides the total loss by both the batch size and the support size.\"\n",
            "Batch progress for epoch 0: 100%|██████████| 1250/1250 [00:13<00:00, 92.02it/s]\n",
            "Validating: 100%|██████████| 313/313 [00:01<00:00, 242.33it/s]\n",
            "Batch progress for epoch 1:   1%|          | 10/1250 [00:00<00:13, 91.11it/s]"
          ],
          "name": "stderr"
        },
        {
          "output_type": "stream",
          "text": [
            "Loss = 0.9582082347367138, Accuracy = 0.7568, F1-score = 0.7579017864088523\n"
          ],
          "name": "stdout"
        },
        {
          "output_type": "stream",
          "text": [
            "Batch progress for epoch 1: 100%|██████████| 1250/1250 [00:13<00:00, 92.01it/s]\n",
            "Validating: 100%|██████████| 313/313 [00:01<00:00, 242.76it/s]\n",
            "Batch progress for epoch 2:   1%|          | 10/1250 [00:00<00:12, 95.62it/s]"
          ],
          "name": "stderr"
        },
        {
          "output_type": "stream",
          "text": [
            "Loss = 0.8421074414786439, Accuracy = 0.7713, F1-score = 0.7720941235963004\n"
          ],
          "name": "stdout"
        },
        {
          "output_type": "stream",
          "text": [
            "Batch progress for epoch 2: 100%|██████████| 1250/1250 [00:13<00:00, 94.38it/s]\n",
            "Validating: 100%|██████████| 313/313 [00:01<00:00, 242.26it/s]\n",
            "Batch progress for epoch 3:   1%|          | 10/1250 [00:00<00:13, 94.23it/s]"
          ],
          "name": "stderr"
        },
        {
          "output_type": "stream",
          "text": [
            "Loss = 0.765531373195374, Accuracy = 0.7833, F1-score = 0.7843241805004818\n"
          ],
          "name": "stdout"
        },
        {
          "output_type": "stream",
          "text": [
            "Batch progress for epoch 3: 100%|██████████| 1250/1250 [00:13<00:00, 93.90it/s]\n",
            "Validating: 100%|██████████| 313/313 [00:01<00:00, 243.60it/s]\n",
            "Batch progress for epoch 4:   1%|          | 10/1250 [00:00<00:12, 95.45it/s]"
          ],
          "name": "stderr"
        },
        {
          "output_type": "stream",
          "text": [
            "Loss = 0.7073272531405805, Accuracy = 0.7945, F1-score = 0.7954839209079809\n"
          ],
          "name": "stdout"
        },
        {
          "output_type": "stream",
          "text": [
            "Batch progress for epoch 4: 100%|██████████| 1250/1250 [00:13<00:00, 94.28it/s]\n",
            "Validating: 100%|██████████| 313/313 [00:01<00:00, 248.03it/s]\n",
            "Batch progress for epoch 5:   1%|          | 10/1250 [00:00<00:12, 97.60it/s]"
          ],
          "name": "stderr"
        },
        {
          "output_type": "stream",
          "text": [
            "Loss = 0.6590143017494641, Accuracy = 0.8031, F1-score = 0.8037745683043893\n"
          ],
          "name": "stdout"
        },
        {
          "output_type": "stream",
          "text": [
            "Batch progress for epoch 5: 100%|██████████| 1250/1250 [00:13<00:00, 94.67it/s]\n",
            "Validating: 100%|██████████| 313/313 [00:01<00:00, 249.75it/s]\n",
            "Batch progress for epoch 6:   1%|          | 10/1250 [00:00<00:12, 96.40it/s]"
          ],
          "name": "stderr"
        },
        {
          "output_type": "stream",
          "text": [
            "Loss = 0.619712546991464, Accuracy = 0.8112, F1-score = 0.8118950246363174\n"
          ],
          "name": "stdout"
        },
        {
          "output_type": "stream",
          "text": [
            "Batch progress for epoch 6: 100%|██████████| 1250/1250 [00:13<00:00, 95.10it/s]\n",
            "Validating: 100%|██████████| 313/313 [00:01<00:00, 249.47it/s]\n",
            "Batch progress for epoch 7:   1%|          | 10/1250 [00:00<00:13, 95.21it/s]"
          ],
          "name": "stderr"
        },
        {
          "output_type": "stream",
          "text": [
            "Loss = 0.587927942458814, Accuracy = 0.8174, F1-score = 0.8179137415064567\n"
          ],
          "name": "stdout"
        },
        {
          "output_type": "stream",
          "text": [
            "Batch progress for epoch 7: 100%|██████████| 1250/1250 [00:13<00:00, 94.12it/s]\n",
            "Validating: 100%|██████████| 313/313 [00:01<00:00, 246.21it/s]\n",
            "Batch progress for epoch 8:   1%|          | 10/1250 [00:00<00:12, 95.64it/s]"
          ],
          "name": "stderr"
        },
        {
          "output_type": "stream",
          "text": [
            "Loss = 0.5616999240919424, Accuracy = 0.8243, F1-score = 0.8248913648052122\n"
          ],
          "name": "stdout"
        },
        {
          "output_type": "stream",
          "text": [
            "Batch progress for epoch 8: 100%|██████████| 1250/1250 [00:13<00:00, 94.53it/s]\n",
            "Validating: 100%|██████████| 313/313 [00:01<00:00, 248.13it/s]\n",
            "Batch progress for epoch 9:   1%|          | 10/1250 [00:00<00:12, 96.96it/s]"
          ],
          "name": "stderr"
        },
        {
          "output_type": "stream",
          "text": [
            "Loss = 0.5384355351186028, Accuracy = 0.8291, F1-score = 0.8295957989511165\n"
          ],
          "name": "stdout"
        },
        {
          "output_type": "stream",
          "text": [
            "Batch progress for epoch 9: 100%|██████████| 1250/1250 [00:13<00:00, 94.02it/s]\n",
            "Validating: 100%|██████████| 313/313 [00:01<00:00, 244.46it/s]\n"
          ],
          "name": "stderr"
        },
        {
          "output_type": "stream",
          "text": [
            "Loss = 0.5217706523002527, Accuracy = 0.8284, F1-score = 0.8287860350835995\n"
          ],
          "name": "stdout"
        },
        {
          "output_type": "execute_result",
          "data": {
            "text/html": [
              "<div>\n",
              "<style scoped>\n",
              "    .dataframe tbody tr th:only-of-type {\n",
              "        vertical-align: middle;\n",
              "    }\n",
              "\n",
              "    .dataframe tbody tr th {\n",
              "        vertical-align: top;\n",
              "    }\n",
              "\n",
              "    .dataframe thead th {\n",
              "        text-align: right;\n",
              "    }\n",
              "</style>\n",
              "<table border=\"1\" class=\"dataframe\">\n",
              "  <thead>\n",
              "    <tr style=\"text-align: right;\">\n",
              "      <th></th>\n",
              "      <th>epoch</th>\n",
              "      <th>train_loss</th>\n",
              "      <th>train_acc</th>\n",
              "      <th>train_f1_macro</th>\n",
              "      <th>test_loss</th>\n",
              "      <th>test_acc</th>\n",
              "      <th>test_f1_macro</th>\n",
              "      <th>model</th>\n",
              "    </tr>\n",
              "  </thead>\n",
              "  <tbody>\n",
              "    <tr>\n",
              "      <th>0</th>\n",
              "      <td>0</td>\n",
              "      <td>0.118074</td>\n",
              "      <td>0.650575</td>\n",
              "      <td>0.649722</td>\n",
              "      <td>0.958208</td>\n",
              "      <td>0.7568</td>\n",
              "      <td>0.757902</td>\n",
              "      <td>LSTM</td>\n",
              "    </tr>\n",
              "    <tr>\n",
              "      <th>1</th>\n",
              "      <td>1</td>\n",
              "      <td>0.105226</td>\n",
              "      <td>0.680825</td>\n",
              "      <td>0.679877</td>\n",
              "      <td>0.842107</td>\n",
              "      <td>0.7713</td>\n",
              "      <td>0.772094</td>\n",
              "      <td>LSTM</td>\n",
              "    </tr>\n",
              "    <tr>\n",
              "      <th>2</th>\n",
              "      <td>2</td>\n",
              "      <td>0.095783</td>\n",
              "      <td>0.703025</td>\n",
              "      <td>0.702602</td>\n",
              "      <td>0.765531</td>\n",
              "      <td>0.7833</td>\n",
              "      <td>0.784324</td>\n",
              "      <td>LSTM</td>\n",
              "    </tr>\n",
              "    <tr>\n",
              "      <th>3</th>\n",
              "      <td>3</td>\n",
              "      <td>0.089238</td>\n",
              "      <td>0.722300</td>\n",
              "      <td>0.721438</td>\n",
              "      <td>0.707327</td>\n",
              "      <td>0.7945</td>\n",
              "      <td>0.795484</td>\n",
              "      <td>LSTM</td>\n",
              "    </tr>\n",
              "    <tr>\n",
              "      <th>4</th>\n",
              "      <td>4</td>\n",
              "      <td>0.083345</td>\n",
              "      <td>0.738400</td>\n",
              "      <td>0.737443</td>\n",
              "      <td>0.659014</td>\n",
              "      <td>0.8031</td>\n",
              "      <td>0.803775</td>\n",
              "      <td>LSTM</td>\n",
              "    </tr>\n",
              "    <tr>\n",
              "      <th>5</th>\n",
              "      <td>5</td>\n",
              "      <td>0.078711</td>\n",
              "      <td>0.753400</td>\n",
              "      <td>0.752559</td>\n",
              "      <td>0.619713</td>\n",
              "      <td>0.8112</td>\n",
              "      <td>0.811895</td>\n",
              "      <td>LSTM</td>\n",
              "    </tr>\n",
              "    <tr>\n",
              "      <th>6</th>\n",
              "      <td>6</td>\n",
              "      <td>0.074596</td>\n",
              "      <td>0.763550</td>\n",
              "      <td>0.762745</td>\n",
              "      <td>0.587928</td>\n",
              "      <td>0.8174</td>\n",
              "      <td>0.817914</td>\n",
              "      <td>LSTM</td>\n",
              "    </tr>\n",
              "    <tr>\n",
              "      <th>7</th>\n",
              "      <td>7</td>\n",
              "      <td>0.071377</td>\n",
              "      <td>0.775650</td>\n",
              "      <td>0.774704</td>\n",
              "      <td>0.561700</td>\n",
              "      <td>0.8243</td>\n",
              "      <td>0.824891</td>\n",
              "      <td>LSTM</td>\n",
              "    </tr>\n",
              "    <tr>\n",
              "      <th>8</th>\n",
              "      <td>8</td>\n",
              "      <td>0.068255</td>\n",
              "      <td>0.785250</td>\n",
              "      <td>0.784446</td>\n",
              "      <td>0.538436</td>\n",
              "      <td>0.8291</td>\n",
              "      <td>0.829596</td>\n",
              "      <td>LSTM</td>\n",
              "    </tr>\n",
              "    <tr>\n",
              "      <th>9</th>\n",
              "      <td>9</td>\n",
              "      <td>0.066440</td>\n",
              "      <td>0.789900</td>\n",
              "      <td>0.788851</td>\n",
              "      <td>0.521771</td>\n",
              "      <td>0.8284</td>\n",
              "      <td>0.828786</td>\n",
              "      <td>LSTM</td>\n",
              "    </tr>\n",
              "  </tbody>\n",
              "</table>\n",
              "</div>"
            ],
            "text/plain": [
              "   epoch  train_loss  train_acc  ...  test_acc  test_f1_macro  model\n",
              "0      0    0.118074   0.650575  ...    0.7568       0.757902   LSTM\n",
              "1      1    0.105226   0.680825  ...    0.7713       0.772094   LSTM\n",
              "2      2    0.095783   0.703025  ...    0.7833       0.784324   LSTM\n",
              "3      3    0.089238   0.722300  ...    0.7945       0.795484   LSTM\n",
              "4      4    0.083345   0.738400  ...    0.8031       0.803775   LSTM\n",
              "5      5    0.078711   0.753400  ...    0.8112       0.811895   LSTM\n",
              "6      6    0.074596   0.763550  ...    0.8174       0.817914   LSTM\n",
              "7      7    0.071377   0.775650  ...    0.8243       0.824891   LSTM\n",
              "8      8    0.068255   0.785250  ...    0.8291       0.829596   LSTM\n",
              "9      9    0.066440   0.789900  ...    0.8284       0.828786   LSTM\n",
              "\n",
              "[10 rows x 8 columns]"
            ]
          },
          "metadata": {
            "tags": []
          },
          "execution_count": 54
        }
      ]
    },
    {
      "cell_type": "code",
      "metadata": {
        "colab": {
          "base_uri": "https://localhost:8080/",
          "height": 965
        },
        "id": "llnAuVg5FTL7",
        "outputId": "4a0476b5-04c4-455f-a0e2-4ccc33b17ae9"
      },
      "source": [
        "bil = BiLSTM(n_vocabs=n_vocab,embed_dims=50,n_lstm_units = 25,n_lstm_layers=1, n_output_classes =10, special_chars=[padding_idx])\n",
        "optim = torch.optim.Adam(bil.parameters(),lr = 0.0001)\n",
        "#sched = torch.optim.lr_scheduler.StepLR(optim, step_size=1, gamma=0.5)\n",
        "lstm_train_results = train_loop(bil, optim, train_loader, test_loader, n_epochs=10, sched=None, distil=True, alpha = 0, temperature=10)\n",
        "lstm_train_results[\"model\"] = \"LSTM\"\n",
        "lstm_train_results"
      ],
      "execution_count": null,
      "outputs": [
        {
          "output_type": "stream",
          "text": [
            "/usr/local/lib/python3.7/dist-packages/torch/nn/modules/rnn.py:63: UserWarning: dropout option adds dropout after all but last recurrent layer, so non-zero dropout expects num_layers greater than 1, but got dropout=0.5 and num_layers=1\n",
            "  \"num_layers={}\".format(dropout, num_layers))\n",
            "Batch progress for epoch 0:   0%|          | 0/1250 [00:00<?, ?it/s]/usr/local/lib/python3.7/dist-packages/torch/nn/functional.py:2611: UserWarning: reduction: 'mean' divides the total loss by both the batch size and the support size.'batchmean' divides only by the batch size, and aligns with the KL div math definition.'mean' will be changed to behave the same as 'batchmean' in the next major release.\n",
            "  \"reduction: 'mean' divides the total loss by both the batch size and the support size.\"\n",
            "Batch progress for epoch 0: 100%|██████████| 1250/1250 [00:13<00:00, 94.22it/s]\n",
            "Validating: 100%|██████████| 313/313 [00:01<00:00, 247.41it/s]\n",
            "Batch progress for epoch 1:   1%|          | 10/1250 [00:00<00:12, 95.65it/s]"
          ],
          "name": "stderr"
        },
        {
          "output_type": "stream",
          "text": [
            "Loss = 2.187003169958584, Accuracy = 0.4509, F1-score = 0.4365879743073894\n"
          ],
          "name": "stdout"
        },
        {
          "output_type": "stream",
          "text": [
            "Batch progress for epoch 1: 100%|██████████| 1250/1250 [00:13<00:00, 93.72it/s]\n",
            "Validating: 100%|██████████| 313/313 [00:01<00:00, 246.16it/s]\n",
            "Batch progress for epoch 2:   1%|          | 10/1250 [00:00<00:13, 92.51it/s]"
          ],
          "name": "stderr"
        },
        {
          "output_type": "stream",
          "text": [
            "Loss = 2.0041684327415004, Accuracy = 0.6002, F1-score = 0.5947534103593487\n"
          ],
          "name": "stdout"
        },
        {
          "output_type": "stream",
          "text": [
            "Batch progress for epoch 2: 100%|██████████| 1250/1250 [00:13<00:00, 94.01it/s]\n",
            "Validating: 100%|██████████| 313/313 [00:01<00:00, 245.62it/s]\n",
            "Batch progress for epoch 3:   1%|          | 10/1250 [00:00<00:13, 94.26it/s]"
          ],
          "name": "stderr"
        },
        {
          "output_type": "stream",
          "text": [
            "Loss = 1.6967995806623952, Accuracy = 0.6661, F1-score = 0.6674027066079301\n"
          ],
          "name": "stdout"
        },
        {
          "output_type": "stream",
          "text": [
            "Batch progress for epoch 3: 100%|██████████| 1250/1250 [00:13<00:00, 93.64it/s]\n",
            "Validating: 100%|██████████| 313/313 [00:01<00:00, 246.82it/s]\n",
            "Batch progress for epoch 4:   1%|          | 10/1250 [00:00<00:12, 95.44it/s]"
          ],
          "name": "stderr"
        },
        {
          "output_type": "stream",
          "text": [
            "Loss = 1.3350752554000758, Accuracy = 0.6986, F1-score = 0.7010164640709319\n"
          ],
          "name": "stdout"
        },
        {
          "output_type": "stream",
          "text": [
            "Batch progress for epoch 4: 100%|██████████| 1250/1250 [00:13<00:00, 94.03it/s]\n",
            "Validating: 100%|██████████| 313/313 [00:01<00:00, 249.91it/s]\n",
            "Batch progress for epoch 5:   1%|          | 10/1250 [00:00<00:13, 93.77it/s]"
          ],
          "name": "stderr"
        },
        {
          "output_type": "stream",
          "text": [
            "Loss = 1.077068668584854, Accuracy = 0.7306, F1-score = 0.7327235750503782\n"
          ],
          "name": "stdout"
        },
        {
          "output_type": "stream",
          "text": [
            "Batch progress for epoch 5: 100%|██████████| 1250/1250 [00:13<00:00, 93.89it/s]\n",
            "Validating: 100%|██████████| 313/313 [00:01<00:00, 245.71it/s]\n",
            "Batch progress for epoch 6:   1%|          | 9/1250 [00:00<00:14, 86.94it/s]"
          ],
          "name": "stderr"
        },
        {
          "output_type": "stream",
          "text": [
            "Loss = 0.9234424709512022, Accuracy = 0.7538, F1-score = 0.7556989184392163\n"
          ],
          "name": "stdout"
        },
        {
          "output_type": "stream",
          "text": [
            "Batch progress for epoch 6: 100%|██████████| 1250/1250 [00:13<00:00, 94.09it/s]\n",
            "Validating: 100%|██████████| 313/313 [00:01<00:00, 247.74it/s]\n",
            "Batch progress for epoch 7:   1%|          | 10/1250 [00:00<00:12, 95.64it/s]"
          ],
          "name": "stderr"
        },
        {
          "output_type": "stream",
          "text": [
            "Loss = 0.818408042097244, Accuracy = 0.7727, F1-score = 0.7743450034598953\n"
          ],
          "name": "stdout"
        },
        {
          "output_type": "stream",
          "text": [
            "Batch progress for epoch 7: 100%|██████████| 1250/1250 [00:13<00:00, 93.98it/s]\n",
            "Validating: 100%|██████████| 313/313 [00:01<00:00, 245.56it/s]\n",
            "Batch progress for epoch 8:   1%|          | 10/1250 [00:00<00:12, 95.94it/s]"
          ],
          "name": "stderr"
        },
        {
          "output_type": "stream",
          "text": [
            "Loss = 0.7518483504129294, Accuracy = 0.7849, F1-score = 0.7868251922210574\n"
          ],
          "name": "stdout"
        },
        {
          "output_type": "stream",
          "text": [
            "Batch progress for epoch 8: 100%|██████████| 1250/1250 [00:13<00:00, 93.65it/s]\n",
            "Validating: 100%|██████████| 313/313 [00:01<00:00, 249.62it/s]\n",
            "Batch progress for epoch 9:   1%|          | 10/1250 [00:00<00:12, 95.97it/s]"
          ],
          "name": "stderr"
        },
        {
          "output_type": "stream",
          "text": [
            "Loss = 0.6950979416553205, Accuracy = 0.7953, F1-score = 0.7969612333924234\n"
          ],
          "name": "stdout"
        },
        {
          "output_type": "stream",
          "text": [
            "Batch progress for epoch 9: 100%|██████████| 1250/1250 [00:13<00:00, 94.05it/s]\n",
            "Validating: 100%|██████████| 313/313 [00:01<00:00, 244.54it/s]\n"
          ],
          "name": "stderr"
        },
        {
          "output_type": "stream",
          "text": [
            "Loss = 0.6505018982072227, Accuracy = 0.8045, F1-score = 0.8062289283747825\n"
          ],
          "name": "stdout"
        },
        {
          "output_type": "execute_result",
          "data": {
            "text/html": [
              "<div>\n",
              "<style scoped>\n",
              "    .dataframe tbody tr th:only-of-type {\n",
              "        vertical-align: middle;\n",
              "    }\n",
              "\n",
              "    .dataframe tbody tr th {\n",
              "        vertical-align: top;\n",
              "    }\n",
              "\n",
              "    .dataframe thead th {\n",
              "        text-align: right;\n",
              "    }\n",
              "</style>\n",
              "<table border=\"1\" class=\"dataframe\">\n",
              "  <thead>\n",
              "    <tr style=\"text-align: right;\">\n",
              "      <th></th>\n",
              "      <th>epoch</th>\n",
              "      <th>train_loss</th>\n",
              "      <th>train_acc</th>\n",
              "      <th>train_f1_macro</th>\n",
              "      <th>test_loss</th>\n",
              "      <th>test_acc</th>\n",
              "      <th>test_f1_macro</th>\n",
              "      <th>model</th>\n",
              "    </tr>\n",
              "  </thead>\n",
              "  <tbody>\n",
              "    <tr>\n",
              "      <th>0</th>\n",
              "      <td>0</td>\n",
              "      <td>2.268061</td>\n",
              "      <td>0.154100</td>\n",
              "      <td>0.147743</td>\n",
              "      <td>2.187003</td>\n",
              "      <td>0.4509</td>\n",
              "      <td>0.436588</td>\n",
              "      <td>LSTM</td>\n",
              "    </tr>\n",
              "    <tr>\n",
              "      <th>1</th>\n",
              "      <td>1</td>\n",
              "      <td>2.125488</td>\n",
              "      <td>0.301275</td>\n",
              "      <td>0.293328</td>\n",
              "      <td>2.004168</td>\n",
              "      <td>0.6002</td>\n",
              "      <td>0.594753</td>\n",
              "      <td>LSTM</td>\n",
              "    </tr>\n",
              "    <tr>\n",
              "      <th>2</th>\n",
              "      <td>2</td>\n",
              "      <td>1.898582</td>\n",
              "      <td>0.448700</td>\n",
              "      <td>0.443459</td>\n",
              "      <td>1.696800</td>\n",
              "      <td>0.6661</td>\n",
              "      <td>0.667403</td>\n",
              "      <td>LSTM</td>\n",
              "    </tr>\n",
              "    <tr>\n",
              "      <th>3</th>\n",
              "      <td>3</td>\n",
              "      <td>1.577305</td>\n",
              "      <td>0.551325</td>\n",
              "      <td>0.548142</td>\n",
              "      <td>1.335075</td>\n",
              "      <td>0.6986</td>\n",
              "      <td>0.701016</td>\n",
              "      <td>LSTM</td>\n",
              "    </tr>\n",
              "    <tr>\n",
              "      <th>4</th>\n",
              "      <td>4</td>\n",
              "      <td>1.292077</td>\n",
              "      <td>0.616575</td>\n",
              "      <td>0.614976</td>\n",
              "      <td>1.077069</td>\n",
              "      <td>0.7306</td>\n",
              "      <td>0.732724</td>\n",
              "      <td>LSTM</td>\n",
              "    </tr>\n",
              "    <tr>\n",
              "      <th>5</th>\n",
              "      <td>5</td>\n",
              "      <td>1.104831</td>\n",
              "      <td>0.661725</td>\n",
              "      <td>0.660639</td>\n",
              "      <td>0.923442</td>\n",
              "      <td>0.7538</td>\n",
              "      <td>0.755699</td>\n",
              "      <td>LSTM</td>\n",
              "    </tr>\n",
              "    <tr>\n",
              "      <th>6</th>\n",
              "      <td>6</td>\n",
              "      <td>0.984098</td>\n",
              "      <td>0.695025</td>\n",
              "      <td>0.694028</td>\n",
              "      <td>0.818408</td>\n",
              "      <td>0.7727</td>\n",
              "      <td>0.774345</td>\n",
              "      <td>LSTM</td>\n",
              "    </tr>\n",
              "    <tr>\n",
              "      <th>7</th>\n",
              "      <td>7</td>\n",
              "      <td>0.903197</td>\n",
              "      <td>0.714550</td>\n",
              "      <td>0.713142</td>\n",
              "      <td>0.751848</td>\n",
              "      <td>0.7849</td>\n",
              "      <td>0.786825</td>\n",
              "      <td>LSTM</td>\n",
              "    </tr>\n",
              "    <tr>\n",
              "      <th>8</th>\n",
              "      <td>8</td>\n",
              "      <td>0.837802</td>\n",
              "      <td>0.730800</td>\n",
              "      <td>0.729784</td>\n",
              "      <td>0.695098</td>\n",
              "      <td>0.7953</td>\n",
              "      <td>0.796961</td>\n",
              "      <td>LSTM</td>\n",
              "    </tr>\n",
              "    <tr>\n",
              "      <th>9</th>\n",
              "      <td>9</td>\n",
              "      <td>0.786612</td>\n",
              "      <td>0.746625</td>\n",
              "      <td>0.745769</td>\n",
              "      <td>0.650502</td>\n",
              "      <td>0.8045</td>\n",
              "      <td>0.806229</td>\n",
              "      <td>LSTM</td>\n",
              "    </tr>\n",
              "  </tbody>\n",
              "</table>\n",
              "</div>"
            ],
            "text/plain": [
              "   epoch  train_loss  train_acc  ...  test_acc  test_f1_macro  model\n",
              "0      0    2.268061   0.154100  ...    0.4509       0.436588   LSTM\n",
              "1      1    2.125488   0.301275  ...    0.6002       0.594753   LSTM\n",
              "2      2    1.898582   0.448700  ...    0.6661       0.667403   LSTM\n",
              "3      3    1.577305   0.551325  ...    0.6986       0.701016   LSTM\n",
              "4      4    1.292077   0.616575  ...    0.7306       0.732724   LSTM\n",
              "5      5    1.104831   0.661725  ...    0.7538       0.755699   LSTM\n",
              "6      6    0.984098   0.695025  ...    0.7727       0.774345   LSTM\n",
              "7      7    0.903197   0.714550  ...    0.7849       0.786825   LSTM\n",
              "8      8    0.837802   0.730800  ...    0.7953       0.796961   LSTM\n",
              "9      9    0.786612   0.746625  ...    0.8045       0.806229   LSTM\n",
              "\n",
              "[10 rows x 8 columns]"
            ]
          },
          "metadata": {
            "tags": []
          },
          "execution_count": 55
        }
      ]
    },
    {
      "cell_type": "code",
      "metadata": {
        "colab": {
          "base_uri": "https://localhost:8080/",
          "height": 965
        },
        "id": "pFPz3a84FT0Y",
        "outputId": "09cb711a-aa54-46ee-e6ab-4ad2f72158f4"
      },
      "source": [
        "bil = BiLSTM(n_vocabs=n_vocab,embed_dims=50,n_lstm_units = 25,n_lstm_layers=1, n_output_classes =10, special_chars=[padding_idx])\n",
        "optim = torch.optim.Adam(bil.parameters(),lr = 0.0001)\n",
        "#sched = torch.optim.lr_scheduler.StepLR(optim, step_size=1, gamma=0.5)\n",
        "lstm_train_results = train_loop(bil, optim, train_loader, test_loader, n_epochs=10, sched=None, distil=True, alpha = 0.5, temperature=10)\n",
        "lstm_train_results[\"model\"] = \"LSTM\"\n",
        "lstm_train_results"
      ],
      "execution_count": null,
      "outputs": [
        {
          "output_type": "stream",
          "text": [
            "/usr/local/lib/python3.7/dist-packages/torch/nn/modules/rnn.py:63: UserWarning: dropout option adds dropout after all but last recurrent layer, so non-zero dropout expects num_layers greater than 1, but got dropout=0.5 and num_layers=1\n",
            "  \"num_layers={}\".format(dropout, num_layers))\n",
            "\rBatch progress for epoch 0:   0%|          | 0/1250 [00:00<?, ?it/s]/usr/local/lib/python3.7/dist-packages/torch/nn/functional.py:2611: UserWarning: reduction: 'mean' divides the total loss by both the batch size and the support size.'batchmean' divides only by the batch size, and aligns with the KL div math definition.'mean' will be changed to behave the same as 'batchmean' in the next major release.\n",
            "  \"reduction: 'mean' divides the total loss by both the batch size and the support size.\"\n",
            "Batch progress for epoch 0: 100%|██████████| 1250/1250 [00:13<00:00, 93.46it/s]\n",
            "Validating: 100%|██████████| 313/313 [00:01<00:00, 244.69it/s]\n",
            "Batch progress for epoch 1:   1%|          | 10/1250 [00:00<00:13, 90.92it/s]"
          ],
          "name": "stderr"
        },
        {
          "output_type": "stream",
          "text": [
            "Loss = 2.212771271745237, Accuracy = 0.4424, F1-score = 0.43763499941581874\n"
          ],
          "name": "stdout"
        },
        {
          "output_type": "stream",
          "text": [
            "Batch progress for epoch 1: 100%|██████████| 1250/1250 [00:13<00:00, 93.66it/s]\n",
            "Validating: 100%|██████████| 313/313 [00:01<00:00, 242.68it/s]\n",
            "Batch progress for epoch 2:   1%|          | 10/1250 [00:00<00:13, 94.36it/s]"
          ],
          "name": "stderr"
        },
        {
          "output_type": "stream",
          "text": [
            "Loss = 2.049230362660588, Accuracy = 0.6108, F1-score = 0.6019078151374122\n"
          ],
          "name": "stdout"
        },
        {
          "output_type": "stream",
          "text": [
            "Batch progress for epoch 2: 100%|██████████| 1250/1250 [00:13<00:00, 93.90it/s]\n",
            "Validating: 100%|██████████| 313/313 [00:01<00:00, 246.61it/s]\n",
            "Batch progress for epoch 3:   1%|          | 10/1250 [00:00<00:12, 95.62it/s]"
          ],
          "name": "stderr"
        },
        {
          "output_type": "stream",
          "text": [
            "Loss = 1.7968654941065243, Accuracy = 0.668, F1-score = 0.6612237222565087\n"
          ],
          "name": "stdout"
        },
        {
          "output_type": "stream",
          "text": [
            "Batch progress for epoch 3: 100%|██████████| 1250/1250 [00:13<00:00, 93.79it/s]\n",
            "Validating: 100%|██████████| 313/313 [00:01<00:00, 242.06it/s]\n",
            "Batch progress for epoch 4:   1%|          | 10/1250 [00:00<00:12, 95.67it/s]"
          ],
          "name": "stderr"
        },
        {
          "output_type": "stream",
          "text": [
            "Loss = 1.4548262079683736, Accuracy = 0.7004, F1-score = 0.6954575457332919\n"
          ],
          "name": "stdout"
        },
        {
          "output_type": "stream",
          "text": [
            "Batch progress for epoch 4: 100%|██████████| 1250/1250 [00:13<00:00, 93.82it/s]\n",
            "Validating: 100%|██████████| 313/313 [00:01<00:00, 244.09it/s]\n",
            "Batch progress for epoch 5:   1%|          | 10/1250 [00:00<00:13, 93.80it/s]"
          ],
          "name": "stderr"
        },
        {
          "output_type": "stream",
          "text": [
            "Loss = 1.1346018499078843, Accuracy = 0.7356, F1-score = 0.7343275706303882\n"
          ],
          "name": "stdout"
        },
        {
          "output_type": "stream",
          "text": [
            "Batch progress for epoch 5: 100%|██████████| 1250/1250 [00:13<00:00, 94.36it/s]\n",
            "Validating: 100%|██████████| 313/313 [00:01<00:00, 247.46it/s]\n",
            "Batch progress for epoch 6:   1%|          | 10/1250 [00:00<00:13, 94.37it/s]"
          ],
          "name": "stderr"
        },
        {
          "output_type": "stream",
          "text": [
            "Loss = 0.9456764259658301, Accuracy = 0.7567, F1-score = 0.7567787063450513\n"
          ],
          "name": "stdout"
        },
        {
          "output_type": "stream",
          "text": [
            "Batch progress for epoch 6: 100%|██████████| 1250/1250 [00:13<00:00, 93.27it/s]\n",
            "Validating: 100%|██████████| 313/313 [00:01<00:00, 245.37it/s]\n",
            "Batch progress for epoch 7:   1%|          | 9/1250 [00:00<00:13, 89.35it/s]"
          ],
          "name": "stderr"
        },
        {
          "output_type": "stream",
          "text": [
            "Loss = 0.817848021420427, Accuracy = 0.7703, F1-score = 0.7706572406808169\n"
          ],
          "name": "stdout"
        },
        {
          "output_type": "stream",
          "text": [
            "Batch progress for epoch 7: 100%|██████████| 1250/1250 [00:13<00:00, 93.75it/s]\n",
            "Validating: 100%|██████████| 313/313 [00:01<00:00, 247.28it/s]\n",
            "Batch progress for epoch 8:   1%|          | 9/1250 [00:00<00:14, 88.51it/s]"
          ],
          "name": "stderr"
        },
        {
          "output_type": "stream",
          "text": [
            "Loss = 0.7339033628233705, Accuracy = 0.784, F1-score = 0.7849453568969447\n"
          ],
          "name": "stdout"
        },
        {
          "output_type": "stream",
          "text": [
            "Batch progress for epoch 8: 100%|██████████| 1250/1250 [00:13<00:00, 94.04it/s]\n",
            "Validating: 100%|██████████| 313/313 [00:01<00:00, 244.85it/s]\n",
            "Batch progress for epoch 9:   1%|          | 10/1250 [00:00<00:13, 94.99it/s]"
          ],
          "name": "stderr"
        },
        {
          "output_type": "stream",
          "text": [
            "Loss = 0.6830381526352879, Accuracy = 0.7951, F1-score = 0.7957492673330705\n"
          ],
          "name": "stdout"
        },
        {
          "output_type": "stream",
          "text": [
            "Batch progress for epoch 9: 100%|██████████| 1250/1250 [00:13<00:00, 93.57it/s]\n",
            "Validating: 100%|██████████| 313/313 [00:01<00:00, 247.24it/s]"
          ],
          "name": "stderr"
        },
        {
          "output_type": "stream",
          "text": [
            "Loss = 0.6394845095876688, Accuracy = 0.8011, F1-score = 0.8019679158993849\n"
          ],
          "name": "stdout"
        },
        {
          "output_type": "stream",
          "text": [
            "\n"
          ],
          "name": "stderr"
        },
        {
          "output_type": "execute_result",
          "data": {
            "text/html": [
              "<div>\n",
              "<style scoped>\n",
              "    .dataframe tbody tr th:only-of-type {\n",
              "        vertical-align: middle;\n",
              "    }\n",
              "\n",
              "    .dataframe tbody tr th {\n",
              "        vertical-align: top;\n",
              "    }\n",
              "\n",
              "    .dataframe thead th {\n",
              "        text-align: right;\n",
              "    }\n",
              "</style>\n",
              "<table border=\"1\" class=\"dataframe\">\n",
              "  <thead>\n",
              "    <tr style=\"text-align: right;\">\n",
              "      <th></th>\n",
              "      <th>epoch</th>\n",
              "      <th>train_loss</th>\n",
              "      <th>train_acc</th>\n",
              "      <th>train_f1_macro</th>\n",
              "      <th>test_loss</th>\n",
              "      <th>test_acc</th>\n",
              "      <th>test_f1_macro</th>\n",
              "      <th>model</th>\n",
              "    </tr>\n",
              "  </thead>\n",
              "  <tbody>\n",
              "    <tr>\n",
              "      <th>0</th>\n",
              "      <td>0</td>\n",
              "      <td>1.145811</td>\n",
              "      <td>0.139350</td>\n",
              "      <td>0.132246</td>\n",
              "      <td>2.212771</td>\n",
              "      <td>0.4424</td>\n",
              "      <td>0.437635</td>\n",
              "      <td>LSTM</td>\n",
              "    </tr>\n",
              "    <tr>\n",
              "      <th>1</th>\n",
              "      <td>1</td>\n",
              "      <td>1.081517</td>\n",
              "      <td>0.279725</td>\n",
              "      <td>0.276086</td>\n",
              "      <td>2.049230</td>\n",
              "      <td>0.6108</td>\n",
              "      <td>0.601908</td>\n",
              "      <td>LSTM</td>\n",
              "    </tr>\n",
              "    <tr>\n",
              "      <th>2</th>\n",
              "      <td>2</td>\n",
              "      <td>0.983939</td>\n",
              "      <td>0.421100</td>\n",
              "      <td>0.411777</td>\n",
              "      <td>1.796865</td>\n",
              "      <td>0.6680</td>\n",
              "      <td>0.661224</td>\n",
              "      <td>LSTM</td>\n",
              "    </tr>\n",
              "    <tr>\n",
              "      <th>3</th>\n",
              "      <td>3</td>\n",
              "      <td>0.846776</td>\n",
              "      <td>0.532675</td>\n",
              "      <td>0.520706</td>\n",
              "      <td>1.454826</td>\n",
              "      <td>0.7004</td>\n",
              "      <td>0.695458</td>\n",
              "      <td>LSTM</td>\n",
              "    </tr>\n",
              "    <tr>\n",
              "      <th>4</th>\n",
              "      <td>4</td>\n",
              "      <td>0.686018</td>\n",
              "      <td>0.613275</td>\n",
              "      <td>0.604796</td>\n",
              "      <td>1.134602</td>\n",
              "      <td>0.7356</td>\n",
              "      <td>0.734328</td>\n",
              "      <td>LSTM</td>\n",
              "    </tr>\n",
              "    <tr>\n",
              "      <th>5</th>\n",
              "      <td>5</td>\n",
              "      <td>0.572996</td>\n",
              "      <td>0.663675</td>\n",
              "      <td>0.659908</td>\n",
              "      <td>0.945676</td>\n",
              "      <td>0.7567</td>\n",
              "      <td>0.756779</td>\n",
              "      <td>LSTM</td>\n",
              "    </tr>\n",
              "    <tr>\n",
              "      <th>6</th>\n",
              "      <td>6</td>\n",
              "      <td>0.502631</td>\n",
              "      <td>0.695675</td>\n",
              "      <td>0.693622</td>\n",
              "      <td>0.817848</td>\n",
              "      <td>0.7703</td>\n",
              "      <td>0.770657</td>\n",
              "      <td>LSTM</td>\n",
              "    </tr>\n",
              "    <tr>\n",
              "      <th>7</th>\n",
              "      <td>7</td>\n",
              "      <td>0.453239</td>\n",
              "      <td>0.716050</td>\n",
              "      <td>0.714683</td>\n",
              "      <td>0.733903</td>\n",
              "      <td>0.7840</td>\n",
              "      <td>0.784945</td>\n",
              "      <td>LSTM</td>\n",
              "    </tr>\n",
              "    <tr>\n",
              "      <th>8</th>\n",
              "      <td>8</td>\n",
              "      <td>0.421438</td>\n",
              "      <td>0.731875</td>\n",
              "      <td>0.730307</td>\n",
              "      <td>0.683038</td>\n",
              "      <td>0.7951</td>\n",
              "      <td>0.795749</td>\n",
              "      <td>LSTM</td>\n",
              "    </tr>\n",
              "    <tr>\n",
              "      <th>9</th>\n",
              "      <td>9</td>\n",
              "      <td>0.393350</td>\n",
              "      <td>0.746275</td>\n",
              "      <td>0.744749</td>\n",
              "      <td>0.639485</td>\n",
              "      <td>0.8011</td>\n",
              "      <td>0.801968</td>\n",
              "      <td>LSTM</td>\n",
              "    </tr>\n",
              "  </tbody>\n",
              "</table>\n",
              "</div>"
            ],
            "text/plain": [
              "   epoch  train_loss  train_acc  ...  test_acc  test_f1_macro  model\n",
              "0      0    1.145811   0.139350  ...    0.4424       0.437635   LSTM\n",
              "1      1    1.081517   0.279725  ...    0.6108       0.601908   LSTM\n",
              "2      2    0.983939   0.421100  ...    0.6680       0.661224   LSTM\n",
              "3      3    0.846776   0.532675  ...    0.7004       0.695458   LSTM\n",
              "4      4    0.686018   0.613275  ...    0.7356       0.734328   LSTM\n",
              "5      5    0.572996   0.663675  ...    0.7567       0.756779   LSTM\n",
              "6      6    0.502631   0.695675  ...    0.7703       0.770657   LSTM\n",
              "7      7    0.453239   0.716050  ...    0.7840       0.784945   LSTM\n",
              "8      8    0.421438   0.731875  ...    0.7951       0.795749   LSTM\n",
              "9      9    0.393350   0.746275  ...    0.8011       0.801968   LSTM\n",
              "\n",
              "[10 rows x 8 columns]"
            ]
          },
          "metadata": {
            "tags": []
          },
          "execution_count": 56
        }
      ]
    },
    {
      "cell_type": "code",
      "metadata": {
        "colab": {
          "base_uri": "https://localhost:8080/"
        },
        "id": "tSdsGk0JkAdb",
        "outputId": "0c4a89a8-0bb3-4df8-ec6f-e00197a251e5"
      },
      "source": [
        "validate(test_loader, bil)"
      ],
      "execution_count": null,
      "outputs": [
        {
          "output_type": "stream",
          "text": [
            "Validating: 100%|██████████| 313/313 [00:01<00:00, 251.10it/s]\n"
          ],
          "name": "stderr"
        },
        {
          "output_type": "execute_result",
          "data": {
            "text/plain": [
              "(2.183135775331491, 0.2735, 0.2520042828705722)"
            ]
          },
          "metadata": {
            "tags": []
          },
          "execution_count": 80
        }
      ]
    },
    {
      "cell_type": "code",
      "metadata": {
        "colab": {
          "base_uri": "https://localhost:8080/"
        },
        "id": "328y6NrIkOdv",
        "outputId": "8b3dcafa-27bf-48b8-efc7-6df66aa30592"
      },
      "source": [
        "%%timeit -r10\n",
        "\n",
        "with single_thread():\n",
        "    validate(test_loader, bil)"
      ],
      "execution_count": null,
      "outputs": [
        {
          "output_type": "stream",
          "text": [
            "Validating: 100%|██████████| 313/313 [00:01<00:00, 254.93it/s]\n",
            "Validating: 100%|██████████| 313/313 [00:01<00:00, 257.01it/s]\n",
            "Validating: 100%|██████████| 313/313 [00:01<00:00, 260.01it/s]\n",
            "Validating: 100%|██████████| 313/313 [00:01<00:00, 259.92it/s]\n",
            "Validating: 100%|██████████| 313/313 [00:01<00:00, 260.10it/s]\n",
            "Validating: 100%|██████████| 313/313 [00:01<00:00, 262.28it/s]\n",
            "Validating: 100%|██████████| 313/313 [00:01<00:00, 260.54it/s]\n",
            "Validating: 100%|██████████| 313/313 [00:01<00:00, 261.48it/s]\n",
            "Validating: 100%|██████████| 313/313 [00:01<00:00, 263.26it/s]\n",
            "Validating: 100%|██████████| 313/313 [00:01<00:00, 261.42it/s]\n",
            "Validating: 100%|██████████| 313/313 [00:01<00:00, 260.82it/s]"
          ],
          "name": "stderr"
        },
        {
          "output_type": "stream",
          "text": [
            "1 loop, best of 10: 1.21 s per loop\n"
          ],
          "name": "stdout"
        },
        {
          "output_type": "stream",
          "text": [
            "\n"
          ],
          "name": "stderr"
        }
      ]
    },
    {
      "cell_type": "code",
      "metadata": {
        "colab": {
          "base_uri": "https://localhost:8080/"
        },
        "id": "lznVZ6O7j6zD",
        "outputId": "ac5572d5-9fba-4324-b909-920ee092e4b8"
      },
      "source": [
        "bil_dist = BiLSTM(n_vocabs=n_vocab,embed_dims=50,n_lstm_units = 25,n_lstm_layers=1, n_output_classes =10, special_chars=[padding_idx])\n",
        "bil.to(device)"
      ],
      "execution_count": null,
      "outputs": [
        {
          "output_type": "stream",
          "text": [
            "/usr/local/lib/python3.7/dist-packages/torch/nn/modules/rnn.py:63: UserWarning: dropout option adds dropout after all but last recurrent layer, so non-zero dropout expects num_layers greater than 1, but got dropout=0.5 and num_layers=1\n",
            "  \"num_layers={}\".format(dropout, num_layers))\n"
          ],
          "name": "stderr"
        },
        {
          "output_type": "execute_result",
          "data": {
            "text/plain": [
              "BiLSTM(\n",
              "  (embed): Embedding(119547, 50)\n",
              "  (bilstm): LSTM(50, 25, batch_first=True, dropout=0.5, bidirectional=True)\n",
              "  (dropout): Dropout(p=0.5, inplace=False)\n",
              "  (linear): Linear(in_features=50, out_features=10, bias=True)\n",
              ")"
            ]
          },
          "metadata": {
            "tags": []
          },
          "execution_count": 64
        }
      ]
    },
    {
      "cell_type": "code",
      "metadata": {
        "colab": {
          "base_uri": "https://localhost:8080/"
        },
        "id": "34kBnS7GkjRl",
        "outputId": "db5ecb3c-8d05-4e17-bf65-92a3abf9b359"
      },
      "source": [
        "%%timeit -r10\n",
        "\n",
        "with single_thread():\n",
        "    validate(test_loader, bil_dist)"
      ],
      "execution_count": null,
      "outputs": [
        {
          "output_type": "stream",
          "text": [
            "Validating: 100%|██████████| 313/313 [00:01<00:00, 242.87it/s]\n",
            "Validating: 100%|██████████| 313/313 [00:01<00:00, 251.88it/s]\n",
            "Validating: 100%|██████████| 313/313 [00:01<00:00, 252.48it/s]\n",
            "Validating: 100%|██████████| 313/313 [00:01<00:00, 255.13it/s]\n",
            "Validating: 100%|██████████| 313/313 [00:01<00:00, 253.04it/s]\n",
            "Validating: 100%|██████████| 313/313 [00:01<00:00, 249.73it/s]\n",
            "Validating: 100%|██████████| 313/313 [00:01<00:00, 250.58it/s]\n",
            "Validating: 100%|██████████| 313/313 [00:01<00:00, 252.03it/s]\n",
            "Validating: 100%|██████████| 313/313 [00:01<00:00, 251.34it/s]\n",
            "Validating: 100%|██████████| 313/313 [00:01<00:00, 258.60it/s]\n",
            "Validating: 100%|██████████| 313/313 [00:01<00:00, 252.54it/s]"
          ],
          "name": "stderr"
        },
        {
          "output_type": "stream",
          "text": [
            "1 loop, best of 10: 1.23 s per loop\n"
          ],
          "name": "stdout"
        },
        {
          "output_type": "stream",
          "text": [
            "\n"
          ],
          "name": "stderr"
        }
      ]
    },
    {
      "cell_type": "code",
      "metadata": {
        "colab": {
          "base_uri": "https://localhost:8080/",
          "height": 417
        },
        "id": "1_4OXyRMkXhs",
        "outputId": "5cd16998-be58-43d5-8d87-6cf4df10555e"
      },
      "source": [
        "optim = torch.optim.Adam(bil_dist.parameters(),lr = 0.0001)\n",
        "#sched = torch.optim.lr_scheduler.StepLR(optim, step_size=1, gamma=0.5)\n",
        "cnn_train_results = train_loop(bil_dist, optim, train_loader, test_loader, n_epochs=N_EPOCHS, sched=None, distil=True, alpha = 0, temperature=10)\n",
        "cnn_train_results[\"model\"] = \"LSTM\"\n",
        "cnn_train_results"
      ],
      "execution_count": null,
      "outputs": [
        {
          "output_type": "stream",
          "text": [
            "Batch progress for epoch 0:   0%|          | 0/1250 [00:00<?, ?it/s]/usr/local/lib/python3.7/dist-packages/torch/nn/functional.py:2611: UserWarning: reduction: 'mean' divides the total loss by both the batch size and the support size.'batchmean' divides only by the batch size, and aligns with the KL div math definition.'mean' will be changed to behave the same as 'batchmean' in the next major release.\n",
            "  \"reduction: 'mean' divides the total loss by both the batch size and the support size.\"\n",
            "Batch progress for epoch 0: 100%|██████████| 1250/1250 [00:12<00:00, 96.47it/s]\n",
            "Validating: 100%|██████████| 313/313 [00:01<00:00, 254.85it/s]\n",
            "Batch progress for epoch 1: 100%|██████████| 1250/1250 [00:12<00:00, 96.56it/s]\n",
            "Validating: 100%|██████████| 313/313 [00:01<00:00, 252.24it/s]\n",
            "Batch progress for epoch 2: 100%|██████████| 1250/1250 [00:12<00:00, 96.36it/s]\n",
            "Validating: 100%|██████████| 313/313 [00:01<00:00, 251.01it/s]\n",
            "Batch progress for epoch 3: 100%|██████████| 1250/1250 [00:12<00:00, 96.41it/s]\n",
            "Validating: 100%|██████████| 313/313 [00:01<00:00, 252.12it/s]\n",
            "Batch progress for epoch 4: 100%|██████████| 1250/1250 [00:12<00:00, 96.41it/s]\n",
            "Validating: 100%|██████████| 313/313 [00:01<00:00, 247.72it/s]\n"
          ],
          "name": "stderr"
        },
        {
          "output_type": "execute_result",
          "data": {
            "text/html": [
              "<div>\n",
              "<style scoped>\n",
              "    .dataframe tbody tr th:only-of-type {\n",
              "        vertical-align: middle;\n",
              "    }\n",
              "\n",
              "    .dataframe tbody tr th {\n",
              "        vertical-align: top;\n",
              "    }\n",
              "\n",
              "    .dataframe thead th {\n",
              "        text-align: right;\n",
              "    }\n",
              "</style>\n",
              "<table border=\"1\" class=\"dataframe\">\n",
              "  <thead>\n",
              "    <tr style=\"text-align: right;\">\n",
              "      <th></th>\n",
              "      <th>epoch</th>\n",
              "      <th>train_loss</th>\n",
              "      <th>train_acc</th>\n",
              "      <th>train_f1_macro</th>\n",
              "      <th>test_loss</th>\n",
              "      <th>test_acc</th>\n",
              "      <th>test_f1_macro</th>\n",
              "      <th>model</th>\n",
              "    </tr>\n",
              "  </thead>\n",
              "  <tbody>\n",
              "    <tr>\n",
              "      <th>0</th>\n",
              "      <td>0</td>\n",
              "      <td>2.314721</td>\n",
              "      <td>0.106050</td>\n",
              "      <td>0.098226</td>\n",
              "      <td>2.290046</td>\n",
              "      <td>0.1530</td>\n",
              "      <td>0.138162</td>\n",
              "      <td>LSTM</td>\n",
              "    </tr>\n",
              "    <tr>\n",
              "      <th>1</th>\n",
              "      <td>1</td>\n",
              "      <td>2.289922</td>\n",
              "      <td>0.132200</td>\n",
              "      <td>0.128725</td>\n",
              "      <td>2.270503</td>\n",
              "      <td>0.2013</td>\n",
              "      <td>0.179642</td>\n",
              "      <td>LSTM</td>\n",
              "    </tr>\n",
              "    <tr>\n",
              "      <th>2</th>\n",
              "      <td>2</td>\n",
              "      <td>2.270370</td>\n",
              "      <td>0.155875</td>\n",
              "      <td>0.149248</td>\n",
              "      <td>2.250525</td>\n",
              "      <td>0.2367</td>\n",
              "      <td>0.216539</td>\n",
              "      <td>LSTM</td>\n",
              "    </tr>\n",
              "    <tr>\n",
              "      <th>3</th>\n",
              "      <td>3</td>\n",
              "      <td>2.247231</td>\n",
              "      <td>0.177600</td>\n",
              "      <td>0.169511</td>\n",
              "      <td>2.227586</td>\n",
              "      <td>0.2657</td>\n",
              "      <td>0.248477</td>\n",
              "      <td>LSTM</td>\n",
              "    </tr>\n",
              "    <tr>\n",
              "      <th>4</th>\n",
              "      <td>4</td>\n",
              "      <td>2.224827</td>\n",
              "      <td>0.197375</td>\n",
              "      <td>0.188602</td>\n",
              "      <td>2.201043</td>\n",
              "      <td>0.2821</td>\n",
              "      <td>0.265639</td>\n",
              "      <td>LSTM</td>\n",
              "    </tr>\n",
              "  </tbody>\n",
              "</table>\n",
              "</div>"
            ],
            "text/plain": [
              "   epoch  train_loss  train_acc  ...  test_acc  test_f1_macro  model\n",
              "0      0    2.314721   0.106050  ...    0.1530       0.138162   LSTM\n",
              "1      1    2.289922   0.132200  ...    0.2013       0.179642   LSTM\n",
              "2      2    2.270370   0.155875  ...    0.2367       0.216539   LSTM\n",
              "3      3    2.247231   0.177600  ...    0.2657       0.248477   LSTM\n",
              "4      4    2.224827   0.197375  ...    0.2821       0.265639   LSTM\n",
              "\n",
              "[5 rows x 8 columns]"
            ]
          },
          "metadata": {
            "tags": []
          },
          "execution_count": 65
        }
      ]
    },
    {
      "cell_type": "code",
      "metadata": {
        "colab": {
          "base_uri": "https://localhost:8080/"
        },
        "id": "sHsSE5DPkyLV",
        "outputId": "e3c6e412-45e9-4da6-ae97-ddd9553ee6cf"
      },
      "source": [
        "validate(test_loader, bil_dist)"
      ],
      "execution_count": null,
      "outputs": [
        {
          "output_type": "stream",
          "text": [
            "Validating: 100%|██████████| 313/313 [00:01<00:00, 247.74it/s]\n"
          ],
          "name": "stderr"
        },
        {
          "output_type": "execute_result",
          "data": {
            "text/plain": [
              "(2.026452616761668, 0.2555, 0.18224359486330463)"
            ]
          },
          "metadata": {
            "tags": []
          },
          "execution_count": 41
        }
      ]
    },
    {
      "cell_type": "code",
      "metadata": {
        "colab": {
          "base_uri": "https://localhost:8080/"
        },
        "id": "nXTZUe5YkuI6",
        "outputId": "a92373c2-efc4-40f2-8624-3670f744a82e"
      },
      "source": [
        "%%timeit -r10\n",
        "\n",
        "with single_thread():\n",
        "    validate(test_loader, bil_dist)"
      ],
      "execution_count": null,
      "outputs": [
        {
          "output_type": "stream",
          "text": [
            "Validating: 100%|██████████| 313/313 [00:01<00:00, 253.01it/s]\n",
            "Validating: 100%|██████████| 313/313 [00:01<00:00, 249.78it/s]\n",
            "Validating: 100%|██████████| 313/313 [00:01<00:00, 259.18it/s]\n",
            "Validating: 100%|██████████| 313/313 [00:01<00:00, 256.01it/s]\n",
            "Validating: 100%|██████████| 313/313 [00:01<00:00, 252.07it/s]\n",
            "Validating: 100%|██████████| 313/313 [00:01<00:00, 255.57it/s]\n",
            "Validating: 100%|██████████| 313/313 [00:01<00:00, 251.90it/s]\n",
            "Validating: 100%|██████████| 313/313 [00:01<00:00, 247.12it/s]\n",
            "Validating: 100%|██████████| 313/313 [00:01<00:00, 253.76it/s]\n",
            "Validating: 100%|██████████| 313/313 [00:01<00:00, 253.27it/s]\n",
            "Validating: 100%|██████████| 313/313 [00:01<00:00, 252.63it/s]"
          ],
          "name": "stderr"
        },
        {
          "output_type": "stream",
          "text": [
            "1 loop, best of 10: 1.22 s per loop\n"
          ],
          "name": "stdout"
        },
        {
          "output_type": "stream",
          "text": [
            "\n"
          ],
          "name": "stderr"
        }
      ]
    },
    {
      "cell_type": "markdown",
      "metadata": {
        "id": "cx8d2d1KzGCu"
      },
      "source": [
        "##Графики"
      ]
    },
    {
      "cell_type": "code",
      "metadata": {
        "id": "hFGJUbhHdAit"
      },
      "source": [
        "training_results = pd.concat([linear_model_train_results,                             \n",
        "                              cnn_dist_train_results,\n",
        "                              lstm_train_results])"
      ],
      "execution_count": null,
      "outputs": []
    },
    {
      "cell_type": "code",
      "metadata": {
        "id": "DmU4KYQYOCUS",
        "colab": {
          "base_uri": "https://localhost:8080/",
          "height": 164
        },
        "outputId": "bf23bd32-680d-4bd7-c463-d54b814f5fec"
      },
      "source": [
        "training_results.query(\"epoch == 4\").set_index(\"model\")[[\"test_acc\", \"test_f1_macro\"]]"
      ],
      "execution_count": null,
      "outputs": [
        {
          "output_type": "execute_result",
          "data": {
            "text/html": [
              "<div>\n",
              "<style scoped>\n",
              "    .dataframe tbody tr th:only-of-type {\n",
              "        vertical-align: middle;\n",
              "    }\n",
              "\n",
              "    .dataframe tbody tr th {\n",
              "        vertical-align: top;\n",
              "    }\n",
              "\n",
              "    .dataframe thead th {\n",
              "        text-align: right;\n",
              "    }\n",
              "</style>\n",
              "<table border=\"1\" class=\"dataframe\">\n",
              "  <thead>\n",
              "    <tr style=\"text-align: right;\">\n",
              "      <th></th>\n",
              "      <th>test_acc</th>\n",
              "      <th>test_f1_macro</th>\n",
              "    </tr>\n",
              "    <tr>\n",
              "      <th>model</th>\n",
              "      <th></th>\n",
              "      <th></th>\n",
              "    </tr>\n",
              "  </thead>\n",
              "  <tbody>\n",
              "    <tr>\n",
              "      <th>Linear</th>\n",
              "      <td>0.8683</td>\n",
              "      <td>0.868782</td>\n",
              "    </tr>\n",
              "    <tr>\n",
              "      <th>CNN</th>\n",
              "      <td>0.8767</td>\n",
              "      <td>0.877538</td>\n",
              "    </tr>\n",
              "    <tr>\n",
              "      <th>LSTM</th>\n",
              "      <td>0.7356</td>\n",
              "      <td>0.734328</td>\n",
              "    </tr>\n",
              "  </tbody>\n",
              "</table>\n",
              "</div>"
            ],
            "text/plain": [
              "        test_acc  test_f1_macro\n",
              "model                          \n",
              "Linear    0.8683       0.868782\n",
              "CNN       0.8767       0.877538\n",
              "LSTM      0.7356       0.734328"
            ]
          },
          "metadata": {
            "tags": []
          },
          "execution_count": 62
        }
      ]
    },
    {
      "cell_type": "code",
      "metadata": {
        "id": "DX6TEmNxOA6D",
        "colab": {
          "base_uri": "https://localhost:8080/",
          "height": 368
        },
        "outputId": "a3fa3052-fd21-4f5d-d87a-33c0637d1d41"
      },
      "source": [
        "alt.Chart(training_results).mark_line().encode(\n",
        "    x=\"epoch:Q\",\n",
        "    y=\"test_f1_macro:Q\",\n",
        "    color=\"model\"\n",
        ")"
      ],
      "execution_count": null,
      "outputs": [
        {
          "output_type": "execute_result",
          "data": {
            "text/plain": [
              "alt.Chart(...)"
            ],
            "text/html": [
              "\n",
              "<div id=\"altair-viz-2221b59fcb2e4b49abe49122ae144c53\"></div>\n",
              "<script type=\"text/javascript\">\n",
              "  (function(spec, embedOpt){\n",
              "    let outputDiv = document.currentScript.previousElementSibling;\n",
              "    if (outputDiv.id !== \"altair-viz-2221b59fcb2e4b49abe49122ae144c53\") {\n",
              "      outputDiv = document.getElementById(\"altair-viz-2221b59fcb2e4b49abe49122ae144c53\");\n",
              "    }\n",
              "    const paths = {\n",
              "      \"vega\": \"https://cdn.jsdelivr.net/npm//vega@5?noext\",\n",
              "      \"vega-lib\": \"https://cdn.jsdelivr.net/npm//vega-lib?noext\",\n",
              "      \"vega-lite\": \"https://cdn.jsdelivr.net/npm//vega-lite@4.8.1?noext\",\n",
              "      \"vega-embed\": \"https://cdn.jsdelivr.net/npm//vega-embed@6?noext\",\n",
              "    };\n",
              "\n",
              "    function loadScript(lib) {\n",
              "      return new Promise(function(resolve, reject) {\n",
              "        var s = document.createElement('script');\n",
              "        s.src = paths[lib];\n",
              "        s.async = true;\n",
              "        s.onload = () => resolve(paths[lib]);\n",
              "        s.onerror = () => reject(`Error loading script: ${paths[lib]}`);\n",
              "        document.getElementsByTagName(\"head\")[0].appendChild(s);\n",
              "      });\n",
              "    }\n",
              "\n",
              "    function showError(err) {\n",
              "      outputDiv.innerHTML = `<div class=\"error\" style=\"color:red;\">${err}</div>`;\n",
              "      throw err;\n",
              "    }\n",
              "\n",
              "    function displayChart(vegaEmbed) {\n",
              "      vegaEmbed(outputDiv, spec, embedOpt)\n",
              "        .catch(err => showError(`Javascript Error: ${err.message}<br>This usually means there's a typo in your chart specification. See the javascript console for the full traceback.`));\n",
              "    }\n",
              "\n",
              "    if(typeof define === \"function\" && define.amd) {\n",
              "      requirejs.config({paths});\n",
              "      require([\"vega-embed\"], displayChart, err => showError(`Error loading script: ${err.message}`));\n",
              "    } else if (typeof vegaEmbed === \"function\") {\n",
              "      displayChart(vegaEmbed);\n",
              "    } else {\n",
              "      loadScript(\"vega\")\n",
              "        .then(() => loadScript(\"vega-lite\"))\n",
              "        .then(() => loadScript(\"vega-embed\"))\n",
              "        .catch(showError)\n",
              "        .then(() => displayChart(vegaEmbed));\n",
              "    }\n",
              "  })({\"config\": {\"view\": {\"continuousWidth\": 400, \"continuousHeight\": 300}}, \"data\": {\"name\": \"data-02451cbcd3f2c823e2d529eaaa89c30a\"}, \"mark\": \"line\", \"encoding\": {\"color\": {\"type\": \"nominal\", \"field\": \"model\"}, \"x\": {\"type\": \"quantitative\", \"field\": \"epoch\"}, \"y\": {\"type\": \"quantitative\", \"field\": \"test_f1_macro\"}}, \"$schema\": \"https://vega.github.io/schema/vega-lite/v4.8.1.json\", \"datasets\": {\"data-02451cbcd3f2c823e2d529eaaa89c30a\": [{\"epoch\": 0, \"train_loss\": 0.590384052397841, \"train_acc\": 0.570725, \"train_f1_macro\": 0.5703065973242857, \"test_loss\": 0.5117175499566446, \"test_acc\": 0.8314, \"test_f1_macro\": 0.8325285075154213, \"model\": \"Linear\"}, {\"epoch\": 1, \"train_loss\": 0.2279740455528073, \"train_acc\": 0.8461, \"train_f1_macro\": 0.8455363466045537, \"test_loss\": 0.43401093783374795, \"test_acc\": 0.8553, \"test_f1_macro\": 0.8562910467785396, \"model\": \"Linear\"}, {\"epoch\": 2, \"train_loss\": 0.1991853884669315, \"train_acc\": 0.863675, \"train_f1_macro\": 0.8631201935502814, \"test_loss\": 0.4082625872030045, \"test_acc\": 0.8605, \"test_f1_macro\": 0.8612085263849645, \"model\": \"Linear\"}, {\"epoch\": 3, \"train_loss\": 0.18766558821036225, \"train_acc\": 0.87095, \"train_f1_macro\": 0.8704415019659294, \"test_loss\": 0.3940491940076359, \"test_acc\": 0.8656, \"test_f1_macro\": 0.866170176874023, \"model\": \"Linear\"}, {\"epoch\": 4, \"train_loss\": 0.1822806130229491, \"train_acc\": 0.8754, \"train_f1_macro\": 0.874920520088916, \"test_loss\": 0.38633462824760534, \"test_acc\": 0.8683, \"test_f1_macro\": 0.8687822653698314, \"model\": \"Linear\"}, {\"epoch\": 0, \"train_loss\": 0.05635445646196604, \"train_acc\": 0.924525, \"train_f1_macro\": 0.9244162784381308, \"test_loss\": 0.4123328050818687, \"test_acc\": 0.8812, \"test_f1_macro\": 0.8817766523796665, \"model\": \"CNN\"}, {\"epoch\": 1, \"train_loss\": 0.06198442071825266, \"train_acc\": 0.9266, \"train_f1_macro\": 0.9264995405995615, \"test_loss\": 0.4278035683158678, \"test_acc\": 0.88, \"test_f1_macro\": 0.8809261397280546, \"model\": \"CNN\"}, {\"epoch\": 2, \"train_loss\": 0.06585467189848423, \"train_acc\": 0.928975, \"train_f1_macro\": 0.9288914921806904, \"test_loss\": 0.44194484171204673, \"test_acc\": 0.8752, \"test_f1_macro\": 0.8759909271854506, \"model\": \"CNN\"}, {\"epoch\": 3, \"train_loss\": 0.07219464214891196, \"train_acc\": 0.928775, \"train_f1_macro\": 0.928689498406207, \"test_loss\": 0.4475077732730978, \"test_acc\": 0.8774, \"test_f1_macro\": 0.8783214911929784, \"model\": \"CNN\"}, {\"epoch\": 4, \"train_loss\": 0.07595932632237673, \"train_acc\": 0.93125, \"train_f1_macro\": 0.9311505601902332, \"test_loss\": 0.4636354479974451, \"test_acc\": 0.8767, \"test_f1_macro\": 0.8775376783067432, \"model\": \"CNN\"}, {\"epoch\": 0, \"train_loss\": 1.1458105272319168, \"train_acc\": 0.13935, \"train_f1_macro\": 0.1322460088664426, \"test_loss\": 2.212771271745237, \"test_acc\": 0.4424, \"test_f1_macro\": 0.43763499941581874, \"model\": \"LSTM\"}, {\"epoch\": 1, \"train_loss\": 1.0815165159570053, \"train_acc\": 0.279725, \"train_f1_macro\": 0.2760855745943272, \"test_loss\": 2.049230362660588, \"test_acc\": 0.6108, \"test_f1_macro\": 0.6019078151374122, \"model\": \"LSTM\"}, {\"epoch\": 2, \"train_loss\": 0.9839385686581954, \"train_acc\": 0.4211, \"train_f1_macro\": 0.41177735186856584, \"test_loss\": 1.7968654941065243, \"test_acc\": 0.668, \"test_f1_macro\": 0.6612237222565087, \"model\": \"LSTM\"}, {\"epoch\": 3, \"train_loss\": 0.8467758070764132, \"train_acc\": 0.532675, \"train_f1_macro\": 0.5207057161967256, \"test_loss\": 1.4548262079683736, \"test_acc\": 0.7004, \"test_f1_macro\": 0.6954575457332919, \"model\": \"LSTM\"}, {\"epoch\": 4, \"train_loss\": 0.6860179788325913, \"train_acc\": 0.613275, \"train_f1_macro\": 0.6047964148588608, \"test_loss\": 1.1346018499078843, \"test_acc\": 0.7356, \"test_f1_macro\": 0.7343275706303882, \"model\": \"LSTM\"}, {\"epoch\": 5, \"train_loss\": 0.5729960763412528, \"train_acc\": 0.663675, \"train_f1_macro\": 0.6599075665493477, \"test_loss\": 0.9456764259658301, \"test_acc\": 0.7567, \"test_f1_macro\": 0.7567787063450513, \"model\": \"LSTM\"}, {\"epoch\": 6, \"train_loss\": 0.5026314602150582, \"train_acc\": 0.695675, \"train_f1_macro\": 0.6936224426504536, \"test_loss\": 0.817848021420427, \"test_acc\": 0.7703, \"test_f1_macro\": 0.7706572406808169, \"model\": \"LSTM\"}, {\"epoch\": 7, \"train_loss\": 0.45323887337455526, \"train_acc\": 0.71605, \"train_f1_macro\": 0.714683335374996, \"test_loss\": 0.7339033628233705, \"test_acc\": 0.784, \"test_f1_macro\": 0.7849453568969447, \"model\": \"LSTM\"}, {\"epoch\": 8, \"train_loss\": 0.42143781729307955, \"train_acc\": 0.731875, \"train_f1_macro\": 0.730307245536057, \"test_loss\": 0.6830381526352879, \"test_acc\": 0.7951, \"test_f1_macro\": 0.7957492673330705, \"model\": \"LSTM\"}, {\"epoch\": 9, \"train_loss\": 0.3933504602593835, \"train_acc\": 0.746275, \"train_f1_macro\": 0.7447492095564687, \"test_loss\": 0.6394845095876688, \"test_acc\": 0.8011, \"test_f1_macro\": 0.8019679158993849, \"model\": \"LSTM\"}]}}, {\"mode\": \"vega-lite\"});\n",
              "</script>"
            ]
          },
          "metadata": {
            "tags": []
          },
          "execution_count": 63
        }
      ]
    }
  ]
}