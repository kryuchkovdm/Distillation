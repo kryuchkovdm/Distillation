{
  "nbformat": 4,
  "nbformat_minor": 0,
  "metadata": {
    "colab": {
      "name": "LSTM.ipynb",
      "provenance": [],
      "authorship_tag": "ABX9TyPYajv+x/eyvmI/4xIuWHFx",
      "include_colab_link": true
    },
    "kernelspec": {
      "name": "python3",
      "display_name": "Python 3"
    },
    "language_info": {
      "name": "python"
    }
  },
  "cells": [
    {
      "cell_type": "markdown",
      "metadata": {
        "id": "view-in-github",
        "colab_type": "text"
      },
      "source": [
        "<a href=\"https://colab.research.google.com/github/kryuchkovdm/Distillation/blob/master/models/LSTM.ipynb\" target=\"_parent\"><img src=\"https://colab.research.google.com/assets/colab-badge.svg\" alt=\"Open In Colab\"/></a>"
      ]
    },
    {
      "cell_type": "code",
      "metadata": {
        "id": "vkcvUzqQB1Is"
      },
      "source": [
        "class BiLSTM(nn.Module):\n",
        "    def __init__(self, n_vocabs, embed_dims, n_lstm_units, n_lstm_layers, n_output_classes,special_chars=[], use_dropout=True):\n",
        "        super(BiLSTM, self).__init__()\n",
        "        self.v = n_vocabs\n",
        "        self.e = embed_dims\n",
        "        self.u = n_lstm_units\n",
        "        self.l = n_lstm_layers\n",
        "        self.o = n_output_classes\n",
        "\n",
        "        self.embed = nn.Embedding(\n",
        "            self.v,\n",
        "            self.e\n",
        "            )\n",
        "        self.bilstm = nn.LSTM(\n",
        "            input_size = self.e,\n",
        "            hidden_size = self.u,\n",
        "            num_layers = self.l,\n",
        "            batch_first = True,\n",
        "            bidirectional = True,\n",
        "            dropout=0.5 if use_dropout else 0.\n",
        "        )\n",
        "        self.dropout = nn.Dropout(0.5 if use_dropout else 0.)\n",
        "        self.linear = nn.Linear(\n",
        "            self.u * 2,\n",
        "            self.o\n",
        "        )\n",
        "        for special in special_chars:\n",
        "            self.embed.weight.data[special] = torch.zeros(embed_dims)\n",
        "    def forward(self, X):\n",
        "        h0 = torch.zeros(self.l * 2, X.size(0), self.u).to(device)\n",
        "        c0 = torch.zeros(self.l * 2, X.size(0), self.u).to(device)\n",
        "\n",
        "        out = self.embed(X)\n",
        "        out, _ = self.bilstm(out, (h0, c0))\n",
        "        out, _ = torch.max(out, 1)\n",
        "        out = self.dropout(out)\n",
        "        out = self.linear(out)\n",
        "                \n",
        "        return out"
      ],
      "execution_count": null,
      "outputs": []
    }
  ]
}