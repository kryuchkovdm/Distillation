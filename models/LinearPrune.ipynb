{
  "nbformat": 4,
  "nbformat_minor": 0,
  "metadata": {
    "colab": {
      "name": "LinearPrune.ipynb",
      "provenance": [],
      "authorship_tag": "ABX9TyM6gEYTk2Oyyl2K+Zmd1Bbo",
      "include_colab_link": true
    },
    "kernelspec": {
      "name": "python3",
      "display_name": "Python 3"
    },
    "language_info": {
      "name": "python"
    }
  },
  "cells": [
    {
      "cell_type": "markdown",
      "metadata": {
        "id": "view-in-github",
        "colab_type": "text"
      },
      "source": [
        "<a href=\"https://colab.research.google.com/github/kryuchkovdm/Distillation/blob/master/models/LinearPrune.ipynb\" target=\"_parent\"><img src=\"https://colab.research.google.com/assets/colab-badge.svg\" alt=\"Open In Colab\"/></a>"
      ]
    },
    {
      "cell_type": "code",
      "metadata": {
        "id": "buFPChbPBj1p"
      },
      "source": [
        "class LinearModelPrune(nn.Module):\n",
        "    \n",
        "    def __init__(self, n_vocab, n_labels, embedding_dim, padding_idx):\n",
        "        super(LinearModelPrune, self).__init__()\n",
        "        self.embeddings = nn.Embedding(n_vocab, embedding_dim, padding_idx=padding_idx)\n",
        "        self.output = nn.Linear(embedding_dim, n_labels)\n",
        "        with torch.no_grad():\n",
        "            self.embeddings.weight.uniform_(to=1.0 / embedding_dim)\n",
        "            self.embeddings.weight[padding_idx] = 0            \n",
        "            self.output.weight.zero_()\n",
        "\n",
        "    def forward(self, input_ids):\n",
        "        \"\"\"Only input ids are required - kwargs are for API compat with BERT.\"\"\"\n",
        "        \n",
        "        X = self.embeddings(input_ids)\n",
        "        X = X.mean(dim=1)\n",
        "        X = self.output(X)\n",
        "        return X\n",
        "\n",
        "    def prune(self, rate):\n",
        "        prune.l1_unstructured(self.output, 'weight', amount=rate)"
      ],
      "execution_count": null,
      "outputs": []
    }
  ]
}